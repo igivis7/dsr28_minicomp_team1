{
 "cells": [
  {
   "cell_type": "markdown",
   "id": "93a93ebf",
   "metadata": {},
   "source": [
    "# Test set performance"
   ]
  },
  {
   "cell_type": "code",
   "execution_count": 87,
   "id": "9ca10f56",
   "metadata": {},
   "outputs": [],
   "source": [
    "# Define classes for preprocessing\n",
    "from sklearn.base import BaseEstimator, TransformerMixin\n",
    "from sklearn.impute import SimpleImputer\n",
    "from sklearn.pipeline import Pipeline\n",
    "from sklearn.preprocessing import StandardScaler\n",
    "from sklearn.preprocessing import OrdinalEncoder\n",
    "from sklearn.pipeline import FeatureUnion\n",
    "from pandas.tseries.offsets import DateOffset\n",
    "\n",
    "# select specific columns for pipeline\n",
    "class DataFrameSelector(BaseEstimator, TransformerMixin):\n",
    "    def __init__(self, attribute_names):\n",
    "        self.attribute_names = attribute_names\n",
    "    def fit(self, X, y=None):\n",
    "        return self\n",
    "    def transform(self, X):\n",
    "        return X[self.attribute_names].values\n",
    "\n",
    "# preprocessing:\n",
    "# - merge in store data\n",
    "# - add additional columns\n",
    "# - remove unneeded rows and columns\n",
    "class AttributeAdder(BaseEstimator, TransformerMixin):\n",
    "    def __init__(self):\n",
    "        self.storefile = pd.read_csv('data/store.csv')\n",
    "    def fit(self, X, y=None):\n",
    "        X['Date'] = pd.to_datetime(X['Date'], errors='coerce')\n",
    "        last_date = max(X['Date'])\n",
    "        interval_start = last_date - DateOffset(months=3)\n",
    "        self.stores = X.loc[(X['Store'] > 0) & (X['Sales'] > 0) & (X['Date'] > interval_start), \n",
    "                            ['Store', 'Sales']].groupby(['Store'])\n",
    "        \n",
    "        return self\n",
    "    def transform(self, X, y=None):     \n",
    "        \n",
    "        # remove Sales =0 \n",
    "        X = X[X['Sales'] > 0]\n",
    "        \n",
    "        # remove Stores without id\n",
    "        X = X[X['Store'] > 0]\n",
    "    \n",
    "        \n",
    "        # merge in store data\n",
    "        X = pd.merge(X, self.storefile, how='left', on='Store')\n",
    "        \n",
    "        # create features mean and median of Sales per store over last 3 months\n",
    " \n",
    "        for store, v in self.stores['Sales']:\n",
    "            X.loc[X['Store'] == store, 'Store_mean'] = v.mean()\n",
    "            X.loc[X['Store'] == store, 'Store_median'] = v.median()\n",
    "       \n",
    "        # Create more date columns\n",
    "        X['Date'] = pd.to_datetime(X['Date'], errors='coerce')\n",
    "        X['Year'] = X.Date.dt.year\n",
    "        X['Month'] = X.Date.dt.month\n",
    "        X['DayOfWeek'] = X.Date.dt.dayofweek\n",
    "        \n",
    "        # Create feature Competition since months, cap for high values\n",
    "        X[\"CompetitionSinceMonths\"] = ((X['Year']- X['CompetitionOpenSinceYear']) * 12 +\n",
    "                                           (X['Month'] - X['CompetitionOpenSinceMonth']))\n",
    "        X.loc[X[\"CompetitionSinceMonths\"] < 0, \"CompetitionSinceMonths\"] = 0\n",
    "        X.loc[X[\"CompetitionSinceMonths\"] > 24, \"CompetitionSinceMonths\"] = 24\n",
    "        \n",
    "        # Set competition distance at cap if competition is not yet open\n",
    "        max_distance = 10000.\n",
    "        X.loc[X[\"CompetitionSinceMonths\"] == 0, 'CompetitionDistance'] = max_distance\n",
    "        X.loc[X['CompetitionDistance'] > max_distance, 'CompetitionDistance']  = max_distance\n",
    "        \n",
    "        # Create promo since column, cap for high values\n",
    "        X[\"Promo2SinceWeeks\"] = ((X['Year']- X['Promo2SinceYear']) * 52 +\n",
    "                                           (X['Month'] - X['Promo2SinceWeek']))\n",
    "        X.loc[X[\"Promo2SinceWeeks\"] < 0, \"Promo2SinceWeeks\"] = 0\n",
    "        X.loc[X[\"Promo2SinceWeeks\"] > 12, \"Promo2SinceWeeks\"] = 12\n",
    "        \n",
    "        # Clean up state holiday\n",
    "        X['StateHoliday'] = X['StateHoliday'].replace(0.0, \"0\")\n",
    "        X['StateHoliday'] = X['StateHoliday'].replace(\"0\", 0)\n",
    "        X['StateHoliday'] = X['StateHoliday'].replace(\"a\", \"Public\")\n",
    "        X['StateHoliday'] = X['StateHoliday'].replace(\"b\", \"Easter\")\n",
    "        X['StateHoliday'] = X['StateHoliday'].replace(\"c\", \"Christmas\")\n",
    "        \n",
    "        # drop columns\n",
    "        X = X.drop(columns = ['Customers', 'Open', \"CompetitionOpenSinceMonth\",\n",
    "                             'CompetitionOpenSinceYear', 'Promo2SinceWeek', 'Promo2SinceYear',\n",
    "                             'PromoInterval', 'Date']\n",
    "        )\n",
    "        self.attribute_names = X.columns\n",
    "        return X\n",
    "\n",
    "\n",
    "# define evaluation metrics RMSPE\n",
    "def metric(preds, actuals):\n",
    "    preds = preds.reshape(-1)\n",
    "    actuals = actuals.reshape(-1)\n",
    "    assert preds.shape == actuals.shape\n",
    "    return 100 * np.linalg.norm((actuals - preds) / actuals) / np.sqrt(preds.shape[0])\n",
    "\n",
    "\n",
    "# full pipeline including attribute adding, missing value imputing\n",
    "# one-hot encoding\n",
    "def full_pipeline(data, fit=True):\n",
    "    \n",
    "    if fit:\n",
    "        transformed = pp.fit_transform(data)\n",
    "    else:\n",
    "        transformed = pp.transform(data) \n",
    "    \n",
    "    impute_miss_cat = ['SchoolHoliday', 'StateHoliday', \"Promo\"]\n",
    "    si = SimpleImputer(strategy=\"constant\", fill_value = 0)\n",
    "    \n",
    "    dfs = DataFrameSelector(impute_miss_cat)\n",
    "    t = dfs.fit_transform(transformed)\n",
    "    cat_tr = si.fit_transform(t)\n",
    "\n",
    "    transformed.loc[:, impute_miss_cat] = cat_tr\n",
    "    \n",
    "    numerical_features = ['CompetitionDistance', \"CompetitionSinceMonths\", \"Promo2SinceWeeks\"]\n",
    "                    \n",
    "    target = ['Sales']\n",
    "    num_columns = numerical_features + target\n",
    "    num_pipeline = Pipeline([\n",
    "        ('selector', DataFrameSelector(num_columns)),\n",
    "        ('imputer', SimpleImputer(strategy=\"median\")),\n",
    "       \n",
    "    ])\n",
    "    \n",
    "    num_tr = num_pipeline.fit_transform(transformed)\n",
    "    transformed.loc[:, num_columns] = num_tr        \n",
    "    \n",
    "    one_hot_cat = ['StateHoliday', 'StoreType', 'Assortment',\n",
    "                   'Month', 'DayOfWeek']\n",
    "    transformed = pd.get_dummies(transformed, columns=one_hot_cat)\n",
    "    return transformed"
   ]
  },
  {
   "cell_type": "code",
   "execution_count": 88,
   "id": "e7faa7bb",
   "metadata": {
    "scrolled": true
   },
   "outputs": [],
   "source": [
    "# Load data\n",
    "import pandas as pd\n",
    "train_data = pd.read_csv(\"data/train.csv\")\n",
    "store = pd.read_csv('data/store.csv')\n",
    "\n",
    "\n",
    "# Insert test data link here\n",
    "test = pd.read_csv(\"https://raw.githubusercontent.com/igivis7/dsr28_minicomp_team1/main/data/holdout.csv\")\n"
   ]
  },
  {
   "cell_type": "code",
   "execution_count": 90,
   "id": "b57f70e9",
   "metadata": {},
   "outputs": [],
   "source": [
    "# run preprocessing on training to fit some values\n",
    "train_transformed = full_pipeline(train_data)"
   ]
  },
  {
   "cell_type": "code",
   "execution_count": 91,
   "id": "5e59075f",
   "metadata": {},
   "outputs": [],
   "source": [
    "# run preprocessing on test set\n",
    "test_trans = full_pipeline(test, fit=False)\n",
    "for c in train_transformed.columns:\n",
    "    if not c in test_trans.columns:\n",
    "        test_trans[c] = 0\n"
   ]
  },
  {
   "cell_type": "code",
   "execution_count": 92,
   "id": "0bb4bddf",
   "metadata": {},
   "outputs": [],
   "source": [
    "# columns to keep\n",
    "keep_columns = [\"Promo\", \"Promo2SinceWeeks\", \"CompetitionSinceMonths\", \n",
    "                \"Store_mean\", \"CompetitionDistance\", \"Month_12\", \"DayOfWeek_0\", \n",
    "                \"DayOfWeek_1\", \"DayOfWeek_5\"]\n",
    "\n",
    "X_train = train_transformed.loc[:, keep_columns]\n",
    "y_train = train_transformed['Sales']\n",
    "X_valid = test_trans.loc[:, keep_columns]\n",
    "y_valid = test_trans['Sales']"
   ]
  },
  {
   "cell_type": "code",
   "execution_count": 95,
   "id": "d4c6154e",
   "metadata": {},
   "outputs": [
    {
     "name": "stdout",
     "output_type": "stream",
     "text": [
      "Prediction: decision tree, RMSPE=26.51%\n"
     ]
    }
   ],
   "source": [
    "from sklearn.tree import DecisionTreeRegressor\n",
    "import pickle\n",
    "\n",
    "tree_reg_trained = pickle.load(open(\"model/tree_26.5.sav\", \"rb\"))\n",
    "y_pred = tree_reg_trained.predict(X_valid)\n",
    "rmspe = metric(y_pred, np.array(y_valid))\n",
    "print(f'Prediction: decision tree, RMSPE={rmspe:.2f}%')"
   ]
  },
  {
   "cell_type": "markdown",
   "id": "e2a55fcf",
   "metadata": {},
   "source": [
    "# Data cleaning"
   ]
  },
  {
   "cell_type": "code",
   "execution_count": 35,
   "id": "9fb072b3",
   "metadata": {},
   "outputs": [],
   "source": [
    "pp = AttributeAdder()"
   ]
  },
  {
   "cell_type": "code",
   "execution_count": 39,
   "id": "f074ef06",
   "metadata": {},
   "outputs": [
    {
     "name": "stdout",
     "output_type": "stream",
     "text": [
      "<class 'pandas.core.frame.DataFrame'>\n",
      "Int64Index: 497376 entries, 0 to 497375\n",
      "Data columns (total 41 columns):\n",
      " #   Column                  Non-Null Count   Dtype  \n",
      "---  ------                  --------------   -----  \n",
      " 0   Store                   497376 non-null  float64\n",
      " 1   Sales                   497376 non-null  float64\n",
      " 2   Promo                   497376 non-null  float64\n",
      " 3   SchoolHoliday           497376 non-null  float64\n",
      " 4   CompetitionDistance     497376 non-null  float64\n",
      " 5   Promo2                  497376 non-null  int64  \n",
      " 6   Store_mean              497376 non-null  float64\n",
      " 7   Store_median            497376 non-null  float64\n",
      " 8   Year                    497376 non-null  int64  \n",
      " 9   CompetitionSinceMonths  497376 non-null  float64\n",
      " 10  Promo2SinceWeeks        497376 non-null  float64\n",
      " 11  StateHoliday_0          497376 non-null  uint8  \n",
      " 12  StateHoliday_Christmas  497376 non-null  uint8  \n",
      " 13  StateHoliday_Easter     497376 non-null  uint8  \n",
      " 14  StateHoliday_Public     497376 non-null  uint8  \n",
      " 15  StoreType_a             497376 non-null  uint8  \n",
      " 16  StoreType_b             497376 non-null  uint8  \n",
      " 17  StoreType_c             497376 non-null  uint8  \n",
      " 18  StoreType_d             497376 non-null  uint8  \n",
      " 19  Assortment_a            497376 non-null  uint8  \n",
      " 20  Assortment_b            497376 non-null  uint8  \n",
      " 21  Assortment_c            497376 non-null  uint8  \n",
      " 22  Month_1                 497376 non-null  uint8  \n",
      " 23  Month_2                 497376 non-null  uint8  \n",
      " 24  Month_3                 497376 non-null  uint8  \n",
      " 25  Month_4                 497376 non-null  uint8  \n",
      " 26  Month_5                 497376 non-null  uint8  \n",
      " 27  Month_6                 497376 non-null  uint8  \n",
      " 28  Month_7                 497376 non-null  uint8  \n",
      " 29  Month_8                 497376 non-null  uint8  \n",
      " 30  Month_9                 497376 non-null  uint8  \n",
      " 31  Month_10                497376 non-null  uint8  \n",
      " 32  Month_11                497376 non-null  uint8  \n",
      " 33  Month_12                497376 non-null  uint8  \n",
      " 34  DayOfWeek_0             497376 non-null  uint8  \n",
      " 35  DayOfWeek_1             497376 non-null  uint8  \n",
      " 36  DayOfWeek_2             497376 non-null  uint8  \n",
      " 37  DayOfWeek_3             497376 non-null  uint8  \n",
      " 38  DayOfWeek_4             497376 non-null  uint8  \n",
      " 39  DayOfWeek_5             497376 non-null  uint8  \n",
      " 40  DayOfWeek_6             497376 non-null  uint8  \n",
      "dtypes: float64(9), int64(2), uint8(30)\n",
      "memory usage: 59.8 MB\n"
     ]
    }
   ],
   "source": [
    "\n",
    "train_transformed = full_pip(newtrain)\n",
    "train_transformed.info()"
   ]
  },
  {
   "cell_type": "code",
   "execution_count": 954,
   "id": "b47c31d1",
   "metadata": {},
   "outputs": [],
   "source": [
    "train_transformed.to_csv(\"data/fulltrain_transformed.csv\", header=True)"
   ]
  },
  {
   "cell_type": "code",
   "execution_count": 40,
   "id": "f7840def",
   "metadata": {},
   "outputs": [],
   "source": [
    "valid_trans = full_pip(validation, fit=False)\n",
    "for c in train_transformed.columns:\n",
    "    if not c in valid_trans.columns:\n",
    "        valid_trans[c] = 0"
   ]
  },
  {
   "cell_type": "code",
   "execution_count": 956,
   "id": "eb7b8f03",
   "metadata": {},
   "outputs": [],
   "source": [
    "valid_trans.to_csv(\"data/holdout_transformed.csv\", header=True)"
   ]
  },
  {
   "cell_type": "markdown",
   "id": "a96bdce8",
   "metadata": {},
   "source": [
    "# Stationary model"
   ]
  },
  {
   "cell_type": "code",
   "execution_count": 75,
   "id": "a421b847",
   "metadata": {},
   "outputs": [
    {
     "name": "stdout",
     "output_type": "stream",
     "text": [
      "Prediction: linear regression, RMSPE=32.42%\n",
      "On training set, RMSPE=29.76%\n"
     ]
    }
   ],
   "source": [
    "# Linear regression model\n",
    "from sklearn.linear_model import LinearRegression\n",
    "\n",
    "lin_reg = LinearRegression()\n",
    "lin_reg.fit(X_train, y_train)\n",
    "y_pred = lin_reg.predict(X_valid)\n",
    "rmspe = metric(y_pred, np.array(y_valid))\n",
    "\n",
    "print(f'Prediction: linear regression, RMSPE={rmspe:.2f}%')\n",
    "y_pred_train = lin_reg.predict(X_train)\n",
    "rmspe = metric(y_pred_train, np.array(y_train))\n",
    "print(f'On training set, RMSPE={rmspe:.2f}%')"
   ]
  },
  {
   "cell_type": "code",
   "execution_count": 82,
   "id": "722d24d6",
   "metadata": {},
   "outputs": [
    {
     "name": "stdout",
     "output_type": "stream",
     "text": [
      "Prediction: decision tree, RMSPE=26.51%\n"
     ]
    }
   ],
   "source": [
    "from sklearn.tree import DecisionTreeRegressor\n",
    "\n",
    "tree_reg = DecisionTreeRegressor()\n",
    "tree_reg.fit(X_train, y_train)\n",
    "y_pred = tree_reg.predict(X_valid)\n",
    "rmspe = metric(y_pred, np.array(y_valid))\n",
    "print(f'Prediction: decision tree, RMSPE={rmspe:.2f}%')"
   ]
  },
  {
   "cell_type": "code",
   "execution_count": 83,
   "id": "ab7fa1a7",
   "metadata": {},
   "outputs": [],
   "source": [
    "import pickle\n",
    "filename = 'tree_26.5.sav'\n",
    "pickle.dump(tree_reg, open(filename, 'wb'))\n"
   ]
  },
  {
   "cell_type": "code",
   "execution_count": 65,
   "id": "b469b415",
   "metadata": {},
   "outputs": [
    {
     "name": "stdout",
     "output_type": "stream",
     "text": [
      "Gradient boosting Reg, RMSPE=34.09%\n"
     ]
    }
   ],
   "source": [
    "from sklearn.ensemble import GradientBoostingRegressor\n",
    "gbrt = GradientBoostingRegressor(max_depth=2, n_estimators=3, learning_rate=1.)\n",
    "gbrt.fit(X_train, y_train)\n",
    "y_pred = gbrt.predict(X_valid)\n",
    "rmspe = metric(y_pred, np.array(y_valid))\n",
    "print(f'Gradient boosting Reg, RMSPE={rmspe:.2f}%')"
   ]
  },
  {
   "cell_type": "code",
   "execution_count": 56,
   "id": "7f34cbd2",
   "metadata": {},
   "outputs": [
    {
     "name": "stdout",
     "output_type": "stream",
     "text": [
      "XGBoost, RMSPE=27.34%\n"
     ]
    }
   ],
   "source": [
    "import xgboost as xgb\n",
    "from xgboost import plot_importance\n",
    "\n",
    "dtrain = xgb.DMatrix(X_train, label=y_train)\n",
    "deval = xgb.DMatrix(X_valid, label=y_valid)\n",
    "\n",
    "params_upd1 = {\"objective\": \"reg:squarederror\", #since it is a regression problem\n",
    "          \"booster\" : \"gbtree\",     #tree\n",
    "          \"eta\": 0.1,              #learning rate   to reduce overfitting issues\n",
    "    \"max_depth\": 10,          #depth of the tree\n",
    "    #      \"eta\": 1.0,     \n",
    "    #    \"max_depth\": 2,\n",
    "          \"subsample\": 0.9,         #subsample the data prior to growing trees - overcomes overfitting\n",
    "          \"colsample_bytree\": 0.7,  #subsampling of columns for each tree\n",
    "          \"seed\": 10                \n",
    "          }\n",
    "num_of_trees = 30\n",
    "num_of_trees = 100\n",
    "early_stopping_rounds_N=20\n",
    "\n",
    "xgb_model_MK2 = xgb.train(\n",
    "                          params_upd1, \n",
    "                          dtrain, \n",
    "                          num_boost_round=num_of_trees,\n",
    "                          early_stopping_rounds=early_stopping_rounds_N, \n",
    "                          evals=[(deval, \"Eval\")], \n",
    "                          verbose_eval=False\n",
    "                         )\n",
    "\n",
    "y_pred = xgb_model_MK2.predict(deval)\n",
    "rmspe = metric(y_pred, np.array(y_valid))\n",
    "print(f'XGBoost, RMSPE={rmspe:.2f}%')"
   ]
  },
  {
   "cell_type": "code",
   "execution_count": 58,
   "id": "657d2786",
   "metadata": {},
   "outputs": [
    {
     "name": "stdout",
     "output_type": "stream",
     "text": [
      "Prediction: random forest, RMSPE=26.07%\n"
     ]
    }
   ],
   "source": [
    "from sklearn.ensemble import RandomForestRegressor\n",
    "forest_reg = RandomForestRegressor(max_depth=20)\n",
    "forest_reg.fit(X_train, y_train)\n",
    "y_pred = forest_reg.predict(X_valid)\n",
    "rmspe = metric(y_pred, np.array(y_valid))\n",
    "print(f'Prediction: random forest, RMSPE={rmspe:.2f}%')"
   ]
  },
  {
   "cell_type": "code",
   "execution_count": 61,
   "id": "5ef9a901",
   "metadata": {
    "scrolled": true
   },
   "outputs": [
    {
     "data": {
      "application/vnd.plotly.v1+json": {
       "config": {
        "plotlyServerURL": "https://plot.ly"
       },
       "data": [
        {
         "hovertemplate": "col=%{x}<br>importance=%{y}<extra></extra>",
         "legendgroup": "",
         "marker": {
          "color": "#636efa",
          "symbol": "circle"
         },
         "mode": "markers",
         "name": "",
         "orientation": "v",
         "showlegend": false,
         "type": "scatter",
         "x": [
          "Promo2SinceWeeks",
          "DayOfWeek_1",
          "DayOfWeek_5",
          "CompetitionSinceMonths",
          "Month_12",
          "CompetitionDistance",
          "DayOfWeek_0",
          "Promo",
          "Store_mean"
         ],
         "xaxis": "x",
         "y": [
          0.0051993397976760015,
          0.0072167239117113995,
          0.008481775475735982,
          0.01310522153890256,
          0.025346571965052436,
          0.025840335171336524,
          0.04191540871315897,
          0.15502710953552742,
          0.7178675138908986
         ],
         "yaxis": "y"
        }
       ],
       "layout": {
        "legend": {
         "tracegroupgap": 0
        },
        "shapes": [
         {
          "type": "line",
          "x0": 0,
          "x1": 1,
          "xref": "x domain",
          "y0": 0.02,
          "y1": 0.02,
          "yref": "y"
         }
        ],
        "template": {
         "data": {
          "bar": [
           {
            "error_x": {
             "color": "#2a3f5f"
            },
            "error_y": {
             "color": "#2a3f5f"
            },
            "marker": {
             "line": {
              "color": "#E5ECF6",
              "width": 0.5
             },
             "pattern": {
              "fillmode": "overlay",
              "size": 10,
              "solidity": 0.2
             }
            },
            "type": "bar"
           }
          ],
          "barpolar": [
           {
            "marker": {
             "line": {
              "color": "#E5ECF6",
              "width": 0.5
             },
             "pattern": {
              "fillmode": "overlay",
              "size": 10,
              "solidity": 0.2
             }
            },
            "type": "barpolar"
           }
          ],
          "carpet": [
           {
            "aaxis": {
             "endlinecolor": "#2a3f5f",
             "gridcolor": "white",
             "linecolor": "white",
             "minorgridcolor": "white",
             "startlinecolor": "#2a3f5f"
            },
            "baxis": {
             "endlinecolor": "#2a3f5f",
             "gridcolor": "white",
             "linecolor": "white",
             "minorgridcolor": "white",
             "startlinecolor": "#2a3f5f"
            },
            "type": "carpet"
           }
          ],
          "choropleth": [
           {
            "colorbar": {
             "outlinewidth": 0,
             "ticks": ""
            },
            "type": "choropleth"
           }
          ],
          "contour": [
           {
            "colorbar": {
             "outlinewidth": 0,
             "ticks": ""
            },
            "colorscale": [
             [
              0,
              "#0d0887"
             ],
             [
              0.1111111111111111,
              "#46039f"
             ],
             [
              0.2222222222222222,
              "#7201a8"
             ],
             [
              0.3333333333333333,
              "#9c179e"
             ],
             [
              0.4444444444444444,
              "#bd3786"
             ],
             [
              0.5555555555555556,
              "#d8576b"
             ],
             [
              0.6666666666666666,
              "#ed7953"
             ],
             [
              0.7777777777777778,
              "#fb9f3a"
             ],
             [
              0.8888888888888888,
              "#fdca26"
             ],
             [
              1,
              "#f0f921"
             ]
            ],
            "type": "contour"
           }
          ],
          "contourcarpet": [
           {
            "colorbar": {
             "outlinewidth": 0,
             "ticks": ""
            },
            "type": "contourcarpet"
           }
          ],
          "heatmap": [
           {
            "colorbar": {
             "outlinewidth": 0,
             "ticks": ""
            },
            "colorscale": [
             [
              0,
              "#0d0887"
             ],
             [
              0.1111111111111111,
              "#46039f"
             ],
             [
              0.2222222222222222,
              "#7201a8"
             ],
             [
              0.3333333333333333,
              "#9c179e"
             ],
             [
              0.4444444444444444,
              "#bd3786"
             ],
             [
              0.5555555555555556,
              "#d8576b"
             ],
             [
              0.6666666666666666,
              "#ed7953"
             ],
             [
              0.7777777777777778,
              "#fb9f3a"
             ],
             [
              0.8888888888888888,
              "#fdca26"
             ],
             [
              1,
              "#f0f921"
             ]
            ],
            "type": "heatmap"
           }
          ],
          "heatmapgl": [
           {
            "colorbar": {
             "outlinewidth": 0,
             "ticks": ""
            },
            "colorscale": [
             [
              0,
              "#0d0887"
             ],
             [
              0.1111111111111111,
              "#46039f"
             ],
             [
              0.2222222222222222,
              "#7201a8"
             ],
             [
              0.3333333333333333,
              "#9c179e"
             ],
             [
              0.4444444444444444,
              "#bd3786"
             ],
             [
              0.5555555555555556,
              "#d8576b"
             ],
             [
              0.6666666666666666,
              "#ed7953"
             ],
             [
              0.7777777777777778,
              "#fb9f3a"
             ],
             [
              0.8888888888888888,
              "#fdca26"
             ],
             [
              1,
              "#f0f921"
             ]
            ],
            "type": "heatmapgl"
           }
          ],
          "histogram": [
           {
            "marker": {
             "pattern": {
              "fillmode": "overlay",
              "size": 10,
              "solidity": 0.2
             }
            },
            "type": "histogram"
           }
          ],
          "histogram2d": [
           {
            "colorbar": {
             "outlinewidth": 0,
             "ticks": ""
            },
            "colorscale": [
             [
              0,
              "#0d0887"
             ],
             [
              0.1111111111111111,
              "#46039f"
             ],
             [
              0.2222222222222222,
              "#7201a8"
             ],
             [
              0.3333333333333333,
              "#9c179e"
             ],
             [
              0.4444444444444444,
              "#bd3786"
             ],
             [
              0.5555555555555556,
              "#d8576b"
             ],
             [
              0.6666666666666666,
              "#ed7953"
             ],
             [
              0.7777777777777778,
              "#fb9f3a"
             ],
             [
              0.8888888888888888,
              "#fdca26"
             ],
             [
              1,
              "#f0f921"
             ]
            ],
            "type": "histogram2d"
           }
          ],
          "histogram2dcontour": [
           {
            "colorbar": {
             "outlinewidth": 0,
             "ticks": ""
            },
            "colorscale": [
             [
              0,
              "#0d0887"
             ],
             [
              0.1111111111111111,
              "#46039f"
             ],
             [
              0.2222222222222222,
              "#7201a8"
             ],
             [
              0.3333333333333333,
              "#9c179e"
             ],
             [
              0.4444444444444444,
              "#bd3786"
             ],
             [
              0.5555555555555556,
              "#d8576b"
             ],
             [
              0.6666666666666666,
              "#ed7953"
             ],
             [
              0.7777777777777778,
              "#fb9f3a"
             ],
             [
              0.8888888888888888,
              "#fdca26"
             ],
             [
              1,
              "#f0f921"
             ]
            ],
            "type": "histogram2dcontour"
           }
          ],
          "mesh3d": [
           {
            "colorbar": {
             "outlinewidth": 0,
             "ticks": ""
            },
            "type": "mesh3d"
           }
          ],
          "parcoords": [
           {
            "line": {
             "colorbar": {
              "outlinewidth": 0,
              "ticks": ""
             }
            },
            "type": "parcoords"
           }
          ],
          "pie": [
           {
            "automargin": true,
            "type": "pie"
           }
          ],
          "scatter": [
           {
            "marker": {
             "colorbar": {
              "outlinewidth": 0,
              "ticks": ""
             }
            },
            "type": "scatter"
           }
          ],
          "scatter3d": [
           {
            "line": {
             "colorbar": {
              "outlinewidth": 0,
              "ticks": ""
             }
            },
            "marker": {
             "colorbar": {
              "outlinewidth": 0,
              "ticks": ""
             }
            },
            "type": "scatter3d"
           }
          ],
          "scattercarpet": [
           {
            "marker": {
             "colorbar": {
              "outlinewidth": 0,
              "ticks": ""
             }
            },
            "type": "scattercarpet"
           }
          ],
          "scattergeo": [
           {
            "marker": {
             "colorbar": {
              "outlinewidth": 0,
              "ticks": ""
             }
            },
            "type": "scattergeo"
           }
          ],
          "scattergl": [
           {
            "marker": {
             "colorbar": {
              "outlinewidth": 0,
              "ticks": ""
             }
            },
            "type": "scattergl"
           }
          ],
          "scattermapbox": [
           {
            "marker": {
             "colorbar": {
              "outlinewidth": 0,
              "ticks": ""
             }
            },
            "type": "scattermapbox"
           }
          ],
          "scatterpolar": [
           {
            "marker": {
             "colorbar": {
              "outlinewidth": 0,
              "ticks": ""
             }
            },
            "type": "scatterpolar"
           }
          ],
          "scatterpolargl": [
           {
            "marker": {
             "colorbar": {
              "outlinewidth": 0,
              "ticks": ""
             }
            },
            "type": "scatterpolargl"
           }
          ],
          "scatterternary": [
           {
            "marker": {
             "colorbar": {
              "outlinewidth": 0,
              "ticks": ""
             }
            },
            "type": "scatterternary"
           }
          ],
          "surface": [
           {
            "colorbar": {
             "outlinewidth": 0,
             "ticks": ""
            },
            "colorscale": [
             [
              0,
              "#0d0887"
             ],
             [
              0.1111111111111111,
              "#46039f"
             ],
             [
              0.2222222222222222,
              "#7201a8"
             ],
             [
              0.3333333333333333,
              "#9c179e"
             ],
             [
              0.4444444444444444,
              "#bd3786"
             ],
             [
              0.5555555555555556,
              "#d8576b"
             ],
             [
              0.6666666666666666,
              "#ed7953"
             ],
             [
              0.7777777777777778,
              "#fb9f3a"
             ],
             [
              0.8888888888888888,
              "#fdca26"
             ],
             [
              1,
              "#f0f921"
             ]
            ],
            "type": "surface"
           }
          ],
          "table": [
           {
            "cells": {
             "fill": {
              "color": "#EBF0F8"
             },
             "line": {
              "color": "white"
             }
            },
            "header": {
             "fill": {
              "color": "#C8D4E3"
             },
             "line": {
              "color": "white"
             }
            },
            "type": "table"
           }
          ]
         },
         "layout": {
          "annotationdefaults": {
           "arrowcolor": "#2a3f5f",
           "arrowhead": 0,
           "arrowwidth": 1
          },
          "autotypenumbers": "strict",
          "coloraxis": {
           "colorbar": {
            "outlinewidth": 0,
            "ticks": ""
           }
          },
          "colorscale": {
           "diverging": [
            [
             0,
             "#8e0152"
            ],
            [
             0.1,
             "#c51b7d"
            ],
            [
             0.2,
             "#de77ae"
            ],
            [
             0.3,
             "#f1b6da"
            ],
            [
             0.4,
             "#fde0ef"
            ],
            [
             0.5,
             "#f7f7f7"
            ],
            [
             0.6,
             "#e6f5d0"
            ],
            [
             0.7,
             "#b8e186"
            ],
            [
             0.8,
             "#7fbc41"
            ],
            [
             0.9,
             "#4d9221"
            ],
            [
             1,
             "#276419"
            ]
           ],
           "sequential": [
            [
             0,
             "#0d0887"
            ],
            [
             0.1111111111111111,
             "#46039f"
            ],
            [
             0.2222222222222222,
             "#7201a8"
            ],
            [
             0.3333333333333333,
             "#9c179e"
            ],
            [
             0.4444444444444444,
             "#bd3786"
            ],
            [
             0.5555555555555556,
             "#d8576b"
            ],
            [
             0.6666666666666666,
             "#ed7953"
            ],
            [
             0.7777777777777778,
             "#fb9f3a"
            ],
            [
             0.8888888888888888,
             "#fdca26"
            ],
            [
             1,
             "#f0f921"
            ]
           ],
           "sequentialminus": [
            [
             0,
             "#0d0887"
            ],
            [
             0.1111111111111111,
             "#46039f"
            ],
            [
             0.2222222222222222,
             "#7201a8"
            ],
            [
             0.3333333333333333,
             "#9c179e"
            ],
            [
             0.4444444444444444,
             "#bd3786"
            ],
            [
             0.5555555555555556,
             "#d8576b"
            ],
            [
             0.6666666666666666,
             "#ed7953"
            ],
            [
             0.7777777777777778,
             "#fb9f3a"
            ],
            [
             0.8888888888888888,
             "#fdca26"
            ],
            [
             1,
             "#f0f921"
            ]
           ]
          },
          "colorway": [
           "#636efa",
           "#EF553B",
           "#00cc96",
           "#ab63fa",
           "#FFA15A",
           "#19d3f3",
           "#FF6692",
           "#B6E880",
           "#FF97FF",
           "#FECB52"
          ],
          "font": {
           "color": "#2a3f5f"
          },
          "geo": {
           "bgcolor": "white",
           "lakecolor": "white",
           "landcolor": "#E5ECF6",
           "showlakes": true,
           "showland": true,
           "subunitcolor": "white"
          },
          "hoverlabel": {
           "align": "left"
          },
          "hovermode": "closest",
          "mapbox": {
           "style": "light"
          },
          "paper_bgcolor": "white",
          "plot_bgcolor": "#E5ECF6",
          "polar": {
           "angularaxis": {
            "gridcolor": "white",
            "linecolor": "white",
            "ticks": ""
           },
           "bgcolor": "#E5ECF6",
           "radialaxis": {
            "gridcolor": "white",
            "linecolor": "white",
            "ticks": ""
           }
          },
          "scene": {
           "xaxis": {
            "backgroundcolor": "#E5ECF6",
            "gridcolor": "white",
            "gridwidth": 2,
            "linecolor": "white",
            "showbackground": true,
            "ticks": "",
            "zerolinecolor": "white"
           },
           "yaxis": {
            "backgroundcolor": "#E5ECF6",
            "gridcolor": "white",
            "gridwidth": 2,
            "linecolor": "white",
            "showbackground": true,
            "ticks": "",
            "zerolinecolor": "white"
           },
           "zaxis": {
            "backgroundcolor": "#E5ECF6",
            "gridcolor": "white",
            "gridwidth": 2,
            "linecolor": "white",
            "showbackground": true,
            "ticks": "",
            "zerolinecolor": "white"
           }
          },
          "shapedefaults": {
           "line": {
            "color": "#2a3f5f"
           }
          },
          "ternary": {
           "aaxis": {
            "gridcolor": "white",
            "linecolor": "white",
            "ticks": ""
           },
           "baxis": {
            "gridcolor": "white",
            "linecolor": "white",
            "ticks": ""
           },
           "bgcolor": "#E5ECF6",
           "caxis": {
            "gridcolor": "white",
            "linecolor": "white",
            "ticks": ""
           }
          },
          "title": {
           "x": 0.05
          },
          "xaxis": {
           "automargin": true,
           "gridcolor": "white",
           "linecolor": "white",
           "ticks": "",
           "title": {
            "standoff": 15
           },
           "zerolinecolor": "white",
           "zerolinewidth": 2
          },
          "yaxis": {
           "automargin": true,
           "gridcolor": "white",
           "linecolor": "white",
           "ticks": "",
           "title": {
            "standoff": 15
           },
           "zerolinecolor": "white",
           "zerolinewidth": 2
          }
         }
        },
        "title": {
         "text": "Feature importance"
        },
        "xaxis": {
         "anchor": "y",
         "domain": [
          0,
          1
         ],
         "title": {
          "text": "col"
         }
        },
        "yaxis": {
         "anchor": "x",
         "domain": [
          0,
          1
         ],
         "title": {
          "text": "importance"
         },
         "type": "log"
        }
       }
      },
      "text/html": [
       "<div>                            <div id=\"b3acd9ce-6b24-4ef9-9467-5e66de45b983\" class=\"plotly-graph-div\" style=\"height:525px; width:100%;\"></div>            <script type=\"text/javascript\">                require([\"plotly\"], function(Plotly) {                    window.PLOTLYENV=window.PLOTLYENV || {};                                    if (document.getElementById(\"b3acd9ce-6b24-4ef9-9467-5e66de45b983\")) {                    Plotly.newPlot(                        \"b3acd9ce-6b24-4ef9-9467-5e66de45b983\",                        [{\"hovertemplate\":\"col=%{x}<br>importance=%{y}<extra></extra>\",\"legendgroup\":\"\",\"marker\":{\"color\":\"#636efa\",\"symbol\":\"circle\"},\"mode\":\"markers\",\"name\":\"\",\"orientation\":\"v\",\"showlegend\":false,\"type\":\"scatter\",\"x\":[\"Promo2SinceWeeks\",\"DayOfWeek_1\",\"DayOfWeek_5\",\"CompetitionSinceMonths\",\"Month_12\",\"CompetitionDistance\",\"DayOfWeek_0\",\"Promo\",\"Store_mean\"],\"xaxis\":\"x\",\"y\":[0.0051993397976760015,0.0072167239117113995,0.008481775475735982,0.01310522153890256,0.025346571965052436,0.025840335171336524,0.04191540871315897,0.15502710953552742,0.7178675138908986],\"yaxis\":\"y\"}],                        {\"legend\":{\"tracegroupgap\":0},\"shapes\":[{\"type\":\"line\",\"x0\":0,\"x1\":1,\"xref\":\"x domain\",\"y0\":0.02,\"y1\":0.02,\"yref\":\"y\"}],\"template\":{\"data\":{\"bar\":[{\"error_x\":{\"color\":\"#2a3f5f\"},\"error_y\":{\"color\":\"#2a3f5f\"},\"marker\":{\"line\":{\"color\":\"#E5ECF6\",\"width\":0.5},\"pattern\":{\"fillmode\":\"overlay\",\"size\":10,\"solidity\":0.2}},\"type\":\"bar\"}],\"barpolar\":[{\"marker\":{\"line\":{\"color\":\"#E5ECF6\",\"width\":0.5},\"pattern\":{\"fillmode\":\"overlay\",\"size\":10,\"solidity\":0.2}},\"type\":\"barpolar\"}],\"carpet\":[{\"aaxis\":{\"endlinecolor\":\"#2a3f5f\",\"gridcolor\":\"white\",\"linecolor\":\"white\",\"minorgridcolor\":\"white\",\"startlinecolor\":\"#2a3f5f\"},\"baxis\":{\"endlinecolor\":\"#2a3f5f\",\"gridcolor\":\"white\",\"linecolor\":\"white\",\"minorgridcolor\":\"white\",\"startlinecolor\":\"#2a3f5f\"},\"type\":\"carpet\"}],\"choropleth\":[{\"colorbar\":{\"outlinewidth\":0,\"ticks\":\"\"},\"type\":\"choropleth\"}],\"contour\":[{\"colorbar\":{\"outlinewidth\":0,\"ticks\":\"\"},\"colorscale\":[[0.0,\"#0d0887\"],[0.1111111111111111,\"#46039f\"],[0.2222222222222222,\"#7201a8\"],[0.3333333333333333,\"#9c179e\"],[0.4444444444444444,\"#bd3786\"],[0.5555555555555556,\"#d8576b\"],[0.6666666666666666,\"#ed7953\"],[0.7777777777777778,\"#fb9f3a\"],[0.8888888888888888,\"#fdca26\"],[1.0,\"#f0f921\"]],\"type\":\"contour\"}],\"contourcarpet\":[{\"colorbar\":{\"outlinewidth\":0,\"ticks\":\"\"},\"type\":\"contourcarpet\"}],\"heatmap\":[{\"colorbar\":{\"outlinewidth\":0,\"ticks\":\"\"},\"colorscale\":[[0.0,\"#0d0887\"],[0.1111111111111111,\"#46039f\"],[0.2222222222222222,\"#7201a8\"],[0.3333333333333333,\"#9c179e\"],[0.4444444444444444,\"#bd3786\"],[0.5555555555555556,\"#d8576b\"],[0.6666666666666666,\"#ed7953\"],[0.7777777777777778,\"#fb9f3a\"],[0.8888888888888888,\"#fdca26\"],[1.0,\"#f0f921\"]],\"type\":\"heatmap\"}],\"heatmapgl\":[{\"colorbar\":{\"outlinewidth\":0,\"ticks\":\"\"},\"colorscale\":[[0.0,\"#0d0887\"],[0.1111111111111111,\"#46039f\"],[0.2222222222222222,\"#7201a8\"],[0.3333333333333333,\"#9c179e\"],[0.4444444444444444,\"#bd3786\"],[0.5555555555555556,\"#d8576b\"],[0.6666666666666666,\"#ed7953\"],[0.7777777777777778,\"#fb9f3a\"],[0.8888888888888888,\"#fdca26\"],[1.0,\"#f0f921\"]],\"type\":\"heatmapgl\"}],\"histogram\":[{\"marker\":{\"pattern\":{\"fillmode\":\"overlay\",\"size\":10,\"solidity\":0.2}},\"type\":\"histogram\"}],\"histogram2d\":[{\"colorbar\":{\"outlinewidth\":0,\"ticks\":\"\"},\"colorscale\":[[0.0,\"#0d0887\"],[0.1111111111111111,\"#46039f\"],[0.2222222222222222,\"#7201a8\"],[0.3333333333333333,\"#9c179e\"],[0.4444444444444444,\"#bd3786\"],[0.5555555555555556,\"#d8576b\"],[0.6666666666666666,\"#ed7953\"],[0.7777777777777778,\"#fb9f3a\"],[0.8888888888888888,\"#fdca26\"],[1.0,\"#f0f921\"]],\"type\":\"histogram2d\"}],\"histogram2dcontour\":[{\"colorbar\":{\"outlinewidth\":0,\"ticks\":\"\"},\"colorscale\":[[0.0,\"#0d0887\"],[0.1111111111111111,\"#46039f\"],[0.2222222222222222,\"#7201a8\"],[0.3333333333333333,\"#9c179e\"],[0.4444444444444444,\"#bd3786\"],[0.5555555555555556,\"#d8576b\"],[0.6666666666666666,\"#ed7953\"],[0.7777777777777778,\"#fb9f3a\"],[0.8888888888888888,\"#fdca26\"],[1.0,\"#f0f921\"]],\"type\":\"histogram2dcontour\"}],\"mesh3d\":[{\"colorbar\":{\"outlinewidth\":0,\"ticks\":\"\"},\"type\":\"mesh3d\"}],\"parcoords\":[{\"line\":{\"colorbar\":{\"outlinewidth\":0,\"ticks\":\"\"}},\"type\":\"parcoords\"}],\"pie\":[{\"automargin\":true,\"type\":\"pie\"}],\"scatter\":[{\"marker\":{\"colorbar\":{\"outlinewidth\":0,\"ticks\":\"\"}},\"type\":\"scatter\"}],\"scatter3d\":[{\"line\":{\"colorbar\":{\"outlinewidth\":0,\"ticks\":\"\"}},\"marker\":{\"colorbar\":{\"outlinewidth\":0,\"ticks\":\"\"}},\"type\":\"scatter3d\"}],\"scattercarpet\":[{\"marker\":{\"colorbar\":{\"outlinewidth\":0,\"ticks\":\"\"}},\"type\":\"scattercarpet\"}],\"scattergeo\":[{\"marker\":{\"colorbar\":{\"outlinewidth\":0,\"ticks\":\"\"}},\"type\":\"scattergeo\"}],\"scattergl\":[{\"marker\":{\"colorbar\":{\"outlinewidth\":0,\"ticks\":\"\"}},\"type\":\"scattergl\"}],\"scattermapbox\":[{\"marker\":{\"colorbar\":{\"outlinewidth\":0,\"ticks\":\"\"}},\"type\":\"scattermapbox\"}],\"scatterpolar\":[{\"marker\":{\"colorbar\":{\"outlinewidth\":0,\"ticks\":\"\"}},\"type\":\"scatterpolar\"}],\"scatterpolargl\":[{\"marker\":{\"colorbar\":{\"outlinewidth\":0,\"ticks\":\"\"}},\"type\":\"scatterpolargl\"}],\"scatterternary\":[{\"marker\":{\"colorbar\":{\"outlinewidth\":0,\"ticks\":\"\"}},\"type\":\"scatterternary\"}],\"surface\":[{\"colorbar\":{\"outlinewidth\":0,\"ticks\":\"\"},\"colorscale\":[[0.0,\"#0d0887\"],[0.1111111111111111,\"#46039f\"],[0.2222222222222222,\"#7201a8\"],[0.3333333333333333,\"#9c179e\"],[0.4444444444444444,\"#bd3786\"],[0.5555555555555556,\"#d8576b\"],[0.6666666666666666,\"#ed7953\"],[0.7777777777777778,\"#fb9f3a\"],[0.8888888888888888,\"#fdca26\"],[1.0,\"#f0f921\"]],\"type\":\"surface\"}],\"table\":[{\"cells\":{\"fill\":{\"color\":\"#EBF0F8\"},\"line\":{\"color\":\"white\"}},\"header\":{\"fill\":{\"color\":\"#C8D4E3\"},\"line\":{\"color\":\"white\"}},\"type\":\"table\"}]},\"layout\":{\"annotationdefaults\":{\"arrowcolor\":\"#2a3f5f\",\"arrowhead\":0,\"arrowwidth\":1},\"autotypenumbers\":\"strict\",\"coloraxis\":{\"colorbar\":{\"outlinewidth\":0,\"ticks\":\"\"}},\"colorscale\":{\"diverging\":[[0,\"#8e0152\"],[0.1,\"#c51b7d\"],[0.2,\"#de77ae\"],[0.3,\"#f1b6da\"],[0.4,\"#fde0ef\"],[0.5,\"#f7f7f7\"],[0.6,\"#e6f5d0\"],[0.7,\"#b8e186\"],[0.8,\"#7fbc41\"],[0.9,\"#4d9221\"],[1,\"#276419\"]],\"sequential\":[[0.0,\"#0d0887\"],[0.1111111111111111,\"#46039f\"],[0.2222222222222222,\"#7201a8\"],[0.3333333333333333,\"#9c179e\"],[0.4444444444444444,\"#bd3786\"],[0.5555555555555556,\"#d8576b\"],[0.6666666666666666,\"#ed7953\"],[0.7777777777777778,\"#fb9f3a\"],[0.8888888888888888,\"#fdca26\"],[1.0,\"#f0f921\"]],\"sequentialminus\":[[0.0,\"#0d0887\"],[0.1111111111111111,\"#46039f\"],[0.2222222222222222,\"#7201a8\"],[0.3333333333333333,\"#9c179e\"],[0.4444444444444444,\"#bd3786\"],[0.5555555555555556,\"#d8576b\"],[0.6666666666666666,\"#ed7953\"],[0.7777777777777778,\"#fb9f3a\"],[0.8888888888888888,\"#fdca26\"],[1.0,\"#f0f921\"]]},\"colorway\":[\"#636efa\",\"#EF553B\",\"#00cc96\",\"#ab63fa\",\"#FFA15A\",\"#19d3f3\",\"#FF6692\",\"#B6E880\",\"#FF97FF\",\"#FECB52\"],\"font\":{\"color\":\"#2a3f5f\"},\"geo\":{\"bgcolor\":\"white\",\"lakecolor\":\"white\",\"landcolor\":\"#E5ECF6\",\"showlakes\":true,\"showland\":true,\"subunitcolor\":\"white\"},\"hoverlabel\":{\"align\":\"left\"},\"hovermode\":\"closest\",\"mapbox\":{\"style\":\"light\"},\"paper_bgcolor\":\"white\",\"plot_bgcolor\":\"#E5ECF6\",\"polar\":{\"angularaxis\":{\"gridcolor\":\"white\",\"linecolor\":\"white\",\"ticks\":\"\"},\"bgcolor\":\"#E5ECF6\",\"radialaxis\":{\"gridcolor\":\"white\",\"linecolor\":\"white\",\"ticks\":\"\"}},\"scene\":{\"xaxis\":{\"backgroundcolor\":\"#E5ECF6\",\"gridcolor\":\"white\",\"gridwidth\":2,\"linecolor\":\"white\",\"showbackground\":true,\"ticks\":\"\",\"zerolinecolor\":\"white\"},\"yaxis\":{\"backgroundcolor\":\"#E5ECF6\",\"gridcolor\":\"white\",\"gridwidth\":2,\"linecolor\":\"white\",\"showbackground\":true,\"ticks\":\"\",\"zerolinecolor\":\"white\"},\"zaxis\":{\"backgroundcolor\":\"#E5ECF6\",\"gridcolor\":\"white\",\"gridwidth\":2,\"linecolor\":\"white\",\"showbackground\":true,\"ticks\":\"\",\"zerolinecolor\":\"white\"}},\"shapedefaults\":{\"line\":{\"color\":\"#2a3f5f\"}},\"ternary\":{\"aaxis\":{\"gridcolor\":\"white\",\"linecolor\":\"white\",\"ticks\":\"\"},\"baxis\":{\"gridcolor\":\"white\",\"linecolor\":\"white\",\"ticks\":\"\"},\"bgcolor\":\"#E5ECF6\",\"caxis\":{\"gridcolor\":\"white\",\"linecolor\":\"white\",\"ticks\":\"\"}},\"title\":{\"x\":0.05},\"xaxis\":{\"automargin\":true,\"gridcolor\":\"white\",\"linecolor\":\"white\",\"ticks\":\"\",\"title\":{\"standoff\":15},\"zerolinecolor\":\"white\",\"zerolinewidth\":2},\"yaxis\":{\"automargin\":true,\"gridcolor\":\"white\",\"linecolor\":\"white\",\"ticks\":\"\",\"title\":{\"standoff\":15},\"zerolinecolor\":\"white\",\"zerolinewidth\":2}}},\"title\":{\"text\":\"Feature importance\"},\"xaxis\":{\"anchor\":\"y\",\"domain\":[0.0,1.0],\"title\":{\"text\":\"col\"}},\"yaxis\":{\"anchor\":\"x\",\"domain\":[0.0,1.0],\"title\":{\"text\":\"importance\"},\"type\":\"log\"}},                        {\"responsive\": true}                    ).then(function(){\n",
       "                            \n",
       "var gd = document.getElementById('b3acd9ce-6b24-4ef9-9467-5e66de45b983');\n",
       "var x = new MutationObserver(function (mutations, observer) {{\n",
       "        var display = window.getComputedStyle(gd).display;\n",
       "        if (!display || display === 'none') {{\n",
       "            console.log([gd, 'removed!']);\n",
       "            Plotly.purge(gd);\n",
       "            observer.disconnect();\n",
       "        }}\n",
       "}});\n",
       "\n",
       "// Listen for the removal of the full notebook cells\n",
       "var notebookContainer = gd.closest('#notebook-container');\n",
       "if (notebookContainer) {{\n",
       "    x.observe(notebookContainer, {childList: true});\n",
       "}}\n",
       "\n",
       "// Listen for the clearing of the current output cell\n",
       "var outputEl = gd.closest('.output');\n",
       "if (outputEl) {{\n",
       "    x.observe(outputEl, {childList: true});\n",
       "}}\n",
       "\n",
       "                        })                };                });            </script>        </div>"
      ]
     },
     "metadata": {},
     "output_type": "display_data"
    }
   ],
   "source": [
    "#plt.barh(X_train.columns, forest_reg.feature_importances_)\n",
    "df = pd.DataFrame({\n",
    "    \"col\": X_train.columns,\n",
    "    \"importance\" : forest_reg.feature_importances_,   \n",
    "})\n",
    "# Plotly Express is now a sublibrary of Plotly:\n",
    "import plotly.express as px\n",
    "fig = px.scatter(\n",
    "    data_frame=df.sort_values(by='importance'),\n",
    "    x='col',\n",
    "    y='importance',\n",
    "    title='Feature importance',\n",
    "    log_y = True\n",
    ")\n",
    "fig.add_hline(y=0.02)\n",
    "fig.show()"
   ]
  },
  {
   "cell_type": "code",
   "execution_count": null,
   "id": "46f3e7fd",
   "metadata": {},
   "outputs": [],
   "source": [
    "#from sklearn.model_selection import GridSearchCV\n",
    "#param_grid = [\n",
    "#    {'n_estimators': [3, 10, 30], 'max_features': [2, 4, 6, 8]},\n",
    "    \n",
    "    \n",
    "#]\n"
   ]
  },
  {
   "cell_type": "code",
   "execution_count": 718,
   "id": "fe51a3f7",
   "metadata": {},
   "outputs": [
    {
     "ename": "KeyboardInterrupt",
     "evalue": "",
     "output_type": "error",
     "traceback": [
      "\u001b[0;31m---------------------------------------------------------------------------\u001b[0m",
      "\u001b[0;31mKeyboardInterrupt\u001b[0m                         Traceback (most recent call last)",
      "\u001b[0;32m<ipython-input-718-5d0adfc4d5f7>\u001b[0m in \u001b[0;36m<module>\u001b[0;34m\u001b[0m\n\u001b[1;32m      5\u001b[0m \u001b[0mstore_ids\u001b[0m \u001b[0;34m=\u001b[0m \u001b[0mnewtrain_set\u001b[0m\u001b[0;34m[\u001b[0m\u001b[0;34m'Store'\u001b[0m\u001b[0;34m]\u001b[0m\u001b[0;34m.\u001b[0m\u001b[0munique\u001b[0m\u001b[0;34m(\u001b[0m\u001b[0;34m)\u001b[0m\u001b[0;34m\u001b[0m\u001b[0;34m\u001b[0m\u001b[0m\n\u001b[1;32m      6\u001b[0m \u001b[0;32mfor\u001b[0m \u001b[0mid\u001b[0m \u001b[0;32min\u001b[0m \u001b[0mstore_ids\u001b[0m\u001b[0;34m:\u001b[0m\u001b[0;34m\u001b[0m\u001b[0;34m\u001b[0m\u001b[0m\n\u001b[0;32m----> 7\u001b[0;31m     \u001b[0mresult\u001b[0m \u001b[0;34m=\u001b[0m \u001b[0madfuller\u001b[0m\u001b[0;34m(\u001b[0m\u001b[0mnewtrain_set\u001b[0m\u001b[0;34m.\u001b[0m\u001b[0mloc\u001b[0m\u001b[0;34m[\u001b[0m\u001b[0mnewtrain_set\u001b[0m\u001b[0;34m[\u001b[0m\u001b[0;34m'Store'\u001b[0m\u001b[0;34m]\u001b[0m \u001b[0;34m==\u001b[0m \u001b[0mid\u001b[0m\u001b[0;34m,\u001b[0m \u001b[0;34m'Sales'\u001b[0m\u001b[0;34m]\u001b[0m\u001b[0;34m)\u001b[0m\u001b[0;34m\u001b[0m\u001b[0;34m\u001b[0m\u001b[0m\n\u001b[0m\u001b[1;32m      8\u001b[0m  \u001b[0;31m#   print('ADF Statistic: %f' % result[0])\u001b[0m\u001b[0;34m\u001b[0m\u001b[0;34m\u001b[0m\u001b[0;34m\u001b[0m\u001b[0m\n\u001b[1;32m      9\u001b[0m     \u001b[0mpvalues\u001b[0m\u001b[0;34m.\u001b[0m\u001b[0mappend\u001b[0m\u001b[0;34m(\u001b[0m\u001b[0mresult\u001b[0m\u001b[0;34m[\u001b[0m\u001b[0;36m1\u001b[0m\u001b[0;34m]\u001b[0m\u001b[0;34m)\u001b[0m\u001b[0;34m\u001b[0m\u001b[0;34m\u001b[0m\u001b[0m\n",
      "\u001b[0;32m~/miniconda3/envs/minicomp/lib/python3.9/site-packages/statsmodels/tsa/stattools.py\u001b[0m in \u001b[0;36madfuller\u001b[0;34m(x, maxlag, regression, autolag, store, regresults)\u001b[0m\n\u001b[1;32m    312\u001b[0m \u001b[0;34m\u001b[0m\u001b[0m\n\u001b[1;32m    313\u001b[0m         \u001b[0;32mif\u001b[0m \u001b[0;32mnot\u001b[0m \u001b[0mregresults\u001b[0m\u001b[0;34m:\u001b[0m\u001b[0;34m\u001b[0m\u001b[0;34m\u001b[0m\u001b[0m\n\u001b[0;32m--> 314\u001b[0;31m             icbest, bestlag = _autolag(\n\u001b[0m\u001b[1;32m    315\u001b[0m                 \u001b[0mOLS\u001b[0m\u001b[0;34m,\u001b[0m \u001b[0mxdshort\u001b[0m\u001b[0;34m,\u001b[0m \u001b[0mfullRHS\u001b[0m\u001b[0;34m,\u001b[0m \u001b[0mstartlag\u001b[0m\u001b[0;34m,\u001b[0m \u001b[0mmaxlag\u001b[0m\u001b[0;34m,\u001b[0m \u001b[0mautolag\u001b[0m\u001b[0;34m\u001b[0m\u001b[0;34m\u001b[0m\u001b[0m\n\u001b[1;32m    316\u001b[0m             )\n",
      "\u001b[0;32m~/miniconda3/envs/minicomp/lib/python3.9/site-packages/statsmodels/tsa/stattools.py\u001b[0m in \u001b[0;36m_autolag\u001b[0;34m(mod, endog, exog, startlag, maxlag, method, modargs, fitargs, regresults)\u001b[0m\n\u001b[1;32m    123\u001b[0m     \u001b[0;32mfor\u001b[0m \u001b[0mlag\u001b[0m \u001b[0;32min\u001b[0m \u001b[0mrange\u001b[0m\u001b[0;34m(\u001b[0m\u001b[0mstartlag\u001b[0m\u001b[0;34m,\u001b[0m \u001b[0mstartlag\u001b[0m \u001b[0;34m+\u001b[0m \u001b[0mmaxlag\u001b[0m \u001b[0;34m+\u001b[0m \u001b[0;36m1\u001b[0m\u001b[0;34m)\u001b[0m\u001b[0;34m:\u001b[0m\u001b[0;34m\u001b[0m\u001b[0;34m\u001b[0m\u001b[0m\n\u001b[1;32m    124\u001b[0m         \u001b[0mmod_instance\u001b[0m \u001b[0;34m=\u001b[0m \u001b[0mmod\u001b[0m\u001b[0;34m(\u001b[0m\u001b[0mendog\u001b[0m\u001b[0;34m,\u001b[0m \u001b[0mexog\u001b[0m\u001b[0;34m[\u001b[0m\u001b[0;34m:\u001b[0m\u001b[0;34m,\u001b[0m \u001b[0;34m:\u001b[0m\u001b[0mlag\u001b[0m\u001b[0;34m]\u001b[0m\u001b[0;34m,\u001b[0m \u001b[0;34m*\u001b[0m\u001b[0mmodargs\u001b[0m\u001b[0;34m)\u001b[0m\u001b[0;34m\u001b[0m\u001b[0;34m\u001b[0m\u001b[0m\n\u001b[0;32m--> 125\u001b[0;31m         \u001b[0mresults\u001b[0m\u001b[0;34m[\u001b[0m\u001b[0mlag\u001b[0m\u001b[0;34m]\u001b[0m \u001b[0;34m=\u001b[0m \u001b[0mmod_instance\u001b[0m\u001b[0;34m.\u001b[0m\u001b[0mfit\u001b[0m\u001b[0;34m(\u001b[0m\u001b[0;34m)\u001b[0m\u001b[0;34m\u001b[0m\u001b[0;34m\u001b[0m\u001b[0m\n\u001b[0m\u001b[1;32m    126\u001b[0m \u001b[0;34m\u001b[0m\u001b[0m\n\u001b[1;32m    127\u001b[0m     \u001b[0;32mif\u001b[0m \u001b[0mmethod\u001b[0m \u001b[0;34m==\u001b[0m \u001b[0;34m\"aic\"\u001b[0m\u001b[0;34m:\u001b[0m\u001b[0;34m\u001b[0m\u001b[0;34m\u001b[0m\u001b[0m\n",
      "\u001b[0;32m~/miniconda3/envs/minicomp/lib/python3.9/site-packages/statsmodels/regression/linear_model.py\u001b[0m in \u001b[0;36mfit\u001b[0;34m(self, method, cov_type, cov_kwds, use_t, **kwargs)\u001b[0m\n\u001b[1;32m    309\u001b[0m                 \u001b[0;31m# Cache these singular values for use later.\u001b[0m\u001b[0;34m\u001b[0m\u001b[0;34m\u001b[0m\u001b[0;34m\u001b[0m\u001b[0m\n\u001b[1;32m    310\u001b[0m                 \u001b[0mself\u001b[0m\u001b[0;34m.\u001b[0m\u001b[0mwexog_singular_values\u001b[0m \u001b[0;34m=\u001b[0m \u001b[0msingular_values\u001b[0m\u001b[0;34m\u001b[0m\u001b[0;34m\u001b[0m\u001b[0m\n\u001b[0;32m--> 311\u001b[0;31m                 \u001b[0mself\u001b[0m\u001b[0;34m.\u001b[0m\u001b[0mrank\u001b[0m \u001b[0;34m=\u001b[0m \u001b[0mnp\u001b[0m\u001b[0;34m.\u001b[0m\u001b[0mlinalg\u001b[0m\u001b[0;34m.\u001b[0m\u001b[0mmatrix_rank\u001b[0m\u001b[0;34m(\u001b[0m\u001b[0mnp\u001b[0m\u001b[0;34m.\u001b[0m\u001b[0mdiag\u001b[0m\u001b[0;34m(\u001b[0m\u001b[0msingular_values\u001b[0m\u001b[0;34m)\u001b[0m\u001b[0;34m)\u001b[0m\u001b[0;34m\u001b[0m\u001b[0;34m\u001b[0m\u001b[0m\n\u001b[0m\u001b[1;32m    312\u001b[0m \u001b[0;34m\u001b[0m\u001b[0m\n\u001b[1;32m    313\u001b[0m             \u001b[0mbeta\u001b[0m \u001b[0;34m=\u001b[0m \u001b[0mnp\u001b[0m\u001b[0;34m.\u001b[0m\u001b[0mdot\u001b[0m\u001b[0;34m(\u001b[0m\u001b[0mself\u001b[0m\u001b[0;34m.\u001b[0m\u001b[0mpinv_wexog\u001b[0m\u001b[0;34m,\u001b[0m \u001b[0mself\u001b[0m\u001b[0;34m.\u001b[0m\u001b[0mwendog\u001b[0m\u001b[0;34m)\u001b[0m\u001b[0;34m\u001b[0m\u001b[0;34m\u001b[0m\u001b[0m\n",
      "\u001b[0;32m<__array_function__ internals>\u001b[0m in \u001b[0;36mmatrix_rank\u001b[0;34m(*args, **kwargs)\u001b[0m\n",
      "\u001b[0;32m~/miniconda3/envs/minicomp/lib/python3.9/site-packages/numpy/linalg/linalg.py\u001b[0m in \u001b[0;36mmatrix_rank\u001b[0;34m(M, tol, hermitian)\u001b[0m\n\u001b[1;32m   1904\u001b[0m     \u001b[0;32melse\u001b[0m\u001b[0;34m:\u001b[0m\u001b[0;34m\u001b[0m\u001b[0;34m\u001b[0m\u001b[0m\n\u001b[1;32m   1905\u001b[0m         \u001b[0mtol\u001b[0m \u001b[0;34m=\u001b[0m \u001b[0masarray\u001b[0m\u001b[0;34m(\u001b[0m\u001b[0mtol\u001b[0m\u001b[0;34m)\u001b[0m\u001b[0;34m[\u001b[0m\u001b[0;34m...\u001b[0m\u001b[0;34m,\u001b[0m \u001b[0mnewaxis\u001b[0m\u001b[0;34m]\u001b[0m\u001b[0;34m\u001b[0m\u001b[0;34m\u001b[0m\u001b[0m\n\u001b[0;32m-> 1906\u001b[0;31m     \u001b[0;32mreturn\u001b[0m \u001b[0mcount_nonzero\u001b[0m\u001b[0;34m(\u001b[0m\u001b[0mS\u001b[0m \u001b[0;34m>\u001b[0m \u001b[0mtol\u001b[0m\u001b[0;34m,\u001b[0m \u001b[0maxis\u001b[0m\u001b[0;34m=\u001b[0m\u001b[0;34m-\u001b[0m\u001b[0;36m1\u001b[0m\u001b[0;34m)\u001b[0m\u001b[0;34m\u001b[0m\u001b[0;34m\u001b[0m\u001b[0m\n\u001b[0m\u001b[1;32m   1907\u001b[0m \u001b[0;34m\u001b[0m\u001b[0m\n\u001b[1;32m   1908\u001b[0m \u001b[0;34m\u001b[0m\u001b[0m\n",
      "\u001b[0;32m<__array_function__ internals>\u001b[0m in \u001b[0;36mcount_nonzero\u001b[0;34m(*args, **kwargs)\u001b[0m\n",
      "\u001b[0;31mKeyboardInterrupt\u001b[0m: "
     ]
    }
   ],
   "source": [
    "# Check stationarity\n",
    "\n",
    "from statsmodels.tsa.stattools import adfuller\n",
    "pvalues = []\n",
    "store_ids = newtrain_set['Store'].unique()\n",
    "for id in store_ids:\n",
    "    result = adfuller(newtrain_set.loc[newtrain_set['Store'] == id, 'Sales'])\n",
    " #   print('ADF Statistic: %f' % result[0])\n",
    "    pvalues.append(result[1])\n",
    "\n",
    "df_pvalues = pd.DataFrame({\n",
    "        \"Store\" : store_ids,\n",
    "        \"pvalue\" : pvalues,\n",
    "})\n",
    "\n",
    "# Plotly Express is now a sublibrary of Plotly:\n",
    "import plotly.express as px\n",
    "fig = px.scatter(\n",
    "    data_frame=df_pvalues,\n",
    "    x='Store',\n",
    "    y='pvalue',\n",
    "    title='P values per store',\n",
    "    log_y = True\n",
    ")\n",
    "fig.add_hline(y=0.05)\n",
    "fig.show()\n",
    "\n",
    "\n"
   ]
  },
  {
   "cell_type": "code",
   "execution_count": null,
   "id": "7b44d21c",
   "metadata": {},
   "outputs": [],
   "source": []
  }
 ],
 "metadata": {
  "kernelspec": {
   "display_name": "minicomp",
   "language": "python",
   "name": "minicomp"
  },
  "language_info": {
   "codemirror_mode": {
    "name": "ipython",
    "version": 3
   },
   "file_extension": ".py",
   "mimetype": "text/x-python",
   "name": "python",
   "nbconvert_exporter": "python",
   "pygments_lexer": "ipython3",
   "version": "3.9.4"
  }
 },
 "nbformat": 4,
 "nbformat_minor": 5
}
