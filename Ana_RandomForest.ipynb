{
 "cells": [
  {
   "cell_type": "markdown",
   "id": "672e6ab4",
   "metadata": {},
   "source": [
    "# Random forest"
   ]
  },
  {
   "cell_type": "markdown",
   "id": "0ba15e1d",
   "metadata": {},
   "source": [
    "## Data preprocessing steps"
   ]
  },
  {
   "cell_type": "code",
   "execution_count": 2,
   "id": "fe4cfa71",
   "metadata": {},
   "outputs": [],
   "source": [
    "%matplotlib inline\n",
    "import pandas as pd\n",
    "import numpy as np\n",
    "import matplotlib.pyplot as plt\n",
    "import plotly"
   ]
  },
  {
   "cell_type": "code",
   "execution_count": 54,
   "id": "c1000064",
   "metadata": {},
   "outputs": [],
   "source": [
    "# loading the transformed data\n",
    "\n",
    "train = pd.read_csv('data/train_transformed.csv').reset_index(drop=True)\n",
    "validation = pd.read_csv('data/validation_transformed.csv')\n",
    "\n",
    "train = train.drop(columns='Unnamed: 0')\n",
    "validation = validation.drop(columns='Unnamed: 0')"
   ]
  },
  {
   "cell_type": "code",
   "execution_count": 55,
   "id": "71b050b1",
   "metadata": {
    "scrolled": true
   },
   "outputs": [
    {
     "data": {
      "text/plain": [
       "Index(['CompetitionDistance', 'Sales', 'Store_cat_h', 'Store_cat_l',\n",
       "       'Store_cat_m', 'Store_cat_vh', 'StateHoliday_0',\n",
       "       'StateHoliday_Christmas', 'StateHoliday_Easter', 'StateHoliday_Public',\n",
       "       'SchoolHoliday_0.0', 'SchoolHoliday_1.0', 'StoreType_a', 'StoreType_b',\n",
       "       'StoreType_c', 'StoreType_d', 'Assortment_a', 'Assortment_b',\n",
       "       'Assortment_c', 'DayOfWeek_0', 'DayOfWeek_1', 'DayOfWeek_2',\n",
       "       'DayOfWeek_3', 'DayOfWeek_4', 'DayOfWeek_5', 'DayOfWeek_6', 'Promo_0.0',\n",
       "       'Promo_1.0'],\n",
       "      dtype='object')"
      ]
     },
     "execution_count": 55,
     "metadata": {},
     "output_type": "execute_result"
    }
   ],
   "source": [
    "train.columns"
   ]
  },
  {
   "cell_type": "code",
   "execution_count": 58,
   "id": "74d6d7a0",
   "metadata": {},
   "outputs": [],
   "source": [
    "ytrain = train['Sales']\n",
    "Xtrain = train.drop(columns = 'Sales')\n",
    "\n",
    "yval = validation['Sales']\n",
    "Xval = validation.drop(columns = 'Sales')"
   ]
  },
  {
   "cell_type": "markdown",
   "id": "a9c03e12",
   "metadata": {},
   "source": [
    "## Run Random Forest with all features for base line and check feature importance"
   ]
  },
  {
   "cell_type": "code",
   "execution_count": 56,
   "id": "5038bbe6",
   "metadata": {},
   "outputs": [],
   "source": [
    "from sklearn.linear_model import LinearRegression\n",
    "from sklearn.metrics import mean_squared_error\n",
    "from sklearn.metrics import r2_score\n",
    "from sklearn.ensemble import RandomForestRegressor\n",
    "from sklearn.model_selection import RandomizedSearchCV"
   ]
  },
  {
   "cell_type": "code",
   "execution_count": 57,
   "id": "2f9898a6",
   "metadata": {},
   "outputs": [],
   "source": [
    "# metric \n",
    "\n",
    "def metric(preds, actuals):\n",
    "    preds = preds.reshape(-1)\n",
    "    actuals = actuals.reshape(-1)\n",
    "    assert preds.shape == actuals.shape\n",
    "    return 100 * np.linalg.norm((actuals - preds) / actuals) / np.sqrt(preds.shape[0])"
   ]
  },
  {
   "cell_type": "code",
   "execution_count": 59,
   "id": "2af52462",
   "metadata": {
    "scrolled": true
   },
   "outputs": [
    {
     "ename": "AssertionError",
     "evalue": "",
     "output_type": "error",
     "traceback": [
      "\u001b[0;31m---------------------------------------------------------------------------\u001b[0m",
      "\u001b[0;31mAssertionError\u001b[0m                            Traceback (most recent call last)",
      "\u001b[0;32m<ipython-input-59-86ed23dac6f9>\u001b[0m in \u001b[0;36m<module>\u001b[0;34m\u001b[0m\n\u001b[1;32m      8\u001b[0m \u001b[0;34m\u001b[0m\u001b[0m\n\u001b[1;32m      9\u001b[0m \u001b[0mbase_train\u001b[0m \u001b[0;34m=\u001b[0m \u001b[0mmetric\u001b[0m\u001b[0;34m(\u001b[0m\u001b[0mnp\u001b[0m\u001b[0;34m.\u001b[0m\u001b[0marray\u001b[0m\u001b[0;34m(\u001b[0m\u001b[0mpred_train\u001b[0m\u001b[0;34m)\u001b[0m\u001b[0;34m,\u001b[0m \u001b[0mnp\u001b[0m\u001b[0;34m.\u001b[0m\u001b[0marray\u001b[0m\u001b[0;34m(\u001b[0m\u001b[0mytrain\u001b[0m\u001b[0;34m)\u001b[0m\u001b[0;34m)\u001b[0m\u001b[0;34m\u001b[0m\u001b[0;34m\u001b[0m\u001b[0m\n\u001b[0;32m---> 10\u001b[0;31m \u001b[0mbase_val\u001b[0m \u001b[0;34m=\u001b[0m \u001b[0mmetric\u001b[0m\u001b[0;34m(\u001b[0m\u001b[0mnp\u001b[0m\u001b[0;34m.\u001b[0m\u001b[0marray\u001b[0m\u001b[0;34m(\u001b[0m\u001b[0mpred_val\u001b[0m\u001b[0;34m)\u001b[0m\u001b[0;34m,\u001b[0m \u001b[0mnp\u001b[0m\u001b[0;34m.\u001b[0m\u001b[0marray\u001b[0m\u001b[0;34m(\u001b[0m\u001b[0mytrain\u001b[0m\u001b[0;34m)\u001b[0m\u001b[0;34m)\u001b[0m\u001b[0;34m\u001b[0m\u001b[0;34m\u001b[0m\u001b[0m\n\u001b[0m",
      "\u001b[0;32m<ipython-input-57-3ffe55e1eb78>\u001b[0m in \u001b[0;36mmetric\u001b[0;34m(preds, actuals)\u001b[0m\n\u001b[1;32m      4\u001b[0m     \u001b[0mpreds\u001b[0m \u001b[0;34m=\u001b[0m \u001b[0mpreds\u001b[0m\u001b[0;34m.\u001b[0m\u001b[0mreshape\u001b[0m\u001b[0;34m(\u001b[0m\u001b[0;34m-\u001b[0m\u001b[0;36m1\u001b[0m\u001b[0;34m)\u001b[0m\u001b[0;34m\u001b[0m\u001b[0;34m\u001b[0m\u001b[0m\n\u001b[1;32m      5\u001b[0m     \u001b[0mactuals\u001b[0m \u001b[0;34m=\u001b[0m \u001b[0mactuals\u001b[0m\u001b[0;34m.\u001b[0m\u001b[0mreshape\u001b[0m\u001b[0;34m(\u001b[0m\u001b[0;34m-\u001b[0m\u001b[0;36m1\u001b[0m\u001b[0;34m)\u001b[0m\u001b[0;34m\u001b[0m\u001b[0;34m\u001b[0m\u001b[0m\n\u001b[0;32m----> 6\u001b[0;31m     \u001b[0;32massert\u001b[0m \u001b[0mpreds\u001b[0m\u001b[0;34m.\u001b[0m\u001b[0mshape\u001b[0m \u001b[0;34m==\u001b[0m \u001b[0mactuals\u001b[0m\u001b[0;34m.\u001b[0m\u001b[0mshape\u001b[0m\u001b[0;34m\u001b[0m\u001b[0;34m\u001b[0m\u001b[0m\n\u001b[0m\u001b[1;32m      7\u001b[0m     \u001b[0;32mreturn\u001b[0m \u001b[0;36m100\u001b[0m \u001b[0;34m*\u001b[0m \u001b[0mnp\u001b[0m\u001b[0;34m.\u001b[0m\u001b[0mlinalg\u001b[0m\u001b[0;34m.\u001b[0m\u001b[0mnorm\u001b[0m\u001b[0;34m(\u001b[0m\u001b[0;34m(\u001b[0m\u001b[0mactuals\u001b[0m \u001b[0;34m-\u001b[0m \u001b[0mpreds\u001b[0m\u001b[0;34m)\u001b[0m \u001b[0;34m/\u001b[0m \u001b[0mactuals\u001b[0m\u001b[0;34m)\u001b[0m \u001b[0;34m/\u001b[0m \u001b[0mnp\u001b[0m\u001b[0;34m.\u001b[0m\u001b[0msqrt\u001b[0m\u001b[0;34m(\u001b[0m\u001b[0mpreds\u001b[0m\u001b[0;34m.\u001b[0m\u001b[0mshape\u001b[0m\u001b[0;34m[\u001b[0m\u001b[0;36m0\u001b[0m\u001b[0;34m]\u001b[0m\u001b[0;34m)\u001b[0m\u001b[0;34m\u001b[0m\u001b[0;34m\u001b[0m\u001b[0m\n",
      "\u001b[0;31mAssertionError\u001b[0m: "
     ]
    }
   ],
   "source": [
    "# base line Random Forest\n",
    "\n",
    "base_rf = RandomForestRegressor(random_state=42)\n",
    "base_rf.fit(Xtrain, ytrain)\n",
    "\n",
    "pred_train = base_rf.predict(Xtrain)\n",
    "pred_val = base_rf.predict(Xval)\n",
    "\n",
    "base_train = metric(np.array(pred_train), np.array(ytrain))\n",
    "base_val = metric(np.array(pred_val), np.array(yval))"
   ]
  },
  {
   "cell_type": "code",
   "execution_count": 62,
   "id": "314fb70f",
   "metadata": {},
   "outputs": [
    {
     "name": "stdout",
     "output_type": "stream",
     "text": [
      "Metric train 22.3860988112353\n",
      "Metric val 38.704869808136024\n"
     ]
    }
   ],
   "source": [
    "print(f'Metric train {base_train}')\n",
    "print(f'Metric val {base_val}')"
   ]
  },
  {
   "cell_type": "code",
   "execution_count": 63,
   "id": "ea12ca0c",
   "metadata": {},
   "outputs": [
    {
     "data": {
      "image/png": "[encoded data removed]",
      "text/plain": [
       "<Figure size 432x288 with 1 Axes>"
      ]
     },
     "metadata": {
      "needs_background": "light"
     },
     "output_type": "display_data"
    }
   ],
   "source": [
    "# feature importance \n",
    "importances = base_rf.feature_importances_\n",
    "\n",
    "forest_importances = pd.Series(importances, index=Xtrain.columns)\n",
    "std = np.std([base_rf.feature_importances_ for tree in base_rf.estimators_], axis=0)\n",
    "forest_importances = forest_importances.sort_values()\n",
    "\n",
    "fig, ax = plt.subplots()\n",
    "forest_importances.plot.bar(ax=ax)\n",
    "ax.set_title(\"Feature importances \")\n",
    "fig.tight_layout()"
   ]
  },
  {
   "cell_type": "markdown",
   "id": "bc00c325",
   "metadata": {},
   "source": [
    "## About features: missing week of the year?, store ID in other way?\n",
    "### From previous, remove the feature with less importance "
   ]
  },
  {
   "cell_type": "code",
   "execution_count": 64,
   "id": "48bca9d8",
   "metadata": {},
   "outputs": [],
   "source": [
    "rem_col = {\n",
    "  'rem_com_promo': ['Promo_0.0', 'Promo_1.0'],\n",
    "  'rem_holidays': ['Promo_0.0', 'Promo_1.0', 'StateHoliday_0', 'StateHoliday_Christmas', 'StateHoliday_Easter', 'StateHoliday_Public',\n",
    "       'SchoolHoliday_0.0', 'SchoolHoliday_1.0']\n",
    "}\n",
    "\n"
   ]
  },
  {
   "cell_type": "code",
   "execution_count": 66,
   "id": "fe3012d4",
   "metadata": {
    "scrolled": true
   },
   "outputs": [
    {
     "data": {
      "text/plain": [
       "2"
      ]
     },
     "execution_count": 66,
     "metadata": {},
     "output_type": "execute_result"
    }
   ],
   "source": [
    "len(rem_col)"
   ]
  },
  {
   "cell_type": "code",
   "execution_count": 79,
   "id": "5c51c0f9",
   "metadata": {},
   "outputs": [
    {
     "data": {
      "text/plain": [
       "['rem_com_promo', 'rem_holidays']"
      ]
     },
     "execution_count": 79,
     "metadata": {},
     "output_type": "execute_result"
    }
   ],
   "source": [
    "list(rem_col.keys())"
   ]
  },
  {
   "cell_type": "code",
   "execution_count": 52,
   "id": "e7c50b44",
   "metadata": {},
   "outputs": [],
   "source": [
    "# Testing performance removing different set of features"
   ]
  },
  {
   "cell_type": "code",
   "execution_count": 81,
   "id": "e517607d",
   "metadata": {},
   "outputs": [],
   "source": [
    "metrics_all = []\n",
    "dd = list(rem_col.keys()) \n",
    "\n",
    "for i in range(len(rem_col)):\n",
    "    model = RandomForestRegressor(random_state=42)\n",
    "    model.fit(Xtrain.drop(columns=rem_col[dd[i]]), ytrain)\n",
    "\n",
    "    pred_train_new = model.predict(Xtrain.drop(columns=rem_col[dd[i]]))\n",
    "    pred_val_new = model.predict(Xval.drop(columns=rem_col[dd[i]]))\n",
    "\n",
    "    metrics_all.append(metric(np.array(pred_val_new), np.array(yval)))\n",
    "    \n",
    "    "
   ]
  },
  {
   "cell_type": "code",
   "execution_count": 82,
   "id": "7744f4fd",
   "metadata": {
    "scrolled": true
   },
   "outputs": [
    {
     "name": "stdout",
     "output_type": "stream",
     "text": [
      "Metric for 0 is 37.74809260092368\n",
      "Metric for 1 is 23.591985647360225\n"
     ]
    }
   ],
   "source": [
    "# Metrics for different features combinations\n",
    "\n",
    "for i in range(len(rem_col)):\n",
    "    print(f'Metric for {i} is {metrics_all[i]}')\n"
   ]
  },
  {
   "cell_type": "markdown",
   "id": "8c16fcbe",
   "metadata": {},
   "source": [
    "### It seems better to remove the holidays"
   ]
  },
  {
   "cell_type": "code",
   "execution_count": 84,
   "id": "d6b8b04f",
   "metadata": {},
   "outputs": [
    {
     "name": "stdout",
     "output_type": "stream",
     "text": [
      "Fitting 3 folds for each of 5 candidates, totalling 15 fits\n",
      "Best model is RandomForestRegressor(max_depth=38, max_features='sqrt', n_estimators=130)\n"
     ]
    }
   ],
   "source": [
    "# Grid search over selected feature combination\n",
    "\n",
    "n_estimators = [int(x) for x in np.linspace(start=120, stop=130, num=2)]\n",
    "max_features = ['auto', 'sqrt']\n",
    "max_depth = [int(x) for x in np.linspace(5, 50, num=5)]\n",
    "\n",
    "grid = {'n_estimators': n_estimators,\n",
    "               'max_features': max_features,\n",
    "               'max_depth': max_depth}\n",
    "\n",
    "\n",
    "model_RFR = RandomForestRegressor()\n",
    "rf_random = RandomizedSearchCV(estimator=model_RFR,\n",
    "                               param_distributions=grid,\n",
    "                               n_iter=5,  # try 5 models\n",
    "                               cv=3,\n",
    "                               verbose=2,\n",
    "                               random_state=42,\n",
    "                               n_jobs=-1)\n",
    "\n",
    "rf_random.fit(Xtrain.drop(columns=rem_col[dd[1]]), ytrain)\n",
    "best_random = rf_random.best_estimator_\n",
    "print(f'Best model is {best_random}')\n",
    "best_metric = metric(np.array(best_random.predict(Xval.drop(columns=rem_col[dd[1]]))), np.array(yval))"
   ]
  },
  {
   "cell_type": "code",
   "execution_count": 85,
   "id": "3fd117c2",
   "metadata": {},
   "outputs": [
    {
     "name": "stdout",
     "output_type": "stream",
     "text": [
      "Metric with best forest is 23.577647791245695\n"
     ]
    }
   ],
   "source": [
    "# the metric is almost the same as with the default parameters\n",
    "print(f'Metric with best forest is {best_metric}')"
   ]
  }
 ],
 "metadata": {
  "kernelspec": {
   "display_name": "minicomp",
   "language": "python",
   "name": "minicomp"
  },
  "language_info": {
   "codemirror_mode": {
    "name": "ipython",
    "version": 3
   },
   "file_extension": ".py",
   "mimetype": "text/x-python",
   "name": "python",
   "nbconvert_exporter": "python",
   "pygments_lexer": "ipython3",
   "version": "3.9.4"
  }
 },
 "nbformat": 4,
 "nbformat_minor": 5
}
