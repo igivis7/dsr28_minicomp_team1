{
 "cells": [
  {
   "cell_type": "markdown",
   "id": "a808edfc",
   "metadata": {},
   "source": [
    "# Random forest"
   ]
  },
  {
   "cell_type": "markdown",
   "id": "73e3aa87",
   "metadata": {},
   "source": [
    "## Data preprocessing steps"
   ]
  },
  {
   "cell_type": "code",
   "execution_count": 2,
   "id": "85cde22b",
   "metadata": {},
   "outputs": [],
   "source": [
    "%matplotlib inline\n",
    "import pandas as pd\n",
    "import numpy as np\n",
    "import matplotlib.pyplot as plt\n",
    "import plotly"
   ]
  },
  {
   "cell_type": "code",
   "execution_count": 86,
   "id": "8da03191",
   "metadata": {},
   "outputs": [],
   "source": [
    "# loading the transformed data\n",
    "\n",
    "train = pd.read_csv('data/train_transformed.csv').reset_index(drop=True)\n",
    "validation = pd.read_csv('data/validation_transformed.csv')\n",
    "\n",
    "train = train.drop(columns='Unnamed: 0')\n",
    "validation = validation.drop(columns='Unnamed: 0')"
   ]
  },
  {
   "cell_type": "code",
   "execution_count": 95,
   "id": "21b567dc",
   "metadata": {},
   "outputs": [
    {
     "data": {
      "text/plain": [
       "Index(['Sales', 'CompetitionDistance', 'Store_cat', 'CompetitionSinceMonths',\n",
       "       'Promo2SinceWeeks', 'Promo_0.0', 'Promo_1.0', 'StateHoliday_0',\n",
       "       'StateHoliday_Christmas', 'StateHoliday_Easter', 'StateHoliday_Public',\n",
       "       'SchoolHoliday_0.0', 'SchoolHoliday_1.0', 'StoreType_a', 'StoreType_b',\n",
       "       'StoreType_c', 'StoreType_d', 'Assortment_a', 'Assortment_b',\n",
       "       'Assortment_c', 'Month_1', 'Month_10', 'Month_11', 'Month_12',\n",
       "       'Month_2', 'Month_3', 'Month_4', 'Month_5', 'Month_6', 'Month_7',\n",
       "       'Month_8', 'Month_9', 'DayOfWeek_0', 'DayOfWeek_1', 'DayOfWeek_2',\n",
       "       'DayOfWeek_3', 'DayOfWeek_4', 'DayOfWeek_5', 'DayOfWeek_6'],\n",
       "      dtype='object')"
      ]
     },
     "execution_count": 95,
     "metadata": {},
     "output_type": "execute_result"
    }
   ],
   "source": [
    "train.columns"
   ]
  },
  {
   "cell_type": "code",
   "execution_count": 87,
   "id": "a418b011",
   "metadata": {
    "scrolled": true
   },
   "outputs": [
    {
     "name": "stdout",
     "output_type": "stream",
     "text": [
      "<class 'pandas.core.frame.DataFrame'>\n",
      "RangeIndex: 422591 entries, 0 to 422590\n",
      "Data columns (total 39 columns):\n",
      " #   Column                  Non-Null Count   Dtype  \n",
      "---  ------                  --------------   -----  \n",
      " 0   Sales                   422591 non-null  float64\n",
      " 1   CompetitionDistance     422591 non-null  float64\n",
      " 2   Store_cat               422591 non-null  float64\n",
      " 3   CompetitionSinceMonths  422591 non-null  float64\n",
      " 4   Promo2SinceWeeks        422591 non-null  float64\n",
      " 5   Promo_0.0               422591 non-null  int64  \n",
      " 6   Promo_1.0               422591 non-null  int64  \n",
      " 7   StateHoliday_0          422591 non-null  int64  \n",
      " 8   StateHoliday_Christmas  422591 non-null  int64  \n",
      " 9   StateHoliday_Easter     422591 non-null  int64  \n",
      " 10  StateHoliday_Public     422591 non-null  int64  \n",
      " 11  SchoolHoliday_0.0       422591 non-null  int64  \n",
      " 12  SchoolHoliday_1.0       422591 non-null  int64  \n",
      " 13  StoreType_a             422591 non-null  int64  \n",
      " 14  StoreType_b             422591 non-null  int64  \n",
      " 15  StoreType_c             422591 non-null  int64  \n",
      " 16  StoreType_d             422591 non-null  int64  \n",
      " 17  Assortment_a            422591 non-null  int64  \n",
      " 18  Assortment_b            422591 non-null  int64  \n",
      " 19  Assortment_c            422591 non-null  int64  \n",
      " 20  Month_1                 422591 non-null  int64  \n",
      " 21  Month_10                422591 non-null  int64  \n",
      " 22  Month_11                422591 non-null  int64  \n",
      " 23  Month_12                422591 non-null  int64  \n",
      " 24  Month_2                 422591 non-null  int64  \n",
      " 25  Month_3                 422591 non-null  int64  \n",
      " 26  Month_4                 422591 non-null  int64  \n",
      " 27  Month_5                 422591 non-null  int64  \n",
      " 28  Month_6                 422591 non-null  int64  \n",
      " 29  Month_7                 422591 non-null  int64  \n",
      " 30  Month_8                 422591 non-null  int64  \n",
      " 31  Month_9                 422591 non-null  int64  \n",
      " 32  DayOfWeek_0             422591 non-null  int64  \n",
      " 33  DayOfWeek_1             422591 non-null  int64  \n",
      " 34  DayOfWeek_2             422591 non-null  int64  \n",
      " 35  DayOfWeek_3             422591 non-null  int64  \n",
      " 36  DayOfWeek_4             422591 non-null  int64  \n",
      " 37  DayOfWeek_5             422591 non-null  int64  \n",
      " 38  DayOfWeek_6             422591 non-null  int64  \n",
      "dtypes: float64(5), int64(34)\n",
      "memory usage: 125.7 MB\n"
     ]
    }
   ],
   "source": [
    "train.info()"
   ]
  },
  {
   "cell_type": "code",
   "execution_count": 92,
   "id": "c11031dd",
   "metadata": {},
   "outputs": [
    {
     "data": {
      "text/plain": [
       "Sales                     float64\n",
       "CompetitionDistance       float64\n",
       "Store_cat                 float64\n",
       "CompetitionSinceMonths    float64\n",
       "Promo2SinceWeeks          float64\n",
       "Promo_0.0                   int64\n",
       "Promo_1.0                   int64\n",
       "StateHoliday_0              int64\n",
       "StateHoliday_Christmas      int64\n",
       "StateHoliday_Easter         int64\n",
       "StateHoliday_Public         int64\n",
       "SchoolHoliday_0.0           int64\n",
       "SchoolHoliday_1.0           int64\n",
       "StoreType_a                 int64\n",
       "StoreType_b                 int64\n",
       "StoreType_c                 int64\n",
       "StoreType_d                 int64\n",
       "Assortment_a                int64\n",
       "Assortment_b                int64\n",
       "Assortment_c                int64\n",
       "Month_1                     int64\n",
       "Month_10                    int64\n",
       "Month_11                    int64\n",
       "Month_12                    int64\n",
       "Month_2                     int64\n",
       "Month_3                     int64\n",
       "Month_4                     int64\n",
       "Month_5                     int64\n",
       "Month_6                     int64\n",
       "Month_7                     int64\n",
       "Month_8                     int64\n",
       "Month_9                     int64\n",
       "DayOfWeek_0                 int64\n",
       "DayOfWeek_1                 int64\n",
       "DayOfWeek_2                 int64\n",
       "DayOfWeek_3                 int64\n",
       "DayOfWeek_4                 int64\n",
       "DayOfWeek_5                 int64\n",
       "DayOfWeek_6                 int64\n",
       "dtype: object"
      ]
     },
     "execution_count": 92,
     "metadata": {},
     "output_type": "execute_result"
    }
   ],
   "source": [
    "# types in the columns\n",
    "\n",
    "train.dtypes"
   ]
  },
  {
   "cell_type": "code",
   "execution_count": 90,
   "id": "ea8a5cc1",
   "metadata": {},
   "outputs": [],
   "source": [
    "ytrain = train['Sales']\n",
    "Xtrain = train.drop(columns = 'Sales')\n",
    "\n",
    "yval = validation['Sales']\n",
    "Xval = validation.drop(columns = 'Sales')"
   ]
  },
  {
   "cell_type": "markdown",
   "id": "a093280f",
   "metadata": {},
   "source": [
    "## Run Random Forest with all features for base line and check feature importance"
   ]
  },
  {
   "cell_type": "code",
   "execution_count": 101,
   "id": "d8e2842f",
   "metadata": {},
   "outputs": [],
   "source": [
    "from sklearn.linear_model import LinearRegression\n",
    "from sklearn.metrics import mean_squared_error\n",
    "from sklearn.metrics import r2_score\n",
    "from sklearn.ensemble import RandomForestRegressor\n",
    "from sklearn.model_selection import RandomizedSearchCV\n",
    "from sklearn.model_selection import GridSearchCV"
   ]
  },
  {
   "cell_type": "code",
   "execution_count": 57,
   "id": "73cd9ed0",
   "metadata": {},
   "outputs": [],
   "source": [
    "# metric \n",
    "\n",
    "def metric(preds, actuals):\n",
    "    preds = preds.reshape(-1)\n",
    "    actuals = actuals.reshape(-1)\n",
    "    assert preds.shape == actuals.shape\n",
    "    return 100 * np.linalg.norm((actuals - preds) / actuals) / np.sqrt(preds.shape[0])"
   ]
  },
  {
   "cell_type": "code",
   "execution_count": 91,
   "id": "ad1a5bd5",
   "metadata": {
    "scrolled": true
   },
   "outputs": [],
   "source": [
    "# base line Random Forest with default parameters\n",
    "\n",
    "base_rf = RandomForestRegressor(random_state=42)\n",
    "base_rf.fit(Xtrain, ytrain)\n",
    "\n",
    "pred_train = base_rf.predict(Xtrain)\n",
    "pred_val = base_rf.predict(Xval)\n",
    "\n",
    "base_train = metric(np.array(pred_train), np.array(ytrain))\n",
    "\n",
    "base_val = metric(np.array(pred_val), np.array(yval))"
   ]
  },
  {
   "cell_type": "code",
   "execution_count": 93,
   "id": "98da23fe",
   "metadata": {},
   "outputs": [
    {
     "name": "stdout",
     "output_type": "stream",
     "text": [
      "RMSPE train 16.73220941031702\n",
      "RMSPE val 28.606579538106395\n"
     ]
    }
   ],
   "source": [
    "print(f'RMSPE train {base_train}')\n",
    "print(f'RMSPE val {base_val}')"
   ]
  },
  {
   "cell_type": "code",
   "execution_count": 94,
   "id": "a15828e7",
   "metadata": {},
   "outputs": [
    {
     "data": {
      "image/png": "[encoded data removed]",
      "text/plain": [
       "<Figure size 432x288 with 1 Axes>"
      ]
     },
     "metadata": {
      "needs_background": "light"
     },
     "output_type": "display_data"
    }
   ],
   "source": [
    "# feature importance \n",
    "importances = base_rf.feature_importances_\n",
    "\n",
    "forest_importances = pd.Series(importances, index=Xtrain.columns)\n",
    "std = np.std([base_rf.feature_importances_ for tree in base_rf.estimators_], axis=0)\n",
    "forest_importances = forest_importances.sort_values()\n",
    "\n",
    "fig, ax = plt.subplots()\n",
    "forest_importances.plot.bar(ax=ax)\n",
    "ax.set_title(\"Feature importances\")\n",
    "fig.tight_layout()"
   ]
  },
  {
   "cell_type": "markdown",
   "id": "9b9b9288",
   "metadata": {},
   "source": [
    "## About features: missing week of the year?\n",
    "### From previous the base, remove features with less important and try again"
   ]
  },
  {
   "cell_type": "code",
   "execution_count": 97,
   "id": "cf5debc4",
   "metadata": {},
   "outputs": [],
   "source": [
    "rem_col = {\n",
    "  'rem_promo': ['Promo_0.0', 'Promo_1.0'],\n",
    "  'rem_holidays': ['StateHoliday_0', 'StateHoliday_Christmas', 'StateHoliday_Easter', 'StateHoliday_Public',\n",
    "                  'SchoolHoliday_0.0', 'SchoolHoliday_1.0'],\n",
    "  'rem_assortment_holidays': ['StateHoliday_0', 'StateHoliday_Christmas', 'StateHoliday_Easter', 'StateHoliday_Public',\n",
    "                  'SchoolHoliday_0.0', 'SchoolHoliday_1.0','Assortment_a', 'Assortment_b', 'Assortment_c']  \n",
    "}"
   ]
  },
  {
   "cell_type": "code",
   "execution_count": 98,
   "id": "edb5c01d",
   "metadata": {},
   "outputs": [
    {
     "data": {
      "text/plain": [
       "['rem_promo', 'rem_holidays', 'rem_assortment_holidays']"
      ]
     },
     "execution_count": 98,
     "metadata": {},
     "output_type": "execute_result"
    }
   ],
   "source": [
    "list(rem_col.keys())"
   ]
  },
  {
   "cell_type": "code",
   "execution_count": 52,
   "id": "39b93474",
   "metadata": {},
   "outputs": [],
   "source": [
    "# Testing performance removing different set of features"
   ]
  },
  {
   "cell_type": "code",
   "execution_count": 99,
   "id": "3af4101b",
   "metadata": {},
   "outputs": [],
   "source": [
    "metrics_all = []\n",
    "dd = list(rem_col.keys()) \n",
    "\n",
    "for i in range(len(rem_col)):\n",
    "    model = RandomForestRegressor(random_state=42)\n",
    "    model.fit(Xtrain.drop(columns=rem_col[dd[i]]), ytrain)\n",
    "\n",
    "    pred_train_new = model.predict(Xtrain.drop(columns=rem_col[dd[i]]))\n",
    "    pred_val_new = model.predict(Xval.drop(columns=rem_col[dd[i]]))\n",
    "\n",
    "    metrics_all.append(metric(np.array(pred_val_new), np.array(yval)))\n",
    "    \n",
    "    "
   ]
  },
  {
   "cell_type": "code",
   "execution_count": 100,
   "id": "af7019e2",
   "metadata": {
    "scrolled": true
   },
   "outputs": [
    {
     "name": "stdout",
     "output_type": "stream",
     "text": [
      "RMSPE for rem_promo is 36.69922933211894\n",
      "RMSPE for rem_holidays is 25.331353987048967\n",
      "RMSPE for rem_assortment_holidays is 25.192994421751838\n"
     ]
    }
   ],
   "source": [
    "# Metrics for different features combinations\n",
    "\n",
    "for i in range(len(rem_col)):\n",
    "    print(f'RMSPE for {dd[i]} is {metrics_all[i]}')\n"
   ]
  },
  {
   "cell_type": "markdown",
   "id": "625e0c01",
   "metadata": {},
   "source": [
    "### Partial result, remove columns: [rem_assortment_holidays]"
   ]
  },
  {
   "cell_type": "code",
   "execution_count": 84,
   "id": "86c5612c",
   "metadata": {
    "scrolled": true
   },
   "outputs": [
    {
     "name": "stdout",
     "output_type": "stream",
     "text": [
      "Fitting 3 folds for each of 5 candidates, totalling 15 fits\n",
      "Best model is RandomForestRegressor(max_depth=38, max_features='sqrt', n_estimators=130)\n"
     ]
    }
   ],
   "source": [
    "# Grid for random search over selected feature combination\n",
    "\n",
    "best_index = 2\n",
    "\n",
    "n_estimators = [int(x) for x in np.linspace(start=10, stop=80, num=4)]\n",
    "max_features = ['auto', 'sqrt']\n",
    "max_depth = [int(x) for x in np.linspace(5, 50, num=5)]\n",
    "\n",
    "grid = {'n_estimators': n_estimators,\n",
    "               'max_features': max_features,\n",
    "               'max_depth': max_depth}\n",
    "\n",
    "\n",
    "model_RFR = RandomForestRegressor()\n",
    "rf_random = RandomizedSearchCV(estimator=model_RFR,\n",
    "                               param_distributions=grid,\n",
    "                               n_iter=5,  # try 5 models\n",
    "                               cv=3,\n",
    "                               verbose=2,\n",
    "                               random_state=42,\n",
    "                               n_jobs=-1)\n",
    "\n",
    "rf_random.fit(Xtrain.drop(columns=rem_col[dd[best_index]]), ytrain)\n",
    "best_random = rf_random.best_estimator_\n",
    "print(f'Best model is {best_random}')\n",
    "best_metric = metric(np.array(best_random.predict(Xval.drop(columns=rem_col[dd[best_index]]))), np.array(yval))"
   ]
  },
  {
   "cell_type": "code",
   "execution_count": null,
   "id": "ff19b962",
   "metadata": {},
   "outputs": [],
   "source": [
    "# Grid search over selected feature combination\n",
    "best_index = 2\n",
    "\n",
    "n_estimators = [int(x) for x in np.linspace(start=10, stop=80, num=4)]\n",
    "max_features = ['auto', 'sqrt']\n",
    "max_depth = [int(x) for x in np.linspace(10, 50, num=5)]\n",
    "\n",
    "grid = {'n_estimators': n_estimators,\n",
    "               'max_features': max_features,\n",
    "               'max_depth': max_depth}\n",
    "\n",
    "\n",
    "model_RFR = RandomForestRegressor()\n",
    "rf_random = GridSearchCV(estimator=model_RFR,\n",
    "                               param_grid=grid,\n",
    "                               cv=3,\n",
    "                               verbose=0,\n",
    "                               n_jobs=-1)\n",
    "\n",
    "rf_random.fit(Xtrain.drop(columns=rem_col[dd[best_index]]), ytrain)\n",
    "best_random = rf_random.best_estimator_\n",
    "print(f'Best model is {best_random}')\n",
    "best_metric = metric(np.array(best_random.predict(Xval.drop(columns=rem_col[dd[best_index]]))), np.array(yval))\n"
   ]
  },
  {
   "cell_type": "code",
   "execution_count": 85,
   "id": "a49eb5bb",
   "metadata": {},
   "outputs": [
    {
     "name": "stdout",
     "output_type": "stream",
     "text": [
      "Metric with best forest is 23.577647791245695\n"
     ]
    }
   ],
   "source": [
    "# the metric is almost the same as with the default parameters\n",
    "print(f'Metric with best forest is {best_metric}')"
   ]
  },
  {
   "cell_type": "code",
   "execution_count": null,
   "id": "8277522b",
   "metadata": {},
   "outputs": [],
   "source": [
    "# Saving the best model obtained with Random Forest\n",
    "\n",
    "import cPickle\n",
    "\n",
    "with open('saved_models', 'wb') as f:\n",
    "    cPickle.dump(rf, f)"
   ]
  },
  {
   "cell_type": "code",
   "execution_count": null,
   "id": "95e89779",
   "metadata": {},
   "outputs": [],
   "source": [
    "# Loading the model\n",
    "\n"
   ]
  }
 ],
 "metadata": {
  "kernelspec": {
   "display_name": "minicomp",
   "language": "python",
   "name": "minicomp"
  },
  "language_info": {
   "codemirror_mode": {
    "name": "ipython",
    "version": 3
   },
   "file_extension": ".py",
   "mimetype": "text/x-python",
   "name": "python",
   "nbconvert_exporter": "python",
   "pygments_lexer": "ipython3",
   "version": "3.9.4"
  }
 },
 "nbformat": 4,
 "nbformat_minor": 5
}
