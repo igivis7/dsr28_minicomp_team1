{
 "cells": [
  {
   "cell_type": "markdown",
   "id": "93a93ebf",
   "metadata": {},
   "source": [
    "# Data exploration train.csv"
   ]
  },
  {
   "cell_type": "code",
   "execution_count": 704,
   "id": "e7faa7bb",
   "metadata": {
    "scrolled": true
   },
   "outputs": [],
   "source": [
    "# Load data\n",
    "import pandas as pd\n",
    "train_data = pd.read_csv(\"data/train.csv\")\n",
    "store = pd.read_csv('data/store.csv')"
   ]
  },
  {
   "cell_type": "code",
   "execution_count": 310,
   "id": "40523693",
   "metadata": {
    "scrolled": false
   },
   "outputs": [
    {
     "name": "stdout",
     "output_type": "stream",
     "text": [
      "<class 'pandas.core.frame.DataFrame'>\n",
      "RangeIndex: 637774 entries, 0 to 637773\n",
      "Data columns (total 9 columns):\n",
      " #   Column         Non-Null Count   Dtype  \n",
      "---  ------         --------------   -----  \n",
      " 0   Date           637774 non-null  object \n",
      " 1   Store          618473 non-null  float64\n",
      " 2   DayOfWeek      618757 non-null  float64\n",
      " 3   Sales          618747 non-null  float64\n",
      " 4   Customers      618683 non-null  float64\n",
      " 5   Open           618588 non-null  float64\n",
      " 6   Promo          618580 non-null  float64\n",
      " 7   StateHoliday   618520 non-null  object \n",
      " 8   SchoolHoliday  618437 non-null  float64\n",
      "dtypes: float64(7), object(2)\n",
      "memory usage: 43.8+ MB\n"
     ]
    }
   ],
   "source": [
    "# explore data\n",
    "train_data.info()"
   ]
  },
  {
   "cell_type": "code",
   "execution_count": 202,
   "id": "dcc926d4",
   "metadata": {},
   "outputs": [
    {
     "data": {
      "text/html": [
       "<div>\n",
       "<style scoped>\n",
       "    .dataframe tbody tr th:only-of-type {\n",
       "        vertical-align: middle;\n",
       "    }\n",
       "\n",
       "    .dataframe tbody tr th {\n",
       "        vertical-align: top;\n",
       "    }\n",
       "\n",
       "    .dataframe thead th {\n",
       "        text-align: right;\n",
       "    }\n",
       "</style>\n",
       "<table border=\"1\" class=\"dataframe\">\n",
       "  <thead>\n",
       "    <tr style=\"text-align: right;\">\n",
       "      <th></th>\n",
       "      <th>Store</th>\n",
       "      <th>DayOfWeek</th>\n",
       "      <th>Sales</th>\n",
       "      <th>Customers</th>\n",
       "      <th>Open</th>\n",
       "      <th>Promo</th>\n",
       "      <th>SchoolHoliday</th>\n",
       "    </tr>\n",
       "  </thead>\n",
       "  <tbody>\n",
       "    <tr>\n",
       "      <th>count</th>\n",
       "      <td>618473.000000</td>\n",
       "      <td>618757.000000</td>\n",
       "      <td>618747.000000</td>\n",
       "      <td>618683.000000</td>\n",
       "      <td>618588.000000</td>\n",
       "      <td>618580.000000</td>\n",
       "      <td>618437.000000</td>\n",
       "    </tr>\n",
       "    <tr>\n",
       "      <th>mean</th>\n",
       "      <td>558.105623</td>\n",
       "      <td>3.994914</td>\n",
       "      <td>5668.015834</td>\n",
       "      <td>628.909831</td>\n",
       "      <td>0.829167</td>\n",
       "      <td>0.370447</td>\n",
       "      <td>0.173253</td>\n",
       "    </tr>\n",
       "    <tr>\n",
       "      <th>std</th>\n",
       "      <td>321.885545</td>\n",
       "      <td>1.997485</td>\n",
       "      <td>3809.655137</td>\n",
       "      <td>463.786905</td>\n",
       "      <td>0.376363</td>\n",
       "      <td>0.482925</td>\n",
       "      <td>0.378466</td>\n",
       "    </tr>\n",
       "    <tr>\n",
       "      <th>min</th>\n",
       "      <td>1.000000</td>\n",
       "      <td>1.000000</td>\n",
       "      <td>0.000000</td>\n",
       "      <td>0.000000</td>\n",
       "      <td>0.000000</td>\n",
       "      <td>0.000000</td>\n",
       "      <td>0.000000</td>\n",
       "    </tr>\n",
       "    <tr>\n",
       "      <th>25%</th>\n",
       "      <td>279.000000</td>\n",
       "      <td>2.000000</td>\n",
       "      <td>3640.000000</td>\n",
       "      <td>397.000000</td>\n",
       "      <td>1.000000</td>\n",
       "      <td>0.000000</td>\n",
       "      <td>0.000000</td>\n",
       "    </tr>\n",
       "    <tr>\n",
       "      <th>50%</th>\n",
       "      <td>558.000000</td>\n",
       "      <td>4.000000</td>\n",
       "      <td>5625.000000</td>\n",
       "      <td>604.000000</td>\n",
       "      <td>1.000000</td>\n",
       "      <td>0.000000</td>\n",
       "      <td>0.000000</td>\n",
       "    </tr>\n",
       "    <tr>\n",
       "      <th>75%</th>\n",
       "      <td>837.000000</td>\n",
       "      <td>6.000000</td>\n",
       "      <td>7714.000000</td>\n",
       "      <td>833.000000</td>\n",
       "      <td>1.000000</td>\n",
       "      <td>1.000000</td>\n",
       "      <td>0.000000</td>\n",
       "    </tr>\n",
       "    <tr>\n",
       "      <th>max</th>\n",
       "      <td>1115.000000</td>\n",
       "      <td>7.000000</td>\n",
       "      <td>38037.000000</td>\n",
       "      <td>7388.000000</td>\n",
       "      <td>1.000000</td>\n",
       "      <td>1.000000</td>\n",
       "      <td>1.000000</td>\n",
       "    </tr>\n",
       "  </tbody>\n",
       "</table>\n",
       "</div>"
      ],
      "text/plain": [
       "               Store      DayOfWeek          Sales      Customers  \\\n",
       "count  618473.000000  618757.000000  618747.000000  618683.000000   \n",
       "mean      558.105623       3.994914    5668.015834     628.909831   \n",
       "std       321.885545       1.997485    3809.655137     463.786905   \n",
       "min         1.000000       1.000000       0.000000       0.000000   \n",
       "25%       279.000000       2.000000    3640.000000     397.000000   \n",
       "50%       558.000000       4.000000    5625.000000     604.000000   \n",
       "75%       837.000000       6.000000    7714.000000     833.000000   \n",
       "max      1115.000000       7.000000   38037.000000    7388.000000   \n",
       "\n",
       "                Open          Promo  SchoolHoliday  \n",
       "count  618588.000000  618580.000000  618437.000000  \n",
       "mean        0.829167       0.370447       0.173253  \n",
       "std         0.376363       0.482925       0.378466  \n",
       "min         0.000000       0.000000       0.000000  \n",
       "25%         1.000000       0.000000       0.000000  \n",
       "50%         1.000000       0.000000       0.000000  \n",
       "75%         1.000000       1.000000       0.000000  \n",
       "max         1.000000       1.000000       1.000000  "
      ]
     },
     "execution_count": 202,
     "metadata": {},
     "output_type": "execute_result"
    }
   ],
   "source": [
    "train_data.describe()"
   ]
  },
  {
   "cell_type": "code",
   "execution_count": 203,
   "id": "9d7bb648",
   "metadata": {},
   "outputs": [
    {
     "data": {
      "text/html": [
       "<div>\n",
       "<style scoped>\n",
       "    .dataframe tbody tr th:only-of-type {\n",
       "        vertical-align: middle;\n",
       "    }\n",
       "\n",
       "    .dataframe tbody tr th {\n",
       "        vertical-align: top;\n",
       "    }\n",
       "\n",
       "    .dataframe thead th {\n",
       "        text-align: right;\n",
       "    }\n",
       "</style>\n",
       "<table border=\"1\" class=\"dataframe\">\n",
       "  <thead>\n",
       "    <tr style=\"text-align: right;\">\n",
       "      <th></th>\n",
       "      <th>Date</th>\n",
       "      <th>Store</th>\n",
       "      <th>DayOfWeek</th>\n",
       "      <th>Sales</th>\n",
       "      <th>Customers</th>\n",
       "      <th>Open</th>\n",
       "      <th>Promo</th>\n",
       "      <th>StateHoliday</th>\n",
       "      <th>SchoolHoliday</th>\n",
       "    </tr>\n",
       "  </thead>\n",
       "  <tbody>\n",
       "    <tr>\n",
       "      <th>0</th>\n",
       "      <td>2013-01-01</td>\n",
       "      <td>1115.0</td>\n",
       "      <td>2.0</td>\n",
       "      <td>0.0</td>\n",
       "      <td>0.0</td>\n",
       "      <td>0.0</td>\n",
       "      <td>0.0</td>\n",
       "      <td>a</td>\n",
       "      <td>1.0</td>\n",
       "    </tr>\n",
       "    <tr>\n",
       "      <th>1</th>\n",
       "      <td>2013-01-01</td>\n",
       "      <td>379.0</td>\n",
       "      <td>2.0</td>\n",
       "      <td>0.0</td>\n",
       "      <td>0.0</td>\n",
       "      <td>0.0</td>\n",
       "      <td>0.0</td>\n",
       "      <td>a</td>\n",
       "      <td>1.0</td>\n",
       "    </tr>\n",
       "    <tr>\n",
       "      <th>2</th>\n",
       "      <td>2013-01-01</td>\n",
       "      <td>378.0</td>\n",
       "      <td>2.0</td>\n",
       "      <td>0.0</td>\n",
       "      <td>0.0</td>\n",
       "      <td>0.0</td>\n",
       "      <td>0.0</td>\n",
       "      <td>a</td>\n",
       "      <td>1.0</td>\n",
       "    </tr>\n",
       "    <tr>\n",
       "      <th>3</th>\n",
       "      <td>2013-01-01</td>\n",
       "      <td>377.0</td>\n",
       "      <td>2.0</td>\n",
       "      <td>0.0</td>\n",
       "      <td>0.0</td>\n",
       "      <td>0.0</td>\n",
       "      <td>0.0</td>\n",
       "      <td>a</td>\n",
       "      <td>1.0</td>\n",
       "    </tr>\n",
       "    <tr>\n",
       "      <th>4</th>\n",
       "      <td>2013-01-01</td>\n",
       "      <td>376.0</td>\n",
       "      <td>2.0</td>\n",
       "      <td>0.0</td>\n",
       "      <td>0.0</td>\n",
       "      <td>0.0</td>\n",
       "      <td>0.0</td>\n",
       "      <td>a</td>\n",
       "      <td>1.0</td>\n",
       "    </tr>\n",
       "  </tbody>\n",
       "</table>\n",
       "</div>"
      ],
      "text/plain": [
       "         Date   Store  DayOfWeek  Sales  Customers  Open  Promo StateHoliday  \\\n",
       "0  2013-01-01  1115.0        2.0    0.0        0.0   0.0    0.0            a   \n",
       "1  2013-01-01   379.0        2.0    0.0        0.0   0.0    0.0            a   \n",
       "2  2013-01-01   378.0        2.0    0.0        0.0   0.0    0.0            a   \n",
       "3  2013-01-01   377.0        2.0    0.0        0.0   0.0    0.0            a   \n",
       "4  2013-01-01   376.0        2.0    0.0        0.0   0.0    0.0            a   \n",
       "\n",
       "   SchoolHoliday  \n",
       "0            1.0  \n",
       "1            1.0  \n",
       "2            1.0  \n",
       "3            1.0  \n",
       "4            1.0  "
      ]
     },
     "execution_count": 203,
     "metadata": {},
     "output_type": "execute_result"
    }
   ],
   "source": [
    "# show example data \n",
    "train_data.head()"
   ]
  },
  {
   "cell_type": "code",
   "execution_count": 204,
   "id": "2ec510bc",
   "metadata": {
    "scrolled": true
   },
   "outputs": [
    {
     "data": {
      "text/plain": [
       "array([[<AxesSubplot:title={'center':'Store'}>,\n",
       "        <AxesSubplot:title={'center':'DayOfWeek'}>,\n",
       "        <AxesSubplot:title={'center':'Sales'}>],\n",
       "       [<AxesSubplot:title={'center':'Customers'}>,\n",
       "        <AxesSubplot:title={'center':'Open'}>,\n",
       "        <AxesSubplot:title={'center':'Promo'}>],\n",
       "       [<AxesSubplot:title={'center':'SchoolHoliday'}>, <AxesSubplot:>,\n",
       "        <AxesSubplot:>]], dtype=object)"
      ]
     },
     "execution_count": 204,
     "metadata": {},
     "output_type": "execute_result"
    },
    {
     "data": {
      "image/png": "[encoded data removed]",
      "text/plain": [
       "<Figure size 1440x1080 with 9 Axes>"
      ]
     },
     "metadata": {
      "needs_background": "light"
     },
     "output_type": "display_data"
    }
   ],
   "source": [
    "# show histograms\n",
    "%matplotlib inline \n",
    "import matplotlib.pyplot as plt\n",
    "train_data.hist(bins=50, figsize=(20,15))"
   ]
  },
  {
   "cell_type": "code",
   "execution_count": 561,
   "id": "2355b414",
   "metadata": {},
   "outputs": [
    {
     "data": {
      "text/html": [
       "<div>\n",
       "<style scoped>\n",
       "    .dataframe tbody tr th:only-of-type {\n",
       "        vertical-align: middle;\n",
       "    }\n",
       "\n",
       "    .dataframe tbody tr th {\n",
       "        vertical-align: top;\n",
       "    }\n",
       "\n",
       "    .dataframe thead th {\n",
       "        text-align: right;\n",
       "    }\n",
       "</style>\n",
       "<table border=\"1\" class=\"dataframe\">\n",
       "  <thead>\n",
       "    <tr style=\"text-align: right;\">\n",
       "      <th></th>\n",
       "      <th>Store</th>\n",
       "      <th>CompetitionDistance</th>\n",
       "      <th>CompetitionOpenSinceMonth</th>\n",
       "      <th>CompetitionOpenSinceYear</th>\n",
       "      <th>Promo2</th>\n",
       "      <th>Promo2SinceWeek</th>\n",
       "      <th>Promo2SinceYear</th>\n",
       "    </tr>\n",
       "  </thead>\n",
       "  <tbody>\n",
       "    <tr>\n",
       "      <th>count</th>\n",
       "      <td>1115.00000</td>\n",
       "      <td>1112.000000</td>\n",
       "      <td>761.000000</td>\n",
       "      <td>761.000000</td>\n",
       "      <td>1115.000000</td>\n",
       "      <td>571.000000</td>\n",
       "      <td>571.000000</td>\n",
       "    </tr>\n",
       "    <tr>\n",
       "      <th>mean</th>\n",
       "      <td>558.00000</td>\n",
       "      <td>5404.901079</td>\n",
       "      <td>7.224704</td>\n",
       "      <td>2008.668857</td>\n",
       "      <td>0.512108</td>\n",
       "      <td>23.595447</td>\n",
       "      <td>2011.763573</td>\n",
       "    </tr>\n",
       "    <tr>\n",
       "      <th>std</th>\n",
       "      <td>322.01708</td>\n",
       "      <td>7663.174720</td>\n",
       "      <td>3.212348</td>\n",
       "      <td>6.195983</td>\n",
       "      <td>0.500078</td>\n",
       "      <td>14.141984</td>\n",
       "      <td>1.674935</td>\n",
       "    </tr>\n",
       "    <tr>\n",
       "      <th>min</th>\n",
       "      <td>1.00000</td>\n",
       "      <td>20.000000</td>\n",
       "      <td>1.000000</td>\n",
       "      <td>1900.000000</td>\n",
       "      <td>0.000000</td>\n",
       "      <td>1.000000</td>\n",
       "      <td>2009.000000</td>\n",
       "    </tr>\n",
       "    <tr>\n",
       "      <th>25%</th>\n",
       "      <td>279.50000</td>\n",
       "      <td>717.500000</td>\n",
       "      <td>4.000000</td>\n",
       "      <td>2006.000000</td>\n",
       "      <td>0.000000</td>\n",
       "      <td>13.000000</td>\n",
       "      <td>2011.000000</td>\n",
       "    </tr>\n",
       "    <tr>\n",
       "      <th>50%</th>\n",
       "      <td>558.00000</td>\n",
       "      <td>2325.000000</td>\n",
       "      <td>8.000000</td>\n",
       "      <td>2010.000000</td>\n",
       "      <td>1.000000</td>\n",
       "      <td>22.000000</td>\n",
       "      <td>2012.000000</td>\n",
       "    </tr>\n",
       "    <tr>\n",
       "      <th>75%</th>\n",
       "      <td>836.50000</td>\n",
       "      <td>6882.500000</td>\n",
       "      <td>10.000000</td>\n",
       "      <td>2013.000000</td>\n",
       "      <td>1.000000</td>\n",
       "      <td>37.000000</td>\n",
       "      <td>2013.000000</td>\n",
       "    </tr>\n",
       "    <tr>\n",
       "      <th>max</th>\n",
       "      <td>1115.00000</td>\n",
       "      <td>75860.000000</td>\n",
       "      <td>12.000000</td>\n",
       "      <td>2015.000000</td>\n",
       "      <td>1.000000</td>\n",
       "      <td>50.000000</td>\n",
       "      <td>2015.000000</td>\n",
       "    </tr>\n",
       "  </tbody>\n",
       "</table>\n",
       "</div>"
      ],
      "text/plain": [
       "            Store  CompetitionDistance  CompetitionOpenSinceMonth  \\\n",
       "count  1115.00000          1112.000000                 761.000000   \n",
       "mean    558.00000          5404.901079                   7.224704   \n",
       "std     322.01708          7663.174720                   3.212348   \n",
       "min       1.00000            20.000000                   1.000000   \n",
       "25%     279.50000           717.500000                   4.000000   \n",
       "50%     558.00000          2325.000000                   8.000000   \n",
       "75%     836.50000          6882.500000                  10.000000   \n",
       "max    1115.00000         75860.000000                  12.000000   \n",
       "\n",
       "       CompetitionOpenSinceYear       Promo2  Promo2SinceWeek  Promo2SinceYear  \n",
       "count                761.000000  1115.000000       571.000000       571.000000  \n",
       "mean                2008.668857     0.512108        23.595447      2011.763573  \n",
       "std                    6.195983     0.500078        14.141984         1.674935  \n",
       "min                 1900.000000     0.000000         1.000000      2009.000000  \n",
       "25%                 2006.000000     0.000000        13.000000      2011.000000  \n",
       "50%                 2010.000000     1.000000        22.000000      2012.000000  \n",
       "75%                 2013.000000     1.000000        37.000000      2013.000000  \n",
       "max                 2015.000000     1.000000        50.000000      2015.000000  "
      ]
     },
     "execution_count": 561,
     "metadata": {},
     "output_type": "execute_result"
    },
    {
     "data": {
      "image/png": "[encoded data removed]",
      "text/plain": [
       "<Figure size 1440x1080 with 9 Axes>"
      ]
     },
     "metadata": {
      "needs_background": "light"
     },
     "output_type": "display_data"
    }
   ],
   "source": [
    "# show histograms\n",
    "%matplotlib inline \n",
    "import matplotlib.pyplot as plt\n",
    "store.hist(bins=50, figsize=(20,15))\n",
    "store.describe()"
   ]
  },
  {
   "cell_type": "code",
   "execution_count": 205,
   "id": "1cff8204",
   "metadata": {},
   "outputs": [
    {
     "data": {
      "text/plain": [
       "[<matplotlib.lines.Line2D at 0x7fc823dd06d0>]"
      ]
     },
     "execution_count": 205,
     "metadata": {},
     "output_type": "execute_result"
    },
    {
     "data": {
      "image/png": "[encoded data removed]",
      "text/plain": [
       "<Figure size 432x288 with 1 Axes>"
      ]
     },
     "metadata": {
      "needs_background": "light"
     },
     "output_type": "display_data"
    }
   ],
   "source": [
    "# plot Sales over Date\n",
    "plt.plot(train_data['Date'], train_data['Sales'])"
   ]
  },
  {
   "cell_type": "markdown",
   "id": "76316b98",
   "metadata": {},
   "source": [
    "# Data Preprocessing 1"
   ]
  },
  {
   "cell_type": "markdown",
   "id": "426ba1c9",
   "metadata": {},
   "source": [
    "# Generate validation set"
   ]
  },
  {
   "cell_type": "code",
   "execution_count": 705,
   "id": "4feba33b",
   "metadata": {},
   "outputs": [
    {
     "name": "stdout",
     "output_type": "stream",
     "text": [
      "New train set length: 540774\n",
      "New validation set length: 97000\n"
     ]
    }
   ],
   "source": [
    "# Split train and validation set at 2014-04-30\n",
    "validation = train_data[train_data['Date'] > '2014-04-30']\n",
    "newtrain = train_data[train_data['Date'] <= '2014-04-30']\n",
    "\n",
    "print(f\"New train set length: {len(newtrain)}\")\n",
    "print(f\"New validation set length: {len(validation)}\")\n",
    "\n",
    "validation.to_csv(\"data/validation.csv\", header=True)\n",
    "newtrain.to_csv(\"data/newtrain.csv\", header=True)"
   ]
  },
  {
   "cell_type": "code",
   "execution_count": 207,
   "id": "09f07b78",
   "metadata": {},
   "outputs": [
    {
     "data": {
      "text/html": [
       "<div>\n",
       "<style scoped>\n",
       "    .dataframe tbody tr th:only-of-type {\n",
       "        vertical-align: middle;\n",
       "    }\n",
       "\n",
       "    .dataframe tbody tr th {\n",
       "        vertical-align: top;\n",
       "    }\n",
       "\n",
       "    .dataframe thead th {\n",
       "        text-align: right;\n",
       "    }\n",
       "</style>\n",
       "<table border=\"1\" class=\"dataframe\">\n",
       "  <thead>\n",
       "    <tr style=\"text-align: right;\">\n",
       "      <th></th>\n",
       "      <th>Date</th>\n",
       "      <th>Store</th>\n",
       "      <th>DayOfWeek</th>\n",
       "      <th>Sales</th>\n",
       "      <th>Customers</th>\n",
       "      <th>Open</th>\n",
       "      <th>Promo</th>\n",
       "      <th>StateHoliday</th>\n",
       "      <th>SchoolHoliday</th>\n",
       "    </tr>\n",
       "  </thead>\n",
       "  <tbody>\n",
       "    <tr>\n",
       "      <th>540774</th>\n",
       "      <td>2014-05-01</td>\n",
       "      <td>372.0</td>\n",
       "      <td>4.0</td>\n",
       "      <td>0.0</td>\n",
       "      <td>0.0</td>\n",
       "      <td>0.0</td>\n",
       "      <td>1.0</td>\n",
       "      <td>a</td>\n",
       "      <td>0.0</td>\n",
       "    </tr>\n",
       "    <tr>\n",
       "      <th>540775</th>\n",
       "      <td>2014-05-01</td>\n",
       "      <td>368.0</td>\n",
       "      <td>4.0</td>\n",
       "      <td>0.0</td>\n",
       "      <td>0.0</td>\n",
       "      <td>0.0</td>\n",
       "      <td>1.0</td>\n",
       "      <td>a</td>\n",
       "      <td>0.0</td>\n",
       "    </tr>\n",
       "    <tr>\n",
       "      <th>540776</th>\n",
       "      <td>2014-05-01</td>\n",
       "      <td>369.0</td>\n",
       "      <td>4.0</td>\n",
       "      <td>0.0</td>\n",
       "      <td>0.0</td>\n",
       "      <td>0.0</td>\n",
       "      <td>1.0</td>\n",
       "      <td>a</td>\n",
       "      <td>0.0</td>\n",
       "    </tr>\n",
       "    <tr>\n",
       "      <th>540777</th>\n",
       "      <td>2014-05-01</td>\n",
       "      <td>370.0</td>\n",
       "      <td>NaN</td>\n",
       "      <td>NaN</td>\n",
       "      <td>0.0</td>\n",
       "      <td>NaN</td>\n",
       "      <td>1.0</td>\n",
       "      <td>a</td>\n",
       "      <td>0.0</td>\n",
       "    </tr>\n",
       "    <tr>\n",
       "      <th>540778</th>\n",
       "      <td>2014-05-01</td>\n",
       "      <td>371.0</td>\n",
       "      <td>4.0</td>\n",
       "      <td>0.0</td>\n",
       "      <td>0.0</td>\n",
       "      <td>0.0</td>\n",
       "      <td>1.0</td>\n",
       "      <td>a</td>\n",
       "      <td>0.0</td>\n",
       "    </tr>\n",
       "  </tbody>\n",
       "</table>\n",
       "</div>"
      ],
      "text/plain": [
       "              Date  Store  DayOfWeek  Sales  Customers  Open  Promo  \\\n",
       "540774  2014-05-01  372.0        4.0    0.0        0.0   0.0    1.0   \n",
       "540775  2014-05-01  368.0        4.0    0.0        0.0   0.0    1.0   \n",
       "540776  2014-05-01  369.0        4.0    0.0        0.0   0.0    1.0   \n",
       "540777  2014-05-01  370.0        NaN    NaN        0.0   NaN    1.0   \n",
       "540778  2014-05-01  371.0        4.0    0.0        0.0   0.0    1.0   \n",
       "\n",
       "       StateHoliday  SchoolHoliday  \n",
       "540774            a            0.0  \n",
       "540775            a            0.0  \n",
       "540776            a            0.0  \n",
       "540777            a            0.0  \n",
       "540778            a            0.0  "
      ]
     },
     "execution_count": 207,
     "metadata": {},
     "output_type": "execute_result"
    }
   ],
   "source": [
    "validation.head()"
   ]
  },
  {
   "cell_type": "markdown",
   "id": "dd8d6343",
   "metadata": {},
   "source": [
    "# Baseline model"
   ]
  },
  {
   "cell_type": "code",
   "execution_count": 706,
   "id": "bc647526",
   "metadata": {},
   "outputs": [],
   "source": [
    "# define evaluation metrics\n",
    "def metric(preds, actuals):\n",
    "    preds = preds.reshape(-1)\n",
    "    actuals = actuals.reshape(-1)\n",
    "    assert preds.shape == actuals.shape\n",
    "    return 100 * np.linalg.norm((actuals - preds) / actuals) / np.sqrt(preds.shape[0])"
   ]
  },
  {
   "cell_type": "code",
   "execution_count": 707,
   "id": "f2d78f02",
   "metadata": {},
   "outputs": [
    {
     "name": "stdout",
     "output_type": "stream",
     "text": [
      "6802.905730812207\n",
      "Prediction: average, RMSPE=55.18%\n"
     ]
    }
   ],
   "source": [
    "import numpy as np\n",
    "# get baseline prediction evaluation taking the average of new training set as prediction\n",
    "print(newtrain.loc[newtrain['Sales'] > 0, 'Sales'].mean())\n",
    "mean = newtrain.loc[newtrain['Sales'] > 0, 'Sales'].mean()\n",
    "validation = validation.loc[validation['Sales'] > 0]\n",
    "\n",
    "preds = np.full(len(validation), mean)\n",
    "rmspe = metric(preds, np.array(validation['Sales']))\n",
    "\n",
    "print(f'Prediction: average, RMSPE={rmspe:.2f}%')\n"
   ]
  },
  {
   "cell_type": "markdown",
   "id": "710fdd9c",
   "metadata": {},
   "source": [
    "# Data preprocessing 2"
   ]
  },
  {
   "cell_type": "code",
   "execution_count": 708,
   "id": "40eca210",
   "metadata": {},
   "outputs": [
    {
     "name": "stdout",
     "output_type": "stream",
     "text": [
      "[ 0  1  2  3  4  5  6  7  8  9 10 11 12 13 14 15 16 17 18 19 20 21 22 23\n",
      " 24 25 26 27 28 29 30 31 32 33 34 35 36]\n"
     ]
    }
   ],
   "source": [
    "# drop stores with id \"nan\"\n",
    "\n",
    "def generate_mapping(data):\n",
    "    means = data[data['Store'] > 0].groupby(['Store']).mean()['Sales']\n",
    "    mapping = {}\n",
    "    # create new store category based on mean sales\n",
    " #   limits = [5000, 7500, 10000]\n",
    "  #  limits = [5000, 6000, 7000, 8000, 9000, 10000]\n",
    "    limits = range(2000, 20000, 500)\n",
    "    new_cat = [\"l\", \"m\", \"h\", \"vh\"]\n",
    "    new_cat = np.array(range(len(limits)+1))\n",
    "    print(new_cat)\n",
    "    for i, m in enumerate(means):\n",
    "        mapping[means.index[i]] = new_cat[0]\n",
    "        for j, l in enumerate(limits):\n",
    "            if m > l:\n",
    "                mapping[means.index[i]] = new_cat[j+1]\n",
    "    return mapping\n",
    "\n",
    "mapping = generate_mapping(newtrain)\n"
   ]
  },
  {
   "cell_type": "markdown",
   "id": "32f2289a",
   "metadata": {},
   "source": [
    "# Data cleaning"
   ]
  },
  {
   "cell_type": "code",
   "execution_count": 709,
   "id": "5dbd4970",
   "metadata": {},
   "outputs": [],
   "source": [
    "# One function to do all the preprocessing\n",
    "from sklearn.base import BaseEstimator, TransformerMixin\n",
    "from sklearn.impute import SimpleImputer\n",
    "from sklearn.pipeline import Pipeline\n",
    "from sklearn.preprocessing import StandardScaler\n",
    "from statsmodels.tsa.stattools import adfuller\n",
    "from sklearn.preprocessing import OrdinalEncoder\n",
    "\n",
    "class DataFrameSelector(BaseEstimator, TransformerMixin):\n",
    "    def __init__(self, attribute_names):\n",
    "        self.attribute_names = attribute_names\n",
    "    def fit(self, X, y=None):\n",
    "        return self\n",
    "    def transform(self, X):\n",
    "        return X[self.attribute_names].values\n",
    "\n",
    "def add_time_features(df):\n",
    "  #  print(df.Date)\n",
    "    df['Year'] = df.Date.dt.year\n",
    "    df['Month'] = df.Date.dt.month\n",
    "    df['DayOfWeek'] = df.Date.dt.dayofweek\n",
    "    return df  \n",
    "    \n",
    "def map_store_category(data, mapping):\n",
    "  #  data['Store_cat'] = \"l\"\n",
    "    for store, cat in mapping.items():\n",
    "        data.loc[data['Store'] == store, 'Store_cat'] = cat \n",
    "        \n",
    "def create_competition_since(data):\n",
    "    data[\"CompetitionSinceMonths\"] = ((data['Year']- data['CompetitionOpenSinceYear']) * 12 +\n",
    "                                           (data['Month'] - data['CompetitionOpenSinceMonth']))\n",
    "    data.loc[data[\"CompetitionSinceMonths\"] < 0, \"CompetitionSinceMonths\"] = 0\n",
    "    data.loc[data[\"CompetitionSinceMonths\"] > 24, \"CompetitionSinceMonths\"] = 24\n",
    "    data.loc[data[\"CompetitionSinceMonths\"] == 0, 'CompetitionDistance'] = 20000.\n",
    "    return data\n",
    "\n",
    "def create_promo_since(data):\n",
    "    data[\"Promo2SinceWeeks\"] = ((data['Year']- data['Promo2SinceYear']) * 52 +\n",
    "                                           (data['Month'] - data['Promo2SinceWeek']))\n",
    "    data.loc[data[\"Promo2SinceWeeks\"] < 0, \"Promo2SinceWeeks\"] = 0\n",
    "    data.loc[data[\"Promo2SinceWeeks\"] > 12, \"Promo2SinceWeeks\"] = 12\n",
    "    return data\n",
    "\n",
    "def preprocess(data, validate=False):\n",
    "    \n",
    "    # remove stores with nan id\n",
    "    # remove rows with Sales=0\n",
    "\n",
    "    data = data[data['Sales'] > 0]\n",
    "    data = data[data['Store'] > 0]\n",
    "\n",
    "    # clean up State holiday \n",
    "    data['StateHoliday'] = data['StateHoliday'].replace(0.0, 0)\n",
    " #   data['StateHoliday'] = data['StateHoliday'].replace(\"0\", \"No\")\n",
    "    data['StateHoliday'] = data['StateHoliday'].replace(\"a\", \"Public\")\n",
    "    data['StateHoliday'] = data['StateHoliday'].replace(\"b\", \"Easter\")\n",
    "    data['StateHoliday'] = data['StateHoliday'].replace(\"c\", \"Christmas\")\n",
    "\n",
    "    \n",
    "    # create new category store_cat based on mapping\n",
    "    map_store_category(data, mapping)\n",
    "        \n",
    "    \n",
    "    # merge in store.csv\n",
    "    data = pd.merge(data, store, how='left', on='Store')\n",
    "\n",
    "    # create/update month and weekday columns\n",
    "    data['Date'] = pd.to_datetime(data['Date'], errors='coerce')\n",
    "    data = add_time_features(data)\n",
    "    data = create_competition_since(data) \n",
    "    data = create_promo_since(data)\n",
    "    \n",
    "    # impute most frequent value \"0\" resp. \"No\" \n",
    "\n",
    "    impute_miss_cat = ['SchoolHoliday', 'StateHoliday', \"Promo\"]\n",
    "    cat_pipeline = Pipeline([\n",
    "        ('selector', DataFrameSelector(impute_miss_cat)),\n",
    "        ('imputer', SimpleImputer(strategy=\"constant\", fill_value = 0)),\n",
    "    ])\n",
    "    data_tr = cat_pipeline.fit_transform(data)\n",
    "\n",
    "    data.loc[:, impute_miss_cat] = data_tr\n",
    "    \n",
    "    # feature categories\n",
    "    categorical_features = ['Promo', 'StateHoliday', 'SchoolHoliday',  'StoreType', 'Assortment',\n",
    "                   'Month', 'DayOfWeek']\n",
    "    numerical_features = ['CompetitionDistance', 'Store_cat', \"CompetitionSinceMonths\", \"Promo2SinceWeeks\"] \n",
    "    target = ['Sales']\n",
    "\n",
    "    keep_features = target + categorical_features + numerical_features\n",
    "    \n",
    "    # use only 'keep_features', do one-hot encoding on categories\n",
    "    data = data.loc[:, keep_features]\n",
    "   # print(data.head())\n",
    "    data.loc[:, categorical_features]  = data.loc[:, categorical_features].astype(str)\n",
    "    data = pd.get_dummies(data) #, drop_first=True)\n",
    "    \n",
    "    \n",
    "    # Scale target and distance\n",
    "    num_pipeline = Pipeline([\n",
    "        ('selector', DataFrameSelector(numerical_features + target)),\n",
    "        ('imputer', SimpleImputer(strategy=\"median\")),\n",
    "    #    ('std_scaler', StandardScaler()),\n",
    "\n",
    "    ])      \n",
    "    \n",
    "    if validate:\n",
    "        data_tr = num_pipeline.transform(data)\n",
    "    else:\n",
    "        data_tr = num_pipeline.fit_transform(data)\n",
    "        \n",
    " \n",
    "    data.loc[:, numerical_features + target] = data_tr\n",
    "    data.loc[data['CompetitionDistance'] > 10000, 'CompetitionDistance']  = 10000.  \n",
    "                                          \n",
    " #   data = data.drop(columns = ['StateHoliday_0', 'SchoolHoliday_0.0', \"StoreType_a\", \"Assortment_a\", \"Promo_0.0\" ])\n",
    "    return data"
   ]
  },
  {
   "cell_type": "code",
   "execution_count": 710,
   "id": "78ae4415",
   "metadata": {
    "scrolled": false
   },
   "outputs": [],
   "source": [
    "transformed_train = preprocess(newtrain)\n",
    "\n",
    "   # data['StateHoliday'].value_counts() "
   ]
  },
  {
   "cell_type": "code",
   "execution_count": 330,
   "id": "a70c4391",
   "metadata": {},
   "outputs": [],
   "source": [
    "transformed_train.to_csv(\"data/train_transformed.csv\", header=True)"
   ]
  },
  {
   "cell_type": "code",
   "execution_count": 711,
   "id": "896138c9",
   "metadata": {},
   "outputs": [
    {
     "name": "stdout",
     "output_type": "stream",
     "text": [
      "<class 'pandas.core.frame.DataFrame'>\n",
      "Int64Index: 422591 entries, 0 to 422590\n",
      "Data columns (total 39 columns):\n",
      " #   Column                  Non-Null Count   Dtype  \n",
      "---  ------                  --------------   -----  \n",
      " 0   Sales                   422591 non-null  float64\n",
      " 1   CompetitionDistance     422591 non-null  float64\n",
      " 2   Store_cat               422591 non-null  float64\n",
      " 3   CompetitionSinceMonths  422591 non-null  float64\n",
      " 4   Promo2SinceWeeks        422591 non-null  float64\n",
      " 5   Promo_0.0               422591 non-null  uint8  \n",
      " 6   Promo_1.0               422591 non-null  uint8  \n",
      " 7   StateHoliday_0          422591 non-null  uint8  \n",
      " 8   StateHoliday_Christmas  422591 non-null  uint8  \n",
      " 9   StateHoliday_Easter     422591 non-null  uint8  \n",
      " 10  StateHoliday_Public     422591 non-null  uint8  \n",
      " 11  SchoolHoliday_0.0       422591 non-null  uint8  \n",
      " 12  SchoolHoliday_1.0       422591 non-null  uint8  \n",
      " 13  StoreType_a             422591 non-null  uint8  \n",
      " 14  StoreType_b             422591 non-null  uint8  \n",
      " 15  StoreType_c             422591 non-null  uint8  \n",
      " 16  StoreType_d             422591 non-null  uint8  \n",
      " 17  Assortment_a            422591 non-null  uint8  \n",
      " 18  Assortment_b            422591 non-null  uint8  \n",
      " 19  Assortment_c            422591 non-null  uint8  \n",
      " 20  Month_1                 422591 non-null  uint8  \n",
      " 21  Month_10                422591 non-null  uint8  \n",
      " 22  Month_11                422591 non-null  uint8  \n",
      " 23  Month_12                422591 non-null  uint8  \n",
      " 24  Month_2                 422591 non-null  uint8  \n",
      " 25  Month_3                 422591 non-null  uint8  \n",
      " 26  Month_4                 422591 non-null  uint8  \n",
      " 27  Month_5                 422591 non-null  uint8  \n",
      " 28  Month_6                 422591 non-null  uint8  \n",
      " 29  Month_7                 422591 non-null  uint8  \n",
      " 30  Month_8                 422591 non-null  uint8  \n",
      " 31  Month_9                 422591 non-null  uint8  \n",
      " 32  DayOfWeek_0             422591 non-null  uint8  \n",
      " 33  DayOfWeek_1             422591 non-null  uint8  \n",
      " 34  DayOfWeek_2             422591 non-null  uint8  \n",
      " 35  DayOfWeek_3             422591 non-null  uint8  \n",
      " 36  DayOfWeek_4             422591 non-null  uint8  \n",
      " 37  DayOfWeek_5             422591 non-null  uint8  \n",
      " 38  DayOfWeek_6             422591 non-null  uint8  \n",
      "dtypes: float64(5), uint8(34)\n",
      "memory usage: 33.0 MB\n",
      "     Sales  CompetitionDistance  Store_cat  CompetitionSinceMonths  \\\n",
      "0   3139.0                900.0        6.0                    24.0   \n",
      "1   2401.0                 90.0       22.0                    24.0   \n",
      "2   2646.0                590.0        6.0                    24.0   \n",
      "3   3113.0               1260.0       12.0                    19.0   \n",
      "4   2907.0              10000.0        4.0                    24.0   \n",
      "5   9643.0              10000.0       18.0                     0.0   \n",
      "6   4220.0               1870.0       11.0                    15.0   \n",
      "7   3102.0               3640.0        4.0                    24.0   \n",
      "8  17267.0              10000.0       36.0                     0.0   \n",
      "9   6851.0                210.0       17.0                    24.0   \n",
      "\n",
      "   Promo2SinceWeeks  Promo_0.0  Promo_1.0  StateHoliday_0  \\\n",
      "0               0.0          1          0               0   \n",
      "1               0.0          1          0               0   \n",
      "2               0.0          1          0               0   \n",
      "3              12.0          1          0               0   \n",
      "4              12.0          1          0               0   \n",
      "5              12.0          1          0               0   \n",
      "6              12.0          1          0               0   \n",
      "7               0.0          1          0               0   \n",
      "8              12.0          1          0               0   \n",
      "9              12.0          1          0               0   \n",
      "\n",
      "   StateHoliday_Christmas  StateHoliday_Easter  ...  Month_7  Month_8  \\\n",
      "0                       0                    0  ...        0        0   \n",
      "1                       0                    0  ...        0        0   \n",
      "2                       0                    0  ...        0        0   \n",
      "3                       0                    0  ...        0        0   \n",
      "4                       0                    0  ...        0        0   \n",
      "5                       0                    0  ...        0        0   \n",
      "6                       0                    0  ...        0        0   \n",
      "7                       0                    0  ...        0        0   \n",
      "8                       0                    0  ...        0        0   \n",
      "9                       0                    0  ...        0        0   \n",
      "\n",
      "   Month_9  DayOfWeek_0  DayOfWeek_1  DayOfWeek_2  DayOfWeek_3  DayOfWeek_4  \\\n",
      "0        0            0            1            0            0            0   \n",
      "1        0            0            1            0            0            0   \n",
      "2        0            0            1            0            0            0   \n",
      "3        0            0            1            0            0            0   \n",
      "4        0            0            1            0            0            0   \n",
      "5        0            0            1            0            0            0   \n",
      "6        0            0            1            0            0            0   \n",
      "7        0            0            1            0            0            0   \n",
      "8        0            0            1            0            0            0   \n",
      "9        0            0            1            0            0            0   \n",
      "\n",
      "   DayOfWeek_5  DayOfWeek_6  \n",
      "0            0            0  \n",
      "1            0            0  \n",
      "2            0            0  \n",
      "3            0            0  \n",
      "4            0            0  \n",
      "5            0            0  \n",
      "6            0            0  \n",
      "7            0            0  \n",
      "8            0            0  \n",
      "9            0            0  \n",
      "\n",
      "[10 rows x 39 columns]\n"
     ]
    },
    {
     "data": {
      "text/html": [
       "<div>\n",
       "<style scoped>\n",
       "    .dataframe tbody tr th:only-of-type {\n",
       "        vertical-align: middle;\n",
       "    }\n",
       "\n",
       "    .dataframe tbody tr th {\n",
       "        vertical-align: top;\n",
       "    }\n",
       "\n",
       "    .dataframe thead th {\n",
       "        text-align: right;\n",
       "    }\n",
       "</style>\n",
       "<table border=\"1\" class=\"dataframe\">\n",
       "  <thead>\n",
       "    <tr style=\"text-align: right;\">\n",
       "      <th></th>\n",
       "      <th>Sales</th>\n",
       "      <th>CompetitionDistance</th>\n",
       "      <th>Store_cat</th>\n",
       "      <th>CompetitionSinceMonths</th>\n",
       "      <th>Promo2SinceWeeks</th>\n",
       "      <th>Promo_0.0</th>\n",
       "      <th>Promo_1.0</th>\n",
       "      <th>StateHoliday_0</th>\n",
       "      <th>StateHoliday_Christmas</th>\n",
       "      <th>StateHoliday_Easter</th>\n",
       "      <th>...</th>\n",
       "      <th>Month_7</th>\n",
       "      <th>Month_8</th>\n",
       "      <th>Month_9</th>\n",
       "      <th>DayOfWeek_0</th>\n",
       "      <th>DayOfWeek_1</th>\n",
       "      <th>DayOfWeek_2</th>\n",
       "      <th>DayOfWeek_3</th>\n",
       "      <th>DayOfWeek_4</th>\n",
       "      <th>DayOfWeek_5</th>\n",
       "      <th>DayOfWeek_6</th>\n",
       "    </tr>\n",
       "  </thead>\n",
       "  <tbody>\n",
       "    <tr>\n",
       "      <th>422586</th>\n",
       "      <td>4680.0</td>\n",
       "      <td>6710.0</td>\n",
       "      <td>3.0</td>\n",
       "      <td>24.0</td>\n",
       "      <td>12.0</td>\n",
       "      <td>0</td>\n",
       "      <td>1</td>\n",
       "      <td>1</td>\n",
       "      <td>0</td>\n",
       "      <td>0</td>\n",
       "      <td>...</td>\n",
       "      <td>0</td>\n",
       "      <td>0</td>\n",
       "      <td>0</td>\n",
       "      <td>0</td>\n",
       "      <td>0</td>\n",
       "      <td>1</td>\n",
       "      <td>0</td>\n",
       "      <td>0</td>\n",
       "      <td>0</td>\n",
       "      <td>0</td>\n",
       "    </tr>\n",
       "    <tr>\n",
       "      <th>422587</th>\n",
       "      <td>8833.0</td>\n",
       "      <td>1370.0</td>\n",
       "      <td>8.0</td>\n",
       "      <td>24.0</td>\n",
       "      <td>0.0</td>\n",
       "      <td>0</td>\n",
       "      <td>1</td>\n",
       "      <td>1</td>\n",
       "      <td>0</td>\n",
       "      <td>0</td>\n",
       "      <td>...</td>\n",
       "      <td>0</td>\n",
       "      <td>0</td>\n",
       "      <td>0</td>\n",
       "      <td>0</td>\n",
       "      <td>0</td>\n",
       "      <td>1</td>\n",
       "      <td>0</td>\n",
       "      <td>0</td>\n",
       "      <td>0</td>\n",
       "      <td>0</td>\n",
       "    </tr>\n",
       "    <tr>\n",
       "      <th>422588</th>\n",
       "      <td>10644.0</td>\n",
       "      <td>10000.0</td>\n",
       "      <td>9.0</td>\n",
       "      <td>5.0</td>\n",
       "      <td>12.0</td>\n",
       "      <td>0</td>\n",
       "      <td>1</td>\n",
       "      <td>1</td>\n",
       "      <td>0</td>\n",
       "      <td>0</td>\n",
       "      <td>...</td>\n",
       "      <td>0</td>\n",
       "      <td>0</td>\n",
       "      <td>0</td>\n",
       "      <td>0</td>\n",
       "      <td>0</td>\n",
       "      <td>1</td>\n",
       "      <td>0</td>\n",
       "      <td>0</td>\n",
       "      <td>0</td>\n",
       "      <td>0</td>\n",
       "    </tr>\n",
       "    <tr>\n",
       "      <th>422589</th>\n",
       "      <td>8316.0</td>\n",
       "      <td>4330.0</td>\n",
       "      <td>5.0</td>\n",
       "      <td>24.0</td>\n",
       "      <td>12.0</td>\n",
       "      <td>0</td>\n",
       "      <td>1</td>\n",
       "      <td>1</td>\n",
       "      <td>0</td>\n",
       "      <td>0</td>\n",
       "      <td>...</td>\n",
       "      <td>0</td>\n",
       "      <td>0</td>\n",
       "      <td>0</td>\n",
       "      <td>0</td>\n",
       "      <td>0</td>\n",
       "      <td>1</td>\n",
       "      <td>0</td>\n",
       "      <td>0</td>\n",
       "      <td>0</td>\n",
       "      <td>0</td>\n",
       "    </tr>\n",
       "    <tr>\n",
       "      <th>422590</th>\n",
       "      <td>12208.0</td>\n",
       "      <td>10000.0</td>\n",
       "      <td>9.0</td>\n",
       "      <td>24.0</td>\n",
       "      <td>12.0</td>\n",
       "      <td>0</td>\n",
       "      <td>1</td>\n",
       "      <td>1</td>\n",
       "      <td>0</td>\n",
       "      <td>0</td>\n",
       "      <td>...</td>\n",
       "      <td>0</td>\n",
       "      <td>0</td>\n",
       "      <td>0</td>\n",
       "      <td>0</td>\n",
       "      <td>0</td>\n",
       "      <td>1</td>\n",
       "      <td>0</td>\n",
       "      <td>0</td>\n",
       "      <td>0</td>\n",
       "      <td>0</td>\n",
       "    </tr>\n",
       "  </tbody>\n",
       "</table>\n",
       "<p>5 rows × 39 columns</p>\n",
       "</div>"
      ],
      "text/plain": [
       "          Sales  CompetitionDistance  Store_cat  CompetitionSinceMonths  \\\n",
       "422586   4680.0               6710.0        3.0                    24.0   \n",
       "422587   8833.0               1370.0        8.0                    24.0   \n",
       "422588  10644.0              10000.0        9.0                     5.0   \n",
       "422589   8316.0               4330.0        5.0                    24.0   \n",
       "422590  12208.0              10000.0        9.0                    24.0   \n",
       "\n",
       "        Promo2SinceWeeks  Promo_0.0  Promo_1.0  StateHoliday_0  \\\n",
       "422586              12.0          0          1               1   \n",
       "422587               0.0          0          1               1   \n",
       "422588              12.0          0          1               1   \n",
       "422589              12.0          0          1               1   \n",
       "422590              12.0          0          1               1   \n",
       "\n",
       "        StateHoliday_Christmas  StateHoliday_Easter  ...  Month_7  Month_8  \\\n",
       "422586                       0                    0  ...        0        0   \n",
       "422587                       0                    0  ...        0        0   \n",
       "422588                       0                    0  ...        0        0   \n",
       "422589                       0                    0  ...        0        0   \n",
       "422590                       0                    0  ...        0        0   \n",
       "\n",
       "        Month_9  DayOfWeek_0  DayOfWeek_1  DayOfWeek_2  DayOfWeek_3  \\\n",
       "422586        0            0            0            1            0   \n",
       "422587        0            0            0            1            0   \n",
       "422588        0            0            0            1            0   \n",
       "422589        0            0            0            1            0   \n",
       "422590        0            0            0            1            0   \n",
       "\n",
       "        DayOfWeek_4  DayOfWeek_5  DayOfWeek_6  \n",
       "422586            0            0            0  \n",
       "422587            0            0            0  \n",
       "422588            0            0            0  \n",
       "422589            0            0            0  \n",
       "422590            0            0            0  \n",
       "\n",
       "[5 rows x 39 columns]"
      ]
     },
     "execution_count": 711,
     "metadata": {},
     "output_type": "execute_result"
    }
   ],
   "source": [
    "transformed_train.info()\n",
    "transformed_train.describe() \n",
    "print(transformed_train.head(10))\n",
    "transformed_train.tail()"
   ]
  },
  {
   "cell_type": "code",
   "execution_count": 712,
   "id": "604271d0",
   "metadata": {
    "scrolled": true
   },
   "outputs": [],
   "source": [
    "validation_transformed = preprocess(validation)\n",
    "for c in transformed_train.columns:\n",
    "    if not c in validation_transformed.columns:\n",
    "        validation_transformed[c] = 0\n",
    "#print(validation_transformed)\n",
    "#validation_transformed.info()\n",
    "#validation_transformed.describe()\n"
   ]
  },
  {
   "cell_type": "code",
   "execution_count": 333,
   "id": "1caea2bd",
   "metadata": {},
   "outputs": [],
   "source": [
    "validation_transformed.to_csv(\"data/validation_transformed.csv\", header=True)"
   ]
  },
  {
   "cell_type": "code",
   "execution_count": 713,
   "id": "b8d2f840",
   "metadata": {},
   "outputs": [
    {
     "data": {
      "text/plain": [
       "Index(['Sales', 'CompetitionDistance', 'Store_cat', 'CompetitionSinceMonths',\n",
       "       'Promo2SinceWeeks', 'Promo_0.0', 'Promo_1.0', 'StateHoliday_0',\n",
       "       'StateHoliday_Public', 'SchoolHoliday_0.0', 'SchoolHoliday_1.0',\n",
       "       'StoreType_a', 'StoreType_b', 'StoreType_c', 'StoreType_d',\n",
       "       'Assortment_a', 'Assortment_b', 'Assortment_c', 'Month_5', 'Month_6',\n",
       "       'Month_7', 'DayOfWeek_0', 'DayOfWeek_1', 'DayOfWeek_2', 'DayOfWeek_3',\n",
       "       'DayOfWeek_4', 'DayOfWeek_5', 'DayOfWeek_6', 'StateHoliday_Christmas',\n",
       "       'StateHoliday_Easter', 'Month_1', 'Month_10', 'Month_11', 'Month_12',\n",
       "       'Month_2', 'Month_3', 'Month_4', 'Month_8', 'Month_9'],\n",
       "      dtype='object')"
      ]
     },
     "execution_count": 713,
     "metadata": {},
     "output_type": "execute_result"
    }
   ],
   "source": [
    "validation_transformed.columns"
   ]
  },
  {
   "cell_type": "markdown",
   "id": "37531ea3",
   "metadata": {},
   "source": [
    "# Stationary model"
   ]
  },
  {
   "cell_type": "code",
   "execution_count": 714,
   "id": "b2a2be51",
   "metadata": {},
   "outputs": [],
   "source": [
    "keep_columns = [\"Promo_1.0\", \"Promo_0.0\", \"Promo2SinceWeeks\", \"CompetitionSinceMonths\", \n",
    "                \"Store_cat\", \"CompetitionDistance\"]\n",
    "X_train = transformed_train.loc[:, keep_columns]\n",
    "y_train = transformed_train['Sales']\n",
    "X_valid = validation_transformed.loc[:, keep_columns]\n",
    "y_valid = validation_transformed['Sales']"
   ]
  },
  {
   "cell_type": "code",
   "execution_count": 715,
   "id": "54144d3d",
   "metadata": {},
   "outputs": [
    {
     "name": "stdout",
     "output_type": "stream",
     "text": [
      "Prediction: linear regression, RMSPE=24.38%\n",
      "On training set, RMSPE=30.49%\n"
     ]
    }
   ],
   "source": [
    "# Linear regression model\n",
    "from sklearn.linear_model import LinearRegression\n",
    "\n",
    "lin_reg = LinearRegression()\n",
    "lin_reg.fit(X_train, y_train)\n",
    "y_pred = lin_reg.predict(X_valid)\n",
    "rmspe = metric(y_pred, np.array(y_valid))\n",
    "\n",
    "print(f'Prediction: linear regression, RMSPE={rmspe:.2f}%')\n",
    "y_pred_train = lin_reg.predict(X_train)\n",
    "rmspe = metric(y_pred_train, np.array(y_train))\n",
    "print(f'On training set, RMSPE={rmspe:.2f}%')"
   ]
  },
  {
   "cell_type": "code",
   "execution_count": 716,
   "id": "c71f7b7c",
   "metadata": {},
   "outputs": [
    {
     "name": "stdout",
     "output_type": "stream",
     "text": [
      "Prediction: decision tree, RMSPE=22.68%\n"
     ]
    }
   ],
   "source": [
    "from sklearn.tree import DecisionTreeRegressor\n",
    "\n",
    "tree_reg = DecisionTreeRegressor()\n",
    "tree_reg.fit(X_train, y_train)\n",
    "y_pred = tree_reg.predict(X_valid)\n",
    "rmspe = metric(y_pred, np.array(y_valid))\n",
    "print(f'Prediction: decision tree, RMSPE={rmspe:.2f}%')"
   ]
  },
  {
   "cell_type": "code",
   "execution_count": 701,
   "id": "c9a477ac",
   "metadata": {},
   "outputs": [
    {
     "name": "stdout",
     "output_type": "stream",
     "text": [
      "Gradient boosting Reg, RMSPE=25.81%\n"
     ]
    }
   ],
   "source": [
    "from sklearn.ensemble import GradientBoostingRegressor\n",
    "gbrt = GradientBoostingRegressor(max_depth=2, n_estimators=3, learning_rate=1.)\n",
    "gbrt.fit(X_train, y_train)\n",
    "y_pred = gbrt.predict(X_valid)\n",
    "rmspe = metric(y_pred, np.array(y_valid))\n",
    "print(f'Gradient boosting Reg, RMSPE={rmspe:.2f}%')"
   ]
  },
  {
   "cell_type": "code",
   "execution_count": 702,
   "id": "fd30b027",
   "metadata": {},
   "outputs": [
    {
     "name": "stdout",
     "output_type": "stream",
     "text": [
      "Prediction: random forest, RMSPE=22.58%\n"
     ]
    }
   ],
   "source": [
    "from sklearn.ensemble import RandomForestRegressor\n",
    "forest_reg = RandomForestRegressor()\n",
    "forest_reg.fit(X_train, y_train)\n",
    "y_pred = forest_reg.predict(X_valid)\n",
    "rmspe = metric(y_pred, np.array(y_valid))\n",
    "print(f'Prediction: random forest, RMSPE={rmspe:.2f}%')"
   ]
  },
  {
   "cell_type": "code",
   "execution_count": 693,
   "id": "3a5e72e1",
   "metadata": {},
   "outputs": [],
   "source": [
    "import pickle\n",
    "filename = 'forest_reg_22.6.sav'\n",
    "pickle.dump(forest_reg, open(filename, 'wb'))\n"
   ]
  },
  {
   "cell_type": "code",
   "execution_count": 661,
   "id": "e6e74d67",
   "metadata": {
    "scrolled": true
   },
   "outputs": [
    {
     "data": {
      "text/plain": [
       "<BarContainer object of 6 artists>"
      ]
     },
     "execution_count": 661,
     "metadata": {},
     "output_type": "execute_result"
    },
    {
     "data": {
      "image/png": "[encoded data removed]",
      "text/plain": [
       "<Figure size 432x288 with 1 Axes>"
      ]
     },
     "metadata": {
      "needs_background": "light"
     },
     "output_type": "display_data"
    }
   ],
   "source": [
    "plt.barh(X_train.columns, forest_reg.feature_importances_)\n"
   ]
  },
  {
   "cell_type": "code",
   "execution_count": null,
   "id": "f6e30c38",
   "metadata": {},
   "outputs": [],
   "source": [
    "#from sklearn.model_selection import GridSearchCV\n",
    "#param_grid = [\n",
    "#    {'n_estimators': [3, 10, 30], 'max_features': [2, 4, 6, 8]},\n",
    "    \n",
    "    \n",
    "#]\n"
   ]
  },
  {
   "cell_type": "code",
   "execution_count": 251,
   "id": "78839015",
   "metadata": {},
   "outputs": [
    {
     "ename": "KeyboardInterrupt",
     "evalue": "",
     "output_type": "error",
     "traceback": [
      "\u001b[0;31m---------------------------------------------------------------------------\u001b[0m",
      "\u001b[0;31mKeyboardInterrupt\u001b[0m                         Traceback (most recent call last)",
      "\u001b[0;32m<ipython-input-251-5d0adfc4d5f7>\u001b[0m in \u001b[0;36m<module>\u001b[0;34m\u001b[0m\n\u001b[1;32m      5\u001b[0m \u001b[0mstore_ids\u001b[0m \u001b[0;34m=\u001b[0m \u001b[0mnewtrain_set\u001b[0m\u001b[0;34m[\u001b[0m\u001b[0;34m'Store'\u001b[0m\u001b[0;34m]\u001b[0m\u001b[0;34m.\u001b[0m\u001b[0munique\u001b[0m\u001b[0;34m(\u001b[0m\u001b[0;34m)\u001b[0m\u001b[0;34m\u001b[0m\u001b[0;34m\u001b[0m\u001b[0m\n\u001b[1;32m      6\u001b[0m \u001b[0;32mfor\u001b[0m \u001b[0mid\u001b[0m \u001b[0;32min\u001b[0m \u001b[0mstore_ids\u001b[0m\u001b[0;34m:\u001b[0m\u001b[0;34m\u001b[0m\u001b[0;34m\u001b[0m\u001b[0m\n\u001b[0;32m----> 7\u001b[0;31m     \u001b[0mresult\u001b[0m \u001b[0;34m=\u001b[0m \u001b[0madfuller\u001b[0m\u001b[0;34m(\u001b[0m\u001b[0mnewtrain_set\u001b[0m\u001b[0;34m.\u001b[0m\u001b[0mloc\u001b[0m\u001b[0;34m[\u001b[0m\u001b[0mnewtrain_set\u001b[0m\u001b[0;34m[\u001b[0m\u001b[0;34m'Store'\u001b[0m\u001b[0;34m]\u001b[0m \u001b[0;34m==\u001b[0m \u001b[0mid\u001b[0m\u001b[0;34m,\u001b[0m \u001b[0;34m'Sales'\u001b[0m\u001b[0;34m]\u001b[0m\u001b[0;34m)\u001b[0m\u001b[0;34m\u001b[0m\u001b[0;34m\u001b[0m\u001b[0m\n\u001b[0m\u001b[1;32m      8\u001b[0m  \u001b[0;31m#   print('ADF Statistic: %f' % result[0])\u001b[0m\u001b[0;34m\u001b[0m\u001b[0;34m\u001b[0m\u001b[0;34m\u001b[0m\u001b[0m\n\u001b[1;32m      9\u001b[0m     \u001b[0mpvalues\u001b[0m\u001b[0;34m.\u001b[0m\u001b[0mappend\u001b[0m\u001b[0;34m(\u001b[0m\u001b[0mresult\u001b[0m\u001b[0;34m[\u001b[0m\u001b[0;36m1\u001b[0m\u001b[0;34m]\u001b[0m\u001b[0;34m)\u001b[0m\u001b[0;34m\u001b[0m\u001b[0;34m\u001b[0m\u001b[0m\n",
      "\u001b[0;32m~/miniconda3/envs/minicomp/lib/python3.9/site-packages/pandas/core/ops/common.py\u001b[0m in \u001b[0;36mnew_method\u001b[0;34m(self, other)\u001b[0m\n\u001b[1;32m     63\u001b[0m         \u001b[0mother\u001b[0m \u001b[0;34m=\u001b[0m \u001b[0mitem_from_zerodim\u001b[0m\u001b[0;34m(\u001b[0m\u001b[0mother\u001b[0m\u001b[0;34m)\u001b[0m\u001b[0;34m\u001b[0m\u001b[0;34m\u001b[0m\u001b[0m\n\u001b[1;32m     64\u001b[0m \u001b[0;34m\u001b[0m\u001b[0m\n\u001b[0;32m---> 65\u001b[0;31m         \u001b[0;32mreturn\u001b[0m \u001b[0mmethod\u001b[0m\u001b[0;34m(\u001b[0m\u001b[0mself\u001b[0m\u001b[0;34m,\u001b[0m \u001b[0mother\u001b[0m\u001b[0;34m)\u001b[0m\u001b[0;34m\u001b[0m\u001b[0;34m\u001b[0m\u001b[0m\n\u001b[0m\u001b[1;32m     66\u001b[0m \u001b[0;34m\u001b[0m\u001b[0m\n\u001b[1;32m     67\u001b[0m     \u001b[0;32mreturn\u001b[0m \u001b[0mnew_method\u001b[0m\u001b[0;34m\u001b[0m\u001b[0;34m\u001b[0m\u001b[0m\n",
      "\u001b[0;32m~/miniconda3/envs/minicomp/lib/python3.9/site-packages/pandas/core/arraylike.py\u001b[0m in \u001b[0;36m__eq__\u001b[0;34m(self, other)\u001b[0m\n\u001b[1;32m     27\u001b[0m     \u001b[0;34m@\u001b[0m\u001b[0munpack_zerodim_and_defer\u001b[0m\u001b[0;34m(\u001b[0m\u001b[0;34m\"__eq__\"\u001b[0m\u001b[0;34m)\u001b[0m\u001b[0;34m\u001b[0m\u001b[0;34m\u001b[0m\u001b[0m\n\u001b[1;32m     28\u001b[0m     \u001b[0;32mdef\u001b[0m \u001b[0m__eq__\u001b[0m\u001b[0;34m(\u001b[0m\u001b[0mself\u001b[0m\u001b[0;34m,\u001b[0m \u001b[0mother\u001b[0m\u001b[0;34m)\u001b[0m\u001b[0;34m:\u001b[0m\u001b[0;34m\u001b[0m\u001b[0;34m\u001b[0m\u001b[0m\n\u001b[0;32m---> 29\u001b[0;31m         \u001b[0;32mreturn\u001b[0m \u001b[0mself\u001b[0m\u001b[0;34m.\u001b[0m\u001b[0m_cmp_method\u001b[0m\u001b[0;34m(\u001b[0m\u001b[0mother\u001b[0m\u001b[0;34m,\u001b[0m \u001b[0moperator\u001b[0m\u001b[0;34m.\u001b[0m\u001b[0meq\u001b[0m\u001b[0;34m)\u001b[0m\u001b[0;34m\u001b[0m\u001b[0;34m\u001b[0m\u001b[0m\n\u001b[0m\u001b[1;32m     30\u001b[0m \u001b[0;34m\u001b[0m\u001b[0m\n\u001b[1;32m     31\u001b[0m     \u001b[0;34m@\u001b[0m\u001b[0munpack_zerodim_and_defer\u001b[0m\u001b[0;34m(\u001b[0m\u001b[0;34m\"__ne__\"\u001b[0m\u001b[0;34m)\u001b[0m\u001b[0;34m\u001b[0m\u001b[0;34m\u001b[0m\u001b[0m\n",
      "\u001b[0;32m~/miniconda3/envs/minicomp/lib/python3.9/site-packages/pandas/core/series.py\u001b[0m in \u001b[0;36m_cmp_method\u001b[0;34m(self, other, op)\u001b[0m\n\u001b[1;32m   4973\u001b[0m             \u001b[0;32mraise\u001b[0m \u001b[0mValueError\u001b[0m\u001b[0;34m(\u001b[0m\u001b[0;34m\"Can only compare identically-labeled Series objects\"\u001b[0m\u001b[0;34m)\u001b[0m\u001b[0;34m\u001b[0m\u001b[0;34m\u001b[0m\u001b[0m\n\u001b[1;32m   4974\u001b[0m \u001b[0;34m\u001b[0m\u001b[0m\n\u001b[0;32m-> 4975\u001b[0;31m         \u001b[0mlvalues\u001b[0m \u001b[0;34m=\u001b[0m \u001b[0mextract_array\u001b[0m\u001b[0;34m(\u001b[0m\u001b[0mself\u001b[0m\u001b[0;34m,\u001b[0m \u001b[0mextract_numpy\u001b[0m\u001b[0;34m=\u001b[0m\u001b[0;32mTrue\u001b[0m\u001b[0;34m)\u001b[0m\u001b[0;34m\u001b[0m\u001b[0;34m\u001b[0m\u001b[0m\n\u001b[0m\u001b[1;32m   4976\u001b[0m         \u001b[0mrvalues\u001b[0m \u001b[0;34m=\u001b[0m \u001b[0mextract_array\u001b[0m\u001b[0;34m(\u001b[0m\u001b[0mother\u001b[0m\u001b[0;34m,\u001b[0m \u001b[0mextract_numpy\u001b[0m\u001b[0;34m=\u001b[0m\u001b[0;32mTrue\u001b[0m\u001b[0;34m)\u001b[0m\u001b[0;34m\u001b[0m\u001b[0;34m\u001b[0m\u001b[0m\n\u001b[1;32m   4977\u001b[0m \u001b[0;34m\u001b[0m\u001b[0m\n",
      "\u001b[0;32m~/miniconda3/envs/minicomp/lib/python3.9/site-packages/pandas/core/construction.py\u001b[0m in \u001b[0;36mextract_array\u001b[0;34m(obj, extract_numpy)\u001b[0m\n\u001b[1;32m    395\u001b[0m     \"\"\"\n\u001b[1;32m    396\u001b[0m     \u001b[0;32mif\u001b[0m \u001b[0misinstance\u001b[0m\u001b[0;34m(\u001b[0m\u001b[0mobj\u001b[0m\u001b[0;34m,\u001b[0m \u001b[0;34m(\u001b[0m\u001b[0mABCIndexClass\u001b[0m\u001b[0;34m,\u001b[0m \u001b[0mABCSeries\u001b[0m\u001b[0;34m)\u001b[0m\u001b[0;34m)\u001b[0m\u001b[0;34m:\u001b[0m\u001b[0;34m\u001b[0m\u001b[0;34m\u001b[0m\u001b[0m\n\u001b[0;32m--> 397\u001b[0;31m         \u001b[0mobj\u001b[0m \u001b[0;34m=\u001b[0m \u001b[0mobj\u001b[0m\u001b[0;34m.\u001b[0m\u001b[0marray\u001b[0m\u001b[0;34m\u001b[0m\u001b[0;34m\u001b[0m\u001b[0m\n\u001b[0m\u001b[1;32m    398\u001b[0m \u001b[0;34m\u001b[0m\u001b[0m\n\u001b[1;32m    399\u001b[0m     \u001b[0;32mif\u001b[0m \u001b[0mextract_numpy\u001b[0m \u001b[0;32mand\u001b[0m \u001b[0misinstance\u001b[0m\u001b[0;34m(\u001b[0m\u001b[0mobj\u001b[0m\u001b[0;34m,\u001b[0m \u001b[0mABCPandasArray\u001b[0m\u001b[0;34m)\u001b[0m\u001b[0;34m:\u001b[0m\u001b[0;34m\u001b[0m\u001b[0;34m\u001b[0m\u001b[0m\n",
      "\u001b[0;32m~/miniconda3/envs/minicomp/lib/python3.9/site-packages/pandas/core/series.py\u001b[0m in \u001b[0;36marray\u001b[0;34m(self)\u001b[0m\n\u001b[1;32m    621\u001b[0m     \u001b[0;34m@\u001b[0m\u001b[0mproperty\u001b[0m\u001b[0;34m\u001b[0m\u001b[0;34m\u001b[0m\u001b[0m\n\u001b[1;32m    622\u001b[0m     \u001b[0;32mdef\u001b[0m \u001b[0marray\u001b[0m\u001b[0;34m(\u001b[0m\u001b[0mself\u001b[0m\u001b[0;34m)\u001b[0m \u001b[0;34m->\u001b[0m \u001b[0mExtensionArray\u001b[0m\u001b[0;34m:\u001b[0m\u001b[0;34m\u001b[0m\u001b[0;34m\u001b[0m\u001b[0m\n\u001b[0;32m--> 623\u001b[0;31m         \u001b[0;32mreturn\u001b[0m \u001b[0mself\u001b[0m\u001b[0;34m.\u001b[0m\u001b[0m_mgr\u001b[0m\u001b[0;34m.\u001b[0m\u001b[0m_block\u001b[0m\u001b[0;34m.\u001b[0m\u001b[0marray_values\u001b[0m\u001b[0;34m(\u001b[0m\u001b[0;34m)\u001b[0m\u001b[0;34m\u001b[0m\u001b[0;34m\u001b[0m\u001b[0m\n\u001b[0m\u001b[1;32m    624\u001b[0m \u001b[0;34m\u001b[0m\u001b[0m\n\u001b[1;32m    625\u001b[0m     \u001b[0;31m# ops\u001b[0m\u001b[0;34m\u001b[0m\u001b[0;34m\u001b[0m\u001b[0;34m\u001b[0m\u001b[0m\n",
      "\u001b[0;32m~/miniconda3/envs/minicomp/lib/python3.9/site-packages/pandas/core/internals/managers.py\u001b[0m in \u001b[0;36m_block\u001b[0;34m(self)\u001b[0m\n\u001b[1;32m   1586\u001b[0m         \u001b[0;32mpass\u001b[0m\u001b[0;34m\u001b[0m\u001b[0;34m\u001b[0m\u001b[0m\n\u001b[1;32m   1587\u001b[0m \u001b[0;34m\u001b[0m\u001b[0m\n\u001b[0;32m-> 1588\u001b[0;31m     \u001b[0;34m@\u001b[0m\u001b[0mproperty\u001b[0m\u001b[0;34m\u001b[0m\u001b[0;34m\u001b[0m\u001b[0m\n\u001b[0m\u001b[1;32m   1589\u001b[0m     \u001b[0;32mdef\u001b[0m \u001b[0m_block\u001b[0m\u001b[0;34m(\u001b[0m\u001b[0mself\u001b[0m\u001b[0;34m)\u001b[0m \u001b[0;34m->\u001b[0m \u001b[0mBlock\u001b[0m\u001b[0;34m:\u001b[0m\u001b[0;34m\u001b[0m\u001b[0;34m\u001b[0m\u001b[0m\n\u001b[1;32m   1590\u001b[0m         \u001b[0;32mreturn\u001b[0m \u001b[0mself\u001b[0m\u001b[0;34m.\u001b[0m\u001b[0mblocks\u001b[0m\u001b[0;34m[\u001b[0m\u001b[0;36m0\u001b[0m\u001b[0;34m]\u001b[0m\u001b[0;34m\u001b[0m\u001b[0;34m\u001b[0m\u001b[0m\n",
      "\u001b[0;31mKeyboardInterrupt\u001b[0m: "
     ]
    }
   ],
   "source": [
    "# Check stationarity\n",
    "\n",
    "from statsmodels.tsa.stattools import adfuller\n",
    "pvalues = []\n",
    "store_ids = newtrain_set['Store'].unique()\n",
    "for id in store_ids:\n",
    "    result = adfuller(newtrain_set.loc[newtrain_set['Store'] == id, 'Sales'])\n",
    " #   print('ADF Statistic: %f' % result[0])\n",
    "    pvalues.append(result[1])\n",
    "\n",
    "df_pvalues = pd.DataFrame({\n",
    "        \"Store\" : store_ids,\n",
    "        \"pvalue\" : pvalues,\n",
    "})\n",
    "\n",
    "# Plotly Express is now a sublibrary of Plotly:\n",
    "import plotly.express as px\n",
    "fig = px.scatter(\n",
    "    data_frame=df_pvalues,\n",
    "    x='Store',\n",
    "    y='pvalue',\n",
    "    title='P values per store',\n",
    "    log_y = True\n",
    ")\n",
    "fig.add_hline(y=0.05)\n",
    "fig.show()\n",
    "\n",
    "\n"
   ]
  }
 ],
 "metadata": {
  "kernelspec": {
   "display_name": "minicomp",
   "language": "python",
   "name": "minicomp"
  },
  "language_info": {
   "codemirror_mode": {
    "name": "ipython",
    "version": 3
   },
   "file_extension": ".py",
   "mimetype": "text/x-python",
   "name": "python",
   "nbconvert_exporter": "python",
   "pygments_lexer": "ipython3",
   "version": "3.9.4"
  }
 },
 "nbformat": 4,
 "nbformat_minor": 5
}
