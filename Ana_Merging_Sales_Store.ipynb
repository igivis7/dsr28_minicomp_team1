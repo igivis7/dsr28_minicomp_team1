{
 "cells": [
  {
   "cell_type": "markdown",
   "id": "5e5bb20f",
   "metadata": {},
   "source": [
    "# Merging train and store tables"
   ]
  },
  {
   "cell_type": "code",
   "execution_count": 1,
   "id": "1280a1c5",
   "metadata": {},
   "outputs": [],
   "source": [
    "%matplotlib inline\n",
    "import pandas as pd\n",
    "import numpy as np\n",
    "import matplotlib.pyplot as plt\n",
    "import plotly"
   ]
  },
  {
   "cell_type": "code",
   "execution_count": 3,
   "id": "686095f9",
   "metadata": {},
   "outputs": [],
   "source": [
    "# Loading the data\n",
    "\n",
    "newtrain = pd.read_csv('data/newtrain.csv')\n",
    "store = pd.read_csv('data/store.csv')"
   ]
  },
  {
   "cell_type": "code",
   "execution_count": 4,
   "id": "c7518424",
   "metadata": {},
   "outputs": [],
   "source": [
    "# merge store and sales\n",
    "\n",
    "merge_data = pd.merge(newtrain, store, how='left', on='Store')"
   ]
  },
  {
   "cell_type": "code",
   "execution_count": 6,
   "id": "5a49cf37",
   "metadata": {},
   "outputs": [
    {
     "data": {
      "text/plain": [
       "435837"
      ]
     },
     "execution_count": 6,
     "metadata": {},
     "output_type": "execute_result"
    }
   ],
   "source": [
    "len(merge_data)"
   ]
  }
 ],
 "metadata": {
  "kernelspec": {
   "display_name": "minicomp",
   "language": "python",
   "name": "minicomp"
  },
  "language_info": {
   "codemirror_mode": {
    "name": "ipython",
    "version": 3
   },
   "file_extension": ".py",
   "mimetype": "text/x-python",
   "name": "python",
   "nbconvert_exporter": "python",
   "pygments_lexer": "ipython3",
   "version": "3.9.4"
  }
 },
 "nbformat": 4,
 "nbformat_minor": 5
}
