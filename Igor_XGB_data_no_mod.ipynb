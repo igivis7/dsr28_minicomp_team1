{
 "cells": [
  {
   "cell_type": "code",
   "execution_count": 41,
   "metadata": {},
   "outputs": [
    {
     "data": {
      "text/html": [
       "        <script type=\"text/javascript\">\n",
       "        window.PlotlyConfig = {MathJaxConfig: 'local'};\n",
       "        if (window.MathJax) {MathJax.Hub.Config({SVG: {font: \"STIX-Web\"}});}\n",
       "        if (typeof require !== 'undefined') {\n",
       "        require.undef(\"plotly\");\n",
       "        requirejs.config({\n",
       "            paths: {\n",
       "                'plotly': ['https://cdn.plot.ly/plotly-2.4.2.min']\n",
       "            }\n",
       "        });\n",
       "        require(['plotly'], function(Plotly) {\n",
       "            window._Plotly = Plotly;\n",
       "        });\n",
       "        }\n",
       "        </script>\n",
       "        "
      ]
     },
     "metadata": {},
     "output_type": "display_data"
    }
   ],
   "source": [
    "import os\n",
    "import numpy as np\n",
    "import pandas as pd\n",
    "import matplotlib.pyplot as plt\n",
    "\n",
    "import plotly\n",
    "import plotly.express as px\n",
    "import plotly.graph_objects as go\n",
    "from plotly.subplots import make_subplots\n",
    "plotly.offline.init_notebook_mode(connected=True)\n",
    "\n",
    "import sklearn.metrics as skmetr\n",
    "import xgboost as xgb\n",
    "from xgboost import plot_importance"
   ]
  },
  {
   "cell_type": "code",
   "execution_count": 42,
   "metadata": {},
   "outputs": [],
   "source": [
    "def print_errors(y_true, y_pred, msg):\n",
    "    print('ERRORS in ' + msg)\n",
    "    print('MAE: {0}'.format(skmetr.mean_absolute_error(y_true, y_pred)))\n",
    "    print('RMSE: {0}'.format(np.sqrt(skmetr.mean_squared_error(y_true, y_pred))))\n",
    "    print('MAPE: {0}'.format(np.mean(np.absolute(y_true - y_pred)/(y_true+1)*100)))\n",
    "    print('RMSPE: {0}'.format(np.sqrt(np.mean(np.square(((y_true - y_pred) /(y_true+1))), axis=0))))"
   ]
  },
  {
   "cell_type": "code",
   "execution_count": 43,
   "metadata": {},
   "outputs": [],
   "source": [
    "def metric(preds, actuals):\n",
    "    preds = preds.reshape(-1)\n",
    "    actuals = actuals.reshape(-1)\n",
    "    assert preds.shape == actuals.shape\n",
    "    return 100 * np.linalg.norm((actuals - preds) / actuals) / np.sqrt(preds.shape[0])"
   ]
  },
  {
   "cell_type": "code",
   "execution_count": 44,
   "metadata": {},
   "outputs": [
    {
     "name": "stderr",
     "output_type": "stream",
     "text": [
      "/home/trix_arch/.conda/envs/minicomp/lib/python3.9/site-packages/IPython/core/interactiveshell.py:3444: DtypeWarning:\n",
      "\n",
      "Columns (7) have mixed types.Specify dtype option on import or set low_memory=False.\n",
      "\n"
     ]
    },
    {
     "data": {
      "text/html": [
       "<div>\n",
       "<style scoped>\n",
       "    .dataframe tbody tr th:only-of-type {\n",
       "        vertical-align: middle;\n",
       "    }\n",
       "\n",
       "    .dataframe tbody tr th {\n",
       "        vertical-align: top;\n",
       "    }\n",
       "\n",
       "    .dataframe thead th {\n",
       "        text-align: right;\n",
       "    }\n",
       "</style>\n",
       "<table border=\"1\" class=\"dataframe\">\n",
       "  <thead>\n",
       "    <tr style=\"text-align: right;\">\n",
       "      <th></th>\n",
       "      <th>Date</th>\n",
       "      <th>Store</th>\n",
       "      <th>DayOfWeek</th>\n",
       "      <th>Sales</th>\n",
       "      <th>Customers</th>\n",
       "      <th>Open</th>\n",
       "      <th>Promo</th>\n",
       "      <th>StateHoliday</th>\n",
       "      <th>SchoolHoliday</th>\n",
       "      <th>StoreType</th>\n",
       "      <th>Assortment</th>\n",
       "      <th>CompetitionDistance</th>\n",
       "      <th>CompetitionOpenSinceMonth</th>\n",
       "      <th>CompetitionOpenSinceYear</th>\n",
       "      <th>Promo2</th>\n",
       "      <th>Promo2SinceWeek</th>\n",
       "      <th>Promo2SinceYear</th>\n",
       "      <th>PromoInterval</th>\n",
       "    </tr>\n",
       "  </thead>\n",
       "  <tbody>\n",
       "    <tr>\n",
       "      <th>27</th>\n",
       "      <td>2013-01-01</td>\n",
       "      <td>353.0</td>\n",
       "      <td>2.0</td>\n",
       "      <td>3139.0</td>\n",
       "      <td>820.0</td>\n",
       "      <td>1.0</td>\n",
       "      <td>0.0</td>\n",
       "      <td>a</td>\n",
       "      <td>1.0</td>\n",
       "      <td>b</td>\n",
       "      <td>b</td>\n",
       "      <td>900.0</td>\n",
       "      <td>NaN</td>\n",
       "      <td>NaN</td>\n",
       "      <td>1.0</td>\n",
       "      <td>14.0</td>\n",
       "      <td>2013.0</td>\n",
       "      <td>Feb,May,Aug,Nov</td>\n",
       "    </tr>\n",
       "    <tr>\n",
       "      <th>115</th>\n",
       "      <td>2013-01-01</td>\n",
       "      <td>335.0</td>\n",
       "      <td>2.0</td>\n",
       "      <td>2401.0</td>\n",
       "      <td>482.0</td>\n",
       "      <td>1.0</td>\n",
       "      <td>0.0</td>\n",
       "      <td>a</td>\n",
       "      <td>1.0</td>\n",
       "      <td>b</td>\n",
       "      <td>a</td>\n",
       "      <td>90.0</td>\n",
       "      <td>NaN</td>\n",
       "      <td>NaN</td>\n",
       "      <td>1.0</td>\n",
       "      <td>31.0</td>\n",
       "      <td>2013.0</td>\n",
       "      <td>Jan,Apr,Jul,Oct</td>\n",
       "    </tr>\n",
       "    <tr>\n",
       "      <th>147</th>\n",
       "      <td>2013-01-01</td>\n",
       "      <td>512.0</td>\n",
       "      <td>2.0</td>\n",
       "      <td>2646.0</td>\n",
       "      <td>625.0</td>\n",
       "      <td>1.0</td>\n",
       "      <td>0.0</td>\n",
       "      <td>a</td>\n",
       "      <td>1.0</td>\n",
       "      <td>b</td>\n",
       "      <td>b</td>\n",
       "      <td>590.0</td>\n",
       "      <td>NaN</td>\n",
       "      <td>NaN</td>\n",
       "      <td>1.0</td>\n",
       "      <td>5.0</td>\n",
       "      <td>2013.0</td>\n",
       "      <td>Mar,Jun,Sept,Dec</td>\n",
       "    </tr>\n",
       "    <tr>\n",
       "      <th>162</th>\n",
       "      <td>2013-01-01</td>\n",
       "      <td>494.0</td>\n",
       "      <td>2.0</td>\n",
       "      <td>3113.0</td>\n",
       "      <td>527.0</td>\n",
       "      <td>1.0</td>\n",
       "      <td>0.0</td>\n",
       "      <td>a</td>\n",
       "      <td>1.0</td>\n",
       "      <td>b</td>\n",
       "      <td>a</td>\n",
       "      <td>1260.0</td>\n",
       "      <td>6.0</td>\n",
       "      <td>2011.0</td>\n",
       "      <td>0.0</td>\n",
       "      <td>NaN</td>\n",
       "      <td>NaN</td>\n",
       "      <td>NaN</td>\n",
       "    </tr>\n",
       "    <tr>\n",
       "      <th>199</th>\n",
       "      <td>2013-01-01</td>\n",
       "      <td>530.0</td>\n",
       "      <td>2.0</td>\n",
       "      <td>2907.0</td>\n",
       "      <td>532.0</td>\n",
       "      <td>1.0</td>\n",
       "      <td>0.0</td>\n",
       "      <td>a</td>\n",
       "      <td>1.0</td>\n",
       "      <td>a</td>\n",
       "      <td>c</td>\n",
       "      <td>18160.0</td>\n",
       "      <td>NaN</td>\n",
       "      <td>NaN</td>\n",
       "      <td>0.0</td>\n",
       "      <td>NaN</td>\n",
       "      <td>NaN</td>\n",
       "      <td>NaN</td>\n",
       "    </tr>\n",
       "  </tbody>\n",
       "</table>\n",
       "</div>"
      ],
      "text/plain": [
       "          Date  Store  DayOfWeek   Sales  Customers  Open  Promo StateHoliday  \\\n",
       "27  2013-01-01  353.0        2.0  3139.0      820.0   1.0    0.0            a   \n",
       "115 2013-01-01  335.0        2.0  2401.0      482.0   1.0    0.0            a   \n",
       "147 2013-01-01  512.0        2.0  2646.0      625.0   1.0    0.0            a   \n",
       "162 2013-01-01  494.0        2.0  3113.0      527.0   1.0    0.0            a   \n",
       "199 2013-01-01  530.0        2.0  2907.0      532.0   1.0    0.0            a   \n",
       "\n",
       "     SchoolHoliday StoreType Assortment  CompetitionDistance  \\\n",
       "27             1.0         b          b                900.0   \n",
       "115            1.0         b          a                 90.0   \n",
       "147            1.0         b          b                590.0   \n",
       "162            1.0         b          a               1260.0   \n",
       "199            1.0         a          c              18160.0   \n",
       "\n",
       "     CompetitionOpenSinceMonth  CompetitionOpenSinceYear  Promo2  \\\n",
       "27                         NaN                       NaN     1.0   \n",
       "115                        NaN                       NaN     1.0   \n",
       "147                        NaN                       NaN     1.0   \n",
       "162                        6.0                    2011.0     0.0   \n",
       "199                        NaN                       NaN     0.0   \n",
       "\n",
       "     Promo2SinceWeek  Promo2SinceYear     PromoInterval  \n",
       "27              14.0           2013.0   Feb,May,Aug,Nov  \n",
       "115             31.0           2013.0   Jan,Apr,Jul,Oct  \n",
       "147              5.0           2013.0  Mar,Jun,Sept,Dec  \n",
       "162              NaN              NaN               NaN  \n",
       "199              NaN              NaN               NaN  "
      ]
     },
     "execution_count": 44,
     "metadata": {},
     "output_type": "execute_result"
    }
   ],
   "source": [
    "rossman_df = pd.read_csv('data/train.csv').reset_index(drop=True)\n",
    "rossman_df.Date = pd.to_datetime(rossman_df.Date)\n",
    "\n",
    "stores = pd.read_csv('data/store.csv').reset_index(drop=True)\n",
    "\n",
    "rossman_df = pd.merge(rossman_df, stores, how='left', on='Store')\n",
    "rossman_df = rossman_df[~((rossman_df.Sales<1)&(rossman_df.Open==1))]\n",
    "rossman_df = rossman_df[rossman_df.Sales>0]\n",
    "\n",
    "rossman_df.head()"
   ]
  },
  {
   "cell_type": "code",
   "execution_count": null,
   "metadata": {},
   "outputs": [],
   "source": []
  },
  {
   "cell_type": "code",
   "execution_count": 45,
   "metadata": {},
   "outputs": [],
   "source": [
    "def add_time_features(df):\n",
    "    df['Year'] = df.Date.dt.year\n",
    "    df['Month'] = df.Date.dt.month\n",
    "    df['Day'] = df.Date.dt.day\n",
    "    df['DayOfWeek'] = df.Date.dt.dayofweek\n",
    "    df['WeekOfYear'] = df.Date.dt.weekofyear\n",
    "    return df\n",
    "\n",
    "def recode(df, var_list=[]):\n",
    "    map_dict = {'0':0, 'a':1, 'b':2, 'c':3, 'd':4}\n",
    "    for v in var_list:\n",
    "        df[v].replace(map_dict, inplace=True)\n",
    "    return df   "
   ]
  },
  {
   "cell_type": "code",
   "execution_count": 46,
   "metadata": {},
   "outputs": [
    {
     "name": "stderr",
     "output_type": "stream",
     "text": [
      "/tmp/ipykernel_5723/3415238186.py:6: FutureWarning:\n",
      "\n",
      "Series.dt.weekofyear and Series.dt.week have been deprecated.  Please use Series.dt.isocalendar().week instead.\n",
      "\n"
     ]
    },
    {
     "data": {
      "text/html": [
       "<div>\n",
       "<style scoped>\n",
       "    .dataframe tbody tr th:only-of-type {\n",
       "        vertical-align: middle;\n",
       "    }\n",
       "\n",
       "    .dataframe tbody tr th {\n",
       "        vertical-align: top;\n",
       "    }\n",
       "\n",
       "    .dataframe thead th {\n",
       "        text-align: right;\n",
       "    }\n",
       "</style>\n",
       "<table border=\"1\" class=\"dataframe\">\n",
       "  <thead>\n",
       "    <tr style=\"text-align: right;\">\n",
       "      <th></th>\n",
       "      <th>Date</th>\n",
       "      <th>Store</th>\n",
       "      <th>DayOfWeek</th>\n",
       "      <th>Sales</th>\n",
       "      <th>Customers</th>\n",
       "      <th>Open</th>\n",
       "      <th>Promo</th>\n",
       "      <th>StateHoliday</th>\n",
       "      <th>SchoolHoliday</th>\n",
       "      <th>StoreType</th>\n",
       "      <th>...</th>\n",
       "      <th>CompetitionOpenSinceMonth</th>\n",
       "      <th>CompetitionOpenSinceYear</th>\n",
       "      <th>Promo2</th>\n",
       "      <th>Promo2SinceWeek</th>\n",
       "      <th>Promo2SinceYear</th>\n",
       "      <th>PromoInterval</th>\n",
       "      <th>Year</th>\n",
       "      <th>Month</th>\n",
       "      <th>Day</th>\n",
       "      <th>WeekOfYear</th>\n",
       "    </tr>\n",
       "  </thead>\n",
       "  <tbody>\n",
       "    <tr>\n",
       "      <th>27</th>\n",
       "      <td>2013-01-01</td>\n",
       "      <td>353.0</td>\n",
       "      <td>1</td>\n",
       "      <td>3139.0</td>\n",
       "      <td>820.0</td>\n",
       "      <td>1.0</td>\n",
       "      <td>0.0</td>\n",
       "      <td>1.0</td>\n",
       "      <td>1.0</td>\n",
       "      <td>2.0</td>\n",
       "      <td>...</td>\n",
       "      <td>NaN</td>\n",
       "      <td>NaN</td>\n",
       "      <td>1.0</td>\n",
       "      <td>14.0</td>\n",
       "      <td>2013.0</td>\n",
       "      <td>Feb,May,Aug,Nov</td>\n",
       "      <td>2013</td>\n",
       "      <td>1</td>\n",
       "      <td>1</td>\n",
       "      <td>1</td>\n",
       "    </tr>\n",
       "    <tr>\n",
       "      <th>115</th>\n",
       "      <td>2013-01-01</td>\n",
       "      <td>335.0</td>\n",
       "      <td>1</td>\n",
       "      <td>2401.0</td>\n",
       "      <td>482.0</td>\n",
       "      <td>1.0</td>\n",
       "      <td>0.0</td>\n",
       "      <td>1.0</td>\n",
       "      <td>1.0</td>\n",
       "      <td>2.0</td>\n",
       "      <td>...</td>\n",
       "      <td>NaN</td>\n",
       "      <td>NaN</td>\n",
       "      <td>1.0</td>\n",
       "      <td>31.0</td>\n",
       "      <td>2013.0</td>\n",
       "      <td>Jan,Apr,Jul,Oct</td>\n",
       "      <td>2013</td>\n",
       "      <td>1</td>\n",
       "      <td>1</td>\n",
       "      <td>1</td>\n",
       "    </tr>\n",
       "    <tr>\n",
       "      <th>147</th>\n",
       "      <td>2013-01-01</td>\n",
       "      <td>512.0</td>\n",
       "      <td>1</td>\n",
       "      <td>2646.0</td>\n",
       "      <td>625.0</td>\n",
       "      <td>1.0</td>\n",
       "      <td>0.0</td>\n",
       "      <td>1.0</td>\n",
       "      <td>1.0</td>\n",
       "      <td>2.0</td>\n",
       "      <td>...</td>\n",
       "      <td>NaN</td>\n",
       "      <td>NaN</td>\n",
       "      <td>1.0</td>\n",
       "      <td>5.0</td>\n",
       "      <td>2013.0</td>\n",
       "      <td>Mar,Jun,Sept,Dec</td>\n",
       "      <td>2013</td>\n",
       "      <td>1</td>\n",
       "      <td>1</td>\n",
       "      <td>1</td>\n",
       "    </tr>\n",
       "    <tr>\n",
       "      <th>162</th>\n",
       "      <td>2013-01-01</td>\n",
       "      <td>494.0</td>\n",
       "      <td>1</td>\n",
       "      <td>3113.0</td>\n",
       "      <td>527.0</td>\n",
       "      <td>1.0</td>\n",
       "      <td>0.0</td>\n",
       "      <td>1.0</td>\n",
       "      <td>1.0</td>\n",
       "      <td>2.0</td>\n",
       "      <td>...</td>\n",
       "      <td>6.0</td>\n",
       "      <td>2011.0</td>\n",
       "      <td>0.0</td>\n",
       "      <td>NaN</td>\n",
       "      <td>NaN</td>\n",
       "      <td>NaN</td>\n",
       "      <td>2013</td>\n",
       "      <td>1</td>\n",
       "      <td>1</td>\n",
       "      <td>1</td>\n",
       "    </tr>\n",
       "    <tr>\n",
       "      <th>199</th>\n",
       "      <td>2013-01-01</td>\n",
       "      <td>530.0</td>\n",
       "      <td>1</td>\n",
       "      <td>2907.0</td>\n",
       "      <td>532.0</td>\n",
       "      <td>1.0</td>\n",
       "      <td>0.0</td>\n",
       "      <td>1.0</td>\n",
       "      <td>1.0</td>\n",
       "      <td>1.0</td>\n",
       "      <td>...</td>\n",
       "      <td>NaN</td>\n",
       "      <td>NaN</td>\n",
       "      <td>0.0</td>\n",
       "      <td>NaN</td>\n",
       "      <td>NaN</td>\n",
       "      <td>NaN</td>\n",
       "      <td>2013</td>\n",
       "      <td>1</td>\n",
       "      <td>1</td>\n",
       "      <td>1</td>\n",
       "    </tr>\n",
       "  </tbody>\n",
       "</table>\n",
       "<p>5 rows × 22 columns</p>\n",
       "</div>"
      ],
      "text/plain": [
       "          Date  Store  DayOfWeek   Sales  Customers  Open  Promo  \\\n",
       "27  2013-01-01  353.0          1  3139.0      820.0   1.0    0.0   \n",
       "115 2013-01-01  335.0          1  2401.0      482.0   1.0    0.0   \n",
       "147 2013-01-01  512.0          1  2646.0      625.0   1.0    0.0   \n",
       "162 2013-01-01  494.0          1  3113.0      527.0   1.0    0.0   \n",
       "199 2013-01-01  530.0          1  2907.0      532.0   1.0    0.0   \n",
       "\n",
       "     StateHoliday  SchoolHoliday  StoreType  ...  CompetitionOpenSinceMonth  \\\n",
       "27            1.0            1.0        2.0  ...                        NaN   \n",
       "115           1.0            1.0        2.0  ...                        NaN   \n",
       "147           1.0            1.0        2.0  ...                        NaN   \n",
       "162           1.0            1.0        2.0  ...                        6.0   \n",
       "199           1.0            1.0        1.0  ...                        NaN   \n",
       "\n",
       "     CompetitionOpenSinceYear  Promo2  Promo2SinceWeek  Promo2SinceYear  \\\n",
       "27                        NaN     1.0             14.0           2013.0   \n",
       "115                       NaN     1.0             31.0           2013.0   \n",
       "147                       NaN     1.0              5.0           2013.0   \n",
       "162                    2011.0     0.0              NaN              NaN   \n",
       "199                       NaN     0.0              NaN              NaN   \n",
       "\n",
       "        PromoInterval  Year Month  Day  WeekOfYear  \n",
       "27    Feb,May,Aug,Nov  2013     1    1           1  \n",
       "115   Jan,Apr,Jul,Oct  2013     1    1           1  \n",
       "147  Mar,Jun,Sept,Dec  2013     1    1           1  \n",
       "162               NaN  2013     1    1           1  \n",
       "199               NaN  2013     1    1           1  \n",
       "\n",
       "[5 rows x 22 columns]"
      ]
     },
     "execution_count": 46,
     "metadata": {},
     "output_type": "execute_result"
    }
   ],
   "source": [
    "# incorporate the new features\n",
    "rossman_df = add_time_features(rossman_df)\n",
    "rossman_df = recode(rossman_df, ['StoreType', 'Assortment', 'StateHoliday'])\n",
    "\n",
    "rossman_df.head()"
   ]
  },
  {
   "cell_type": "code",
   "execution_count": 47,
   "metadata": {},
   "outputs": [
    {
     "name": "stdout",
     "output_type": "stream",
     "text": [
      "2013-01-01 00:00:00\n",
      "2014-07-31 00:00:00\n"
     ]
    }
   ],
   "source": [
    "print( rossman_df.Date.min() )\n",
    "print( rossman_df.Date.max() )\n",
    "rossman_df = rossman_df.sort_values('Date').reset_index(drop=True)\n",
    "\n",
    "val_start = '2014-04-01'\n",
    "rossman_df['dataset_type'] = ''\n",
    "rossman_df.loc[rossman_df.Date < val_start, 'dataset_type'] = 'train'\n",
    "rossman_df.loc[rossman_df.Date >= val_start, 'dataset_type'] = 'validation'\n",
    "\n",
    "train_df = rossman_df[rossman_df.dataset_type == 'train']\n",
    "val_df = rossman_df[rossman_df.dataset_type == 'validation']\n",
    "\n",
    "# train_df.head()\n",
    "# val_df.head()"
   ]
  },
  {
   "cell_type": "code",
   "execution_count": 48,
   "metadata": {
    "scrolled": true
   },
   "outputs": [],
   "source": [
    "# fig = px.line(\n",
    "#     train_df[(train_df.Store<5)&(train_df.Sales>0)], \n",
    "#     x='Date', y=\"Sales\", \n",
    "#     color='Store', \n",
    "#     title=\"Sales per store - training data\",  \n",
    "#     width=800, height=500,\n",
    "#     hover_data = ['Open','Promo','StateHoliday','SchoolHoliday'])\n",
    "\n",
    "# fig.show()"
   ]
  },
  {
   "cell_type": "code",
   "execution_count": 49,
   "metadata": {},
   "outputs": [],
   "source": [
    "feat_dict = {'only_time' : ['Year', 'Month', 'Day', 'WeekOfYear', 'DayOfWeek', 'StateHoliday', 'SchoolHoliday', 'Open'],\n",
    "             'only_comp' : ['CompetitionDistance', 'Promo2', 'Open', 'Promo'],\n",
    "             'only_store' : ['StoreType', 'Assortment', 'Open'],\n",
    "             'all_feat' : ['Year', 'Month', 'Day', 'WeekOfYear', 'DayOfWeek','StateHoliday', 'SchoolHoliday', \n",
    "                           'CompetitionDistance', 'Promo2', 'StoreType', 'Assortment', 'Open', 'Promo']}\n",
    "vars_list = feat_dict['all_feat']\n",
    "\n",
    "dtrain = xgb.DMatrix(train_df[vars_list], label=train_df['Sales'])\n",
    "deval = xgb.DMatrix(val_df[vars_list], label=val_df['Sales'])"
   ]
  },
  {
   "cell_type": "code",
   "execution_count": 50,
   "metadata": {},
   "outputs": [],
   "source": [
    "params = {\"objective\": \"reg:squarederror\", \n",
    "          \"booster\" : \"gbtree\", \n",
    "          \"seed\": 10 }\n",
    "num_of_trees = 10\n",
    "\n",
    "xgb_model_MK1 = xgb.train(params, dtrain, \n",
    "                      num_boost_round=num_of_trees,\n",
    "                      early_stopping_rounds=20, \n",
    "                      evals=[(deval, \"Eval\")], \n",
    "                      verbose_eval=False)"
   ]
  },
  {
   "cell_type": "code",
   "execution_count": 51,
   "metadata": {},
   "outputs": [
    {
     "name": "stdout",
     "output_type": "stream",
     "text": [
      "ERRORS in test dataset\n",
      "MAE: 1796.0634591095295\n",
      "RMSE: 2527.5959579637433\n",
      "MAPE: 26.917953916122567\n",
      "RMSPE: 0.3780086738117436\n"
     ]
    }
   ],
   "source": [
    "\n",
    "pred = xgb_model_MK1.predict(deval)\n",
    "print_errors(val_df['Sales'], pred, 'test dataset')"
   ]
  },
  {
   "cell_type": "code",
   "execution_count": 52,
   "metadata": {
    "scrolled": false
   },
   "outputs": [],
   "source": [
    "params_upd1 = {\"objective\": \"reg:squarederror\", #since it is a regression problem\n",
    "          \"booster\" : \"gbtree\",     #tree\n",
    "          \"eta\": 0.03,              #learning rate   to reduce overfitting issues\n",
    "          \"max_depth\": 10,          #depth of the tree\n",
    "          \"subsample\": 0.9,         #subsample the data prior to growing trees - overcomes overfitting\n",
    "          \"colsample_bytree\": 0.7,  #subsampling of columns for each tree\n",
    "          \"seed\": 10                \n",
    "          }\n",
    "num_of_trees = 20\n",
    "early_stopping_rounds_N=20\n",
    "\n",
    "xgb_model_MK2 = xgb.train(\n",
    "                          params_upd1, \n",
    "                          dtrain, \n",
    "                          num_boost_round=num_of_trees,\n",
    "                          early_stopping_rounds=early_stopping_rounds_N, \n",
    "                          evals=[(deval, \"Eval\")], \n",
    "                          verbose_eval=False\n",
    "                         )"
   ]
  },
  {
   "cell_type": "code",
   "execution_count": 53,
   "metadata": {},
   "outputs": [
    {
     "name": "stdout",
     "output_type": "stream",
     "text": [
      "ERRORS in test dataset\n",
      "MAE: 4002.291235270705\n",
      "RMSE: 4829.478433012039\n",
      "MAPE: 51.261500183334704\n",
      "RMSPE: 0.5352667228401103\n"
     ]
    }
   ],
   "source": [
    "pred_MK2 = xgb_model_MK2.predict(deval)\n",
    "print_errors(val_df['Sales'], pred_MK2, 'test dataset')"
   ]
  },
  {
   "cell_type": "code",
   "execution_count": 54,
   "metadata": {},
   "outputs": [],
   "source": [
    "def metric(preds, actuals):\n",
    "    preds = preds.reshape(-1)\n",
    "    actuals = actuals.reshape(-1)\n",
    "    assert preds.shape == actuals.shape\n",
    "    return 100 * np.linalg.norm((actuals - preds) / actuals) / np.sqrt(preds.shape[0])"
   ]
  },
  {
   "cell_type": "code",
   "execution_count": 55,
   "metadata": {},
   "outputs": [
    {
     "data": {
      "text/plain": [
       "53.53417493291908"
      ]
     },
     "execution_count": 55,
     "metadata": {},
     "output_type": "execute_result"
    }
   ],
   "source": [
    "metric(pred_MK2, val_df.Sales.to_numpy())"
   ]
  },
  {
   "cell_type": "code",
   "execution_count": 56,
   "metadata": {},
   "outputs": [
    {
     "data": {
      "text/plain": [
       "<AxesSubplot:title={'center':'Feature importance'}, xlabel='F score', ylabel='Features'>"
      ]
     },
     "execution_count": 56,
     "metadata": {},
     "output_type": "execute_result"
    },
    {
     "data": {
      "image/png": "[encoded data removed]",
      "text/plain": [
       "<Figure size 432x288 with 1 Axes>"
      ]
     },
     "metadata": {
      "needs_background": "light"
     },
     "output_type": "display_data"
    }
   ],
   "source": [
    "plot_importance(xgb_model_MK2)"
   ]
  }
 ],
 "metadata": {
  "kernelspec": {
   "display_name": "minicomp_env",
   "language": "python",
   "name": "minicomp"
  },
  "language_info": {
   "codemirror_mode": {
    "name": "ipython",
    "version": 3
   },
   "file_extension": ".py",
   "mimetype": "text/x-python",
   "name": "python",
   "nbconvert_exporter": "python",
   "pygments_lexer": "ipython3",
   "version": "3.9.7"
  }
 },
 "nbformat": 4,
 "nbformat_minor": 4
}
