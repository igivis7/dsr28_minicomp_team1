{
 "cells": [
  {
   "cell_type": "markdown",
   "id": "93a93ebf",
   "metadata": {},
   "source": [
    "# Data exploration train.csv"
   ]
  },
  {
   "cell_type": "code",
   "execution_count": 44,
   "id": "e7faa7bb",
   "metadata": {},
   "outputs": [
    {
     "name": "stderr",
     "output_type": "stream",
     "text": [
      "/home/sabine/miniconda3/envs/minicomp/lib/python3.9/site-packages/IPython/core/interactiveshell.py:3165: DtypeWarning: Columns (7) have mixed types.Specify dtype option on import or set low_memory=False.\n",
      "  has_raised = await self.run_ast_nodes(code_ast.body, cell_name,\n"
     ]
    }
   ],
   "source": [
    "# Load data\n",
    "import pandas as pd\n",
    "train_data = pd.read_csv(\"data/train.csv\")"
   ]
  },
  {
   "cell_type": "code",
   "execution_count": 45,
   "id": "c8318a1a",
   "metadata": {},
   "outputs": [],
   "source": [
    "# drop column \"Customers\" as it won't be in the test dataset\n",
    "train_data.drop(columns = \"Customers\", inplace=True)\n",
    "train_data = train_data[train_data['Sales'] > 0]"
   ]
  },
  {
   "cell_type": "code",
   "execution_count": 46,
   "id": "40523693",
   "metadata": {
    "scrolled": true
   },
   "outputs": [
    {
     "name": "stdout",
     "output_type": "stream",
     "text": [
      "<class 'pandas.core.frame.DataFrame'>\n",
      "Int64Index: 512956 entries, 27 to 637773\n",
      "Data columns (total 8 columns):\n",
      " #   Column         Non-Null Count   Dtype  \n",
      "---  ------         --------------   -----  \n",
      " 0   Date           512956 non-null  object \n",
      " 1   Store          497376 non-null  float64\n",
      " 2   DayOfWeek      497657 non-null  float64\n",
      " 3   Sales          512956 non-null  float64\n",
      " 4   Open           497501 non-null  float64\n",
      " 5   Promo          497517 non-null  float64\n",
      " 6   StateHoliday   497396 non-null  object \n",
      " 7   SchoolHoliday  497409 non-null  float64\n",
      "dtypes: float64(6), object(2)\n",
      "memory usage: 35.2+ MB\n"
     ]
    }
   ],
   "source": [
    "# explore data\n",
    "train_data.info()"
   ]
  },
  {
   "cell_type": "code",
   "execution_count": 47,
   "id": "dcc926d4",
   "metadata": {},
   "outputs": [
    {
     "data": {
      "text/html": [
       "<div>\n",
       "<style scoped>\n",
       "    .dataframe tbody tr th:only-of-type {\n",
       "        vertical-align: middle;\n",
       "    }\n",
       "\n",
       "    .dataframe tbody tr th {\n",
       "        vertical-align: top;\n",
       "    }\n",
       "\n",
       "    .dataframe thead th {\n",
       "        text-align: right;\n",
       "    }\n",
       "</style>\n",
       "<table border=\"1\" class=\"dataframe\">\n",
       "  <thead>\n",
       "    <tr style=\"text-align: right;\">\n",
       "      <th></th>\n",
       "      <th>Store</th>\n",
       "      <th>DayOfWeek</th>\n",
       "      <th>Sales</th>\n",
       "      <th>Open</th>\n",
       "      <th>Promo</th>\n",
       "      <th>SchoolHoliday</th>\n",
       "    </tr>\n",
       "  </thead>\n",
       "  <tbody>\n",
       "    <tr>\n",
       "      <th>count</th>\n",
       "      <td>497376.000000</td>\n",
       "      <td>497657.000000</td>\n",
       "      <td>512956.000000</td>\n",
       "      <td>497501.0</td>\n",
       "      <td>497517.000000</td>\n",
       "      <td>497409.000000</td>\n",
       "    </tr>\n",
       "    <tr>\n",
       "      <th>mean</th>\n",
       "      <td>558.118667</td>\n",
       "      <td>3.525149</td>\n",
       "      <td>6836.975867</td>\n",
       "      <td>1.0</td>\n",
       "      <td>0.433469</td>\n",
       "      <td>0.186991</td>\n",
       "    </tr>\n",
       "    <tr>\n",
       "      <th>std</th>\n",
       "      <td>321.639674</td>\n",
       "      <td>1.724264</td>\n",
       "      <td>3084.564786</td>\n",
       "      <td>0.0</td>\n",
       "      <td>0.495554</td>\n",
       "      <td>0.389905</td>\n",
       "    </tr>\n",
       "    <tr>\n",
       "      <th>min</th>\n",
       "      <td>1.000000</td>\n",
       "      <td>1.000000</td>\n",
       "      <td>133.000000</td>\n",
       "      <td>1.0</td>\n",
       "      <td>0.000000</td>\n",
       "      <td>0.000000</td>\n",
       "    </tr>\n",
       "    <tr>\n",
       "      <th>25%</th>\n",
       "      <td>280.000000</td>\n",
       "      <td>2.000000</td>\n",
       "      <td>4758.000000</td>\n",
       "      <td>1.0</td>\n",
       "      <td>0.000000</td>\n",
       "      <td>0.000000</td>\n",
       "    </tr>\n",
       "    <tr>\n",
       "      <th>50%</th>\n",
       "      <td>558.000000</td>\n",
       "      <td>4.000000</td>\n",
       "      <td>6246.000000</td>\n",
       "      <td>1.0</td>\n",
       "      <td>0.000000</td>\n",
       "      <td>0.000000</td>\n",
       "    </tr>\n",
       "    <tr>\n",
       "      <th>75%</th>\n",
       "      <td>836.000000</td>\n",
       "      <td>5.000000</td>\n",
       "      <td>8217.000000</td>\n",
       "      <td>1.0</td>\n",
       "      <td>1.000000</td>\n",
       "      <td>0.000000</td>\n",
       "    </tr>\n",
       "    <tr>\n",
       "      <th>max</th>\n",
       "      <td>1115.000000</td>\n",
       "      <td>7.000000</td>\n",
       "      <td>38037.000000</td>\n",
       "      <td>1.0</td>\n",
       "      <td>1.000000</td>\n",
       "      <td>1.000000</td>\n",
       "    </tr>\n",
       "  </tbody>\n",
       "</table>\n",
       "</div>"
      ],
      "text/plain": [
       "               Store      DayOfWeek          Sales      Open          Promo  \\\n",
       "count  497376.000000  497657.000000  512956.000000  497501.0  497517.000000   \n",
       "mean      558.118667       3.525149    6836.975867       1.0       0.433469   \n",
       "std       321.639674       1.724264    3084.564786       0.0       0.495554   \n",
       "min         1.000000       1.000000     133.000000       1.0       0.000000   \n",
       "25%       280.000000       2.000000    4758.000000       1.0       0.000000   \n",
       "50%       558.000000       4.000000    6246.000000       1.0       0.000000   \n",
       "75%       836.000000       5.000000    8217.000000       1.0       1.000000   \n",
       "max      1115.000000       7.000000   38037.000000       1.0       1.000000   \n",
       "\n",
       "       SchoolHoliday  \n",
       "count  497409.000000  \n",
       "mean        0.186991  \n",
       "std         0.389905  \n",
       "min         0.000000  \n",
       "25%         0.000000  \n",
       "50%         0.000000  \n",
       "75%         0.000000  \n",
       "max         1.000000  "
      ]
     },
     "execution_count": 47,
     "metadata": {},
     "output_type": "execute_result"
    }
   ],
   "source": [
    "train_data.describe()"
   ]
  },
  {
   "cell_type": "code",
   "execution_count": 48,
   "id": "9d7bb648",
   "metadata": {},
   "outputs": [
    {
     "data": {
      "text/html": [
       "<div>\n",
       "<style scoped>\n",
       "    .dataframe tbody tr th:only-of-type {\n",
       "        vertical-align: middle;\n",
       "    }\n",
       "\n",
       "    .dataframe tbody tr th {\n",
       "        vertical-align: top;\n",
       "    }\n",
       "\n",
       "    .dataframe thead th {\n",
       "        text-align: right;\n",
       "    }\n",
       "</style>\n",
       "<table border=\"1\" class=\"dataframe\">\n",
       "  <thead>\n",
       "    <tr style=\"text-align: right;\">\n",
       "      <th></th>\n",
       "      <th>Date</th>\n",
       "      <th>Store</th>\n",
       "      <th>DayOfWeek</th>\n",
       "      <th>Sales</th>\n",
       "      <th>Open</th>\n",
       "      <th>Promo</th>\n",
       "      <th>StateHoliday</th>\n",
       "      <th>SchoolHoliday</th>\n",
       "    </tr>\n",
       "  </thead>\n",
       "  <tbody>\n",
       "    <tr>\n",
       "      <th>27</th>\n",
       "      <td>2013-01-01</td>\n",
       "      <td>353.0</td>\n",
       "      <td>2.0</td>\n",
       "      <td>3139.0</td>\n",
       "      <td>1.0</td>\n",
       "      <td>0.0</td>\n",
       "      <td>a</td>\n",
       "      <td>1.0</td>\n",
       "    </tr>\n",
       "    <tr>\n",
       "      <th>115</th>\n",
       "      <td>2013-01-01</td>\n",
       "      <td>335.0</td>\n",
       "      <td>2.0</td>\n",
       "      <td>2401.0</td>\n",
       "      <td>1.0</td>\n",
       "      <td>0.0</td>\n",
       "      <td>a</td>\n",
       "      <td>1.0</td>\n",
       "    </tr>\n",
       "    <tr>\n",
       "      <th>147</th>\n",
       "      <td>2013-01-01</td>\n",
       "      <td>512.0</td>\n",
       "      <td>2.0</td>\n",
       "      <td>2646.0</td>\n",
       "      <td>1.0</td>\n",
       "      <td>0.0</td>\n",
       "      <td>a</td>\n",
       "      <td>1.0</td>\n",
       "    </tr>\n",
       "    <tr>\n",
       "      <th>162</th>\n",
       "      <td>2013-01-01</td>\n",
       "      <td>494.0</td>\n",
       "      <td>2.0</td>\n",
       "      <td>3113.0</td>\n",
       "      <td>1.0</td>\n",
       "      <td>0.0</td>\n",
       "      <td>a</td>\n",
       "      <td>1.0</td>\n",
       "    </tr>\n",
       "    <tr>\n",
       "      <th>199</th>\n",
       "      <td>2013-01-01</td>\n",
       "      <td>530.0</td>\n",
       "      <td>2.0</td>\n",
       "      <td>2907.0</td>\n",
       "      <td>1.0</td>\n",
       "      <td>0.0</td>\n",
       "      <td>a</td>\n",
       "      <td>1.0</td>\n",
       "    </tr>\n",
       "  </tbody>\n",
       "</table>\n",
       "</div>"
      ],
      "text/plain": [
       "           Date  Store  DayOfWeek   Sales  Open  Promo StateHoliday  \\\n",
       "27   2013-01-01  353.0        2.0  3139.0   1.0    0.0            a   \n",
       "115  2013-01-01  335.0        2.0  2401.0   1.0    0.0            a   \n",
       "147  2013-01-01  512.0        2.0  2646.0   1.0    0.0            a   \n",
       "162  2013-01-01  494.0        2.0  3113.0   1.0    0.0            a   \n",
       "199  2013-01-01  530.0        2.0  2907.0   1.0    0.0            a   \n",
       "\n",
       "     SchoolHoliday  \n",
       "27             1.0  \n",
       "115            1.0  \n",
       "147            1.0  \n",
       "162            1.0  \n",
       "199            1.0  "
      ]
     },
     "execution_count": 48,
     "metadata": {},
     "output_type": "execute_result"
    }
   ],
   "source": [
    "# show example data \n",
    "train_data.head()"
   ]
  },
  {
   "cell_type": "code",
   "execution_count": 49,
   "id": "2ec510bc",
   "metadata": {},
   "outputs": [
    {
     "data": {
      "text/plain": [
       "array([[<AxesSubplot:title={'center':'Store'}>,\n",
       "        <AxesSubplot:title={'center':'DayOfWeek'}>],\n",
       "       [<AxesSubplot:title={'center':'Sales'}>,\n",
       "        <AxesSubplot:title={'center':'Open'}>],\n",
       "       [<AxesSubplot:title={'center':'Promo'}>,\n",
       "        <AxesSubplot:title={'center':'SchoolHoliday'}>]], dtype=object)"
      ]
     },
     "execution_count": 49,
     "metadata": {},
     "output_type": "execute_result"
    },
    {
     "data": {
      "image/png": "[encoded data removed]",
      "text/plain": [
       "<Figure size 1440x1080 with 6 Axes>"
      ]
     },
     "metadata": {
      "needs_background": "light"
     },
     "output_type": "display_data"
    }
   ],
   "source": [
    "# show histograms\n",
    "%matplotlib inline \n",
    "import matplotlib.pyplot as plt\n",
    "train_data.hist(bins=50, figsize=(20,15))"
   ]
  },
  {
   "cell_type": "code",
   "execution_count": 50,
   "id": "e0184461",
   "metadata": {},
   "outputs": [
    {
     "data": {
      "text/plain": [
       "0      444136\n",
       "0.0     52717\n",
       "a         415\n",
       "b          93\n",
       "c          35\n",
       "Name: StateHoliday, dtype: int64"
      ]
     },
     "execution_count": 50,
     "metadata": {},
     "output_type": "execute_result"
    }
   ],
   "source": [
    "# categorical variable state holiday\n",
    "# what are the possible values\n",
    "train_data['StateHoliday'].value_counts()"
   ]
  },
  {
   "cell_type": "code",
   "execution_count": 53,
   "id": "3f0985ed",
   "metadata": {},
   "outputs": [],
   "source": [
    "# 0 and 0.0 are the same = no holiday\n",
    "train_data['StateHoliday'] = train_data['StateHoliday'].replace(0.0, \"0\")\n",
    "train_data['StateHoliday'] = train_data['StateHoliday'].replace(\"a\", \"Easter\")\n",
    "train_data['StateHoliday'] = train_data['StateHoliday'].replace(\"b\", \"Public\")\n",
    "train_data['StateHoliday'] = train_data['StateHoliday'].replace(\"c\", \"Christmas\")"
   ]
  },
  {
   "cell_type": "code",
   "execution_count": 54,
   "id": "57b7fdb1",
   "metadata": {},
   "outputs": [
    {
     "data": {
      "text/plain": [
       "0            496853\n",
       "Easter          415\n",
       "Public           93\n",
       "Christmas        35\n",
       "Name: StateHoliday, dtype: int64"
      ]
     },
     "execution_count": 54,
     "metadata": {},
     "output_type": "execute_result"
    }
   ],
   "source": [
    "train_data['StateHoliday'].value_counts()"
   ]
  },
  {
   "cell_type": "code",
   "execution_count": null,
   "id": "1cff8204",
   "metadata": {},
   "outputs": [],
   "source": []
  }
 ],
 "metadata": {
  "kernelspec": {
   "display_name": "minicomp",
   "language": "python",
   "name": "minicomp"
  },
  "language_info": {
   "codemirror_mode": {
    "name": "ipython",
    "version": 3
   },
   "file_extension": ".py",
   "mimetype": "text/x-python",
   "name": "python",
   "nbconvert_exporter": "python",
   "pygments_lexer": "ipython3",
   "version": "3.9.4"
  }
 },
 "nbformat": 4,
 "nbformat_minor": 5
}
