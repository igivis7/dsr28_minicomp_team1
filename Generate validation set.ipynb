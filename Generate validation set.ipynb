{
 "cells": [
  {
   "cell_type": "markdown",
   "id": "93a93ebf",
   "metadata": {},
   "source": [
    "# Generate validation set"
   ]
  },
  {
   "cell_type": "code",
   "execution_count": 2,
   "id": "e7faa7bb",
   "metadata": {},
   "outputs": [
    {
     "name": "stderr",
     "output_type": "stream",
     "text": [
      "/home/sabine/miniconda3/envs/minicomp/lib/python3.9/site-packages/IPython/core/interactiveshell.py:3165: DtypeWarning: Columns (7) have mixed types.Specify dtype option on import or set low_memory=False.\n",
      "  has_raised = await self.run_ast_nodes(code_ast.body, cell_name,\n"
     ]
    }
   ],
   "source": [
    "# Load data\n",
    "import pandas as pd\n",
    "train_data = pd.read_csv(\"data/train.csv\")"
   ]
  },
  {
   "cell_type": "code",
   "execution_count": 3,
   "id": "c8318a1a",
   "metadata": {},
   "outputs": [],
   "source": [
    "# drop column \"Customers\" as it won't be in the test dataset\n",
    "train_data.drop(columns = \"Customers\", inplace=True)\n",
    "train_data = train_data[train_data['Sales'] > 0]"
   ]
  },
  {
   "cell_type": "code",
   "execution_count": 7,
   "id": "2dacb816",
   "metadata": {},
   "outputs": [],
   "source": [
    "validation_set = train_data[train_data['Date'] > '2014-04-30']\n",
    "newtrain_set = train_data[train_data['Date'] <= '2014-04-30']"
   ]
  },
  {
   "cell_type": "code",
   "execution_count": 15,
   "id": "b5b0f87f",
   "metadata": {},
   "outputs": [
    {
     "name": "stdout",
     "output_type": "stream",
     "text": [
      "New train set length: 435837\n",
      "New validation set length: 77119\n"
     ]
    }
   ],
   "source": [
    "print(f\"New train set length: {len(newtrain_set)}\")\n",
    "print(f\"New validation set length: {len(validation_set)}\")\n",
    "validation_set.to_csv(\"data/newtrain.csv\", header=True)\n",
    "newtrain_set.to_csv(\"data/validation.csv\", header=True)"
   ]
  },
  {
   "cell_type": "code",
   "execution_count": 9,
   "id": "a2d49d1d",
   "metadata": {},
   "outputs": [
    {
     "data": {
      "text/html": [
       "<div>\n",
       "<style scoped>\n",
       "    .dataframe tbody tr th:only-of-type {\n",
       "        vertical-align: middle;\n",
       "    }\n",
       "\n",
       "    .dataframe tbody tr th {\n",
       "        vertical-align: top;\n",
       "    }\n",
       "\n",
       "    .dataframe thead th {\n",
       "        text-align: right;\n",
       "    }\n",
       "</style>\n",
       "<table border=\"1\" class=\"dataframe\">\n",
       "  <thead>\n",
       "    <tr style=\"text-align: right;\">\n",
       "      <th></th>\n",
       "      <th>Date</th>\n",
       "      <th>Store</th>\n",
       "      <th>DayOfWeek</th>\n",
       "      <th>Sales</th>\n",
       "      <th>Open</th>\n",
       "      <th>Promo</th>\n",
       "      <th>StateHoliday</th>\n",
       "      <th>SchoolHoliday</th>\n",
       "    </tr>\n",
       "  </thead>\n",
       "  <tbody>\n",
       "    <tr>\n",
       "      <th>540801</th>\n",
       "      <td>2014-05-01</td>\n",
       "      <td>353.0</td>\n",
       "      <td>4.0</td>\n",
       "      <td>9336.0</td>\n",
       "      <td>NaN</td>\n",
       "      <td>1.0</td>\n",
       "      <td>a</td>\n",
       "      <td>0.0</td>\n",
       "    </tr>\n",
       "    <tr>\n",
       "      <th>540889</th>\n",
       "      <td>2014-05-01</td>\n",
       "      <td>335.0</td>\n",
       "      <td>4.0</td>\n",
       "      <td>10770.0</td>\n",
       "      <td>1.0</td>\n",
       "      <td>1.0</td>\n",
       "      <td>a</td>\n",
       "      <td>0.0</td>\n",
       "    </tr>\n",
       "    <tr>\n",
       "      <th>540921</th>\n",
       "      <td>2014-05-01</td>\n",
       "      <td>512.0</td>\n",
       "      <td>4.0</td>\n",
       "      <td>7793.0</td>\n",
       "      <td>1.0</td>\n",
       "      <td>1.0</td>\n",
       "      <td>a</td>\n",
       "      <td>0.0</td>\n",
       "    </tr>\n",
       "    <tr>\n",
       "      <th>540934</th>\n",
       "      <td>2014-05-01</td>\n",
       "      <td>494.0</td>\n",
       "      <td>4.0</td>\n",
       "      <td>9561.0</td>\n",
       "      <td>1.0</td>\n",
       "      <td>1.0</td>\n",
       "      <td>a</td>\n",
       "      <td>0.0</td>\n",
       "    </tr>\n",
       "    <tr>\n",
       "      <th>541003</th>\n",
       "      <td>2014-05-01</td>\n",
       "      <td>423.0</td>\n",
       "      <td>4.0</td>\n",
       "      <td>15078.0</td>\n",
       "      <td>1.0</td>\n",
       "      <td>NaN</td>\n",
       "      <td>a</td>\n",
       "      <td>0.0</td>\n",
       "    </tr>\n",
       "  </tbody>\n",
       "</table>\n",
       "</div>"
      ],
      "text/plain": [
       "              Date  Store  DayOfWeek    Sales  Open  Promo StateHoliday  \\\n",
       "540801  2014-05-01  353.0        4.0   9336.0   NaN    1.0            a   \n",
       "540889  2014-05-01  335.0        4.0  10770.0   1.0    1.0            a   \n",
       "540921  2014-05-01  512.0        4.0   7793.0   1.0    1.0            a   \n",
       "540934  2014-05-01  494.0        4.0   9561.0   1.0    1.0            a   \n",
       "541003  2014-05-01  423.0        4.0  15078.0   1.0    NaN            a   \n",
       "\n",
       "        SchoolHoliday  \n",
       "540801            0.0  \n",
       "540889            0.0  \n",
       "540921            0.0  \n",
       "540934            0.0  \n",
       "541003            0.0  "
      ]
     },
     "execution_count": 9,
     "metadata": {},
     "output_type": "execute_result"
    }
   ],
   "source": [
    "validation_set.head()"
   ]
  },
  {
   "cell_type": "code",
   "execution_count": null,
   "id": "1277b79b",
   "metadata": {},
   "outputs": [],
   "source": []
  }
 ],
 "metadata": {
  "kernelspec": {
   "display_name": "minicomp",
   "language": "python",
   "name": "minicomp"
  },
  "language_info": {
   "codemirror_mode": {
    "name": "ipython",
    "version": 3
   },
   "file_extension": ".py",
   "mimetype": "text/x-python",
   "name": "python",
   "nbconvert_exporter": "python",
   "pygments_lexer": "ipython3",
   "version": "3.9.4"
  }
 },
 "nbformat": 4,
 "nbformat_minor": 5
}
