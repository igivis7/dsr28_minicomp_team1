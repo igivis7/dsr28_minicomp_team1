{
 "cells": [
  {
   "cell_type": "markdown",
   "id": "a5ba2031",
   "metadata": {},
   "source": [
    "# Baseline: average sales"
   ]
  },
  {
   "cell_type": "code",
   "execution_count": 6,
   "id": "ac8c3722",
   "metadata": {},
   "outputs": [],
   "source": [
    "# Load data\n",
    "import pandas as pd\n",
    "train_data = pd.read_csv(\"data/newtrain.csv\")"
   ]
  },
  {
   "cell_type": "code",
   "execution_count": 7,
   "id": "cc55f6ea",
   "metadata": {},
   "outputs": [
    {
     "data": {
      "text/html": [
       "<div>\n",
       "<style scoped>\n",
       "    .dataframe tbody tr th:only-of-type {\n",
       "        vertical-align: middle;\n",
       "    }\n",
       "\n",
       "    .dataframe tbody tr th {\n",
       "        vertical-align: top;\n",
       "    }\n",
       "\n",
       "    .dataframe thead th {\n",
       "        text-align: right;\n",
       "    }\n",
       "</style>\n",
       "<table border=\"1\" class=\"dataframe\">\n",
       "  <thead>\n",
       "    <tr style=\"text-align: right;\">\n",
       "      <th></th>\n",
       "      <th>Unnamed: 0</th>\n",
       "      <th>Date</th>\n",
       "      <th>Store</th>\n",
       "      <th>DayOfWeek</th>\n",
       "      <th>Sales</th>\n",
       "      <th>Open</th>\n",
       "      <th>Promo</th>\n",
       "      <th>StateHoliday</th>\n",
       "      <th>SchoolHoliday</th>\n",
       "    </tr>\n",
       "  </thead>\n",
       "  <tbody>\n",
       "    <tr>\n",
       "      <th>435832</th>\n",
       "      <td>540768</td>\n",
       "      <td>2014-04-30</td>\n",
       "      <td>743.0</td>\n",
       "      <td>3.0</td>\n",
       "      <td>4680.0</td>\n",
       "      <td>1.0</td>\n",
       "      <td>1.0</td>\n",
       "      <td>0</td>\n",
       "      <td>0.0</td>\n",
       "    </tr>\n",
       "    <tr>\n",
       "      <th>435833</th>\n",
       "      <td>540769</td>\n",
       "      <td>2014-04-30</td>\n",
       "      <td>744.0</td>\n",
       "      <td>3.0</td>\n",
       "      <td>8833.0</td>\n",
       "      <td>1.0</td>\n",
       "      <td>1.0</td>\n",
       "      <td>NaN</td>\n",
       "      <td>0.0</td>\n",
       "    </tr>\n",
       "    <tr>\n",
       "      <th>435834</th>\n",
       "      <td>540770</td>\n",
       "      <td>2014-04-30</td>\n",
       "      <td>745.0</td>\n",
       "      <td>3.0</td>\n",
       "      <td>10644.0</td>\n",
       "      <td>1.0</td>\n",
       "      <td>1.0</td>\n",
       "      <td>0</td>\n",
       "      <td>0.0</td>\n",
       "    </tr>\n",
       "    <tr>\n",
       "      <th>435835</th>\n",
       "      <td>540771</td>\n",
       "      <td>2014-04-30</td>\n",
       "      <td>746.0</td>\n",
       "      <td>3.0</td>\n",
       "      <td>8316.0</td>\n",
       "      <td>1.0</td>\n",
       "      <td>1.0</td>\n",
       "      <td>0</td>\n",
       "      <td>0.0</td>\n",
       "    </tr>\n",
       "    <tr>\n",
       "      <th>435836</th>\n",
       "      <td>540773</td>\n",
       "      <td>2014-04-30</td>\n",
       "      <td>741.0</td>\n",
       "      <td>3.0</td>\n",
       "      <td>12208.0</td>\n",
       "      <td>1.0</td>\n",
       "      <td>1.0</td>\n",
       "      <td>0</td>\n",
       "      <td>0.0</td>\n",
       "    </tr>\n",
       "  </tbody>\n",
       "</table>\n",
       "</div>"
      ],
      "text/plain": [
       "        Unnamed: 0        Date  Store  DayOfWeek    Sales  Open  Promo  \\\n",
       "435832      540768  2014-04-30  743.0        3.0   4680.0   1.0    1.0   \n",
       "435833      540769  2014-04-30  744.0        3.0   8833.0   1.0    1.0   \n",
       "435834      540770  2014-04-30  745.0        3.0  10644.0   1.0    1.0   \n",
       "435835      540771  2014-04-30  746.0        3.0   8316.0   1.0    1.0   \n",
       "435836      540773  2014-04-30  741.0        3.0  12208.0   1.0    1.0   \n",
       "\n",
       "       StateHoliday  SchoolHoliday  \n",
       "435832            0            0.0  \n",
       "435833          NaN            0.0  \n",
       "435834            0            0.0  \n",
       "435835            0            0.0  \n",
       "435836            0            0.0  "
      ]
     },
     "execution_count": 7,
     "metadata": {},
     "output_type": "execute_result"
    }
   ],
   "source": [
    "train_data.tail()"
   ]
  },
  {
   "cell_type": "code",
   "execution_count": 8,
   "id": "39505200",
   "metadata": {},
   "outputs": [
    {
     "name": "stdout",
     "output_type": "stream",
     "text": [
      "mean sales=6802.905730812207, std=3086.37471195454\n"
     ]
    }
   ],
   "source": [
    "import numpy as np\n",
    "mean = train_data['Sales'].mean()\n",
    "std = train_data['Sales'].std()\n",
    "print(f'mean sales={mean}, std={std}')\n"
   ]
  },
  {
   "cell_type": "code",
   "execution_count": null,
   "id": "ec5bb816",
   "metadata": {},
   "outputs": [],
   "source": []
  }
 ],
 "metadata": {
  "kernelspec": {
   "display_name": "minicomp",
   "language": "python",
   "name": "minicomp"
  },
  "language_info": {
   "codemirror_mode": {
    "name": "ipython",
    "version": 3
   },
   "file_extension": ".py",
   "mimetype": "text/x-python",
   "name": "python",
   "nbconvert_exporter": "python",
   "pygments_lexer": "ipython3",
   "version": "3.9.4"
  }
 },
 "nbformat": 4,
 "nbformat_minor": 5
}
