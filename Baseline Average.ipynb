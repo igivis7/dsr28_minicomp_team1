{
 "cells": [
  {
   "cell_type": "markdown",
   "id": "5f7bf0e9",
   "metadata": {},
   "source": [
    "# Baseline: average sales"
   ]
  },
  {
   "cell_type": "code",
   "execution_count": 21,
   "id": "6736198a",
   "metadata": {},
   "outputs": [],
   "source": [
    "# Load data\n",
    "import pandas as pd\n",
    "train_data = pd.read_csv(\"data/newtrain.csv\")"
   ]
  },
  {
   "cell_type": "code",
   "execution_count": 22,
   "id": "aa277bec",
   "metadata": {},
   "outputs": [
    {
     "data": {
      "text/html": [
       "<div>\n",
       "<style scoped>\n",
       "    .dataframe tbody tr th:only-of-type {\n",
       "        vertical-align: middle;\n",
       "    }\n",
       "\n",
       "    .dataframe tbody tr th {\n",
       "        vertical-align: top;\n",
       "    }\n",
       "\n",
       "    .dataframe thead th {\n",
       "        text-align: right;\n",
       "    }\n",
       "</style>\n",
       "<table border=\"1\" class=\"dataframe\">\n",
       "  <thead>\n",
       "    <tr style=\"text-align: right;\">\n",
       "      <th></th>\n",
       "      <th>Unnamed: 0</th>\n",
       "      <th>Date</th>\n",
       "      <th>Store</th>\n",
       "      <th>DayOfWeek</th>\n",
       "      <th>Sales</th>\n",
       "      <th>Open</th>\n",
       "      <th>Promo</th>\n",
       "      <th>StateHoliday</th>\n",
       "      <th>SchoolHoliday</th>\n",
       "    </tr>\n",
       "  </thead>\n",
       "  <tbody>\n",
       "    <tr>\n",
       "      <th>435832</th>\n",
       "      <td>540768</td>\n",
       "      <td>2014-04-30</td>\n",
       "      <td>743.0</td>\n",
       "      <td>3.0</td>\n",
       "      <td>4680.0</td>\n",
       "      <td>1.0</td>\n",
       "      <td>1.0</td>\n",
       "      <td>0</td>\n",
       "      <td>0.0</td>\n",
       "    </tr>\n",
       "    <tr>\n",
       "      <th>435833</th>\n",
       "      <td>540769</td>\n",
       "      <td>2014-04-30</td>\n",
       "      <td>744.0</td>\n",
       "      <td>3.0</td>\n",
       "      <td>8833.0</td>\n",
       "      <td>1.0</td>\n",
       "      <td>1.0</td>\n",
       "      <td>NaN</td>\n",
       "      <td>0.0</td>\n",
       "    </tr>\n",
       "    <tr>\n",
       "      <th>435834</th>\n",
       "      <td>540770</td>\n",
       "      <td>2014-04-30</td>\n",
       "      <td>745.0</td>\n",
       "      <td>3.0</td>\n",
       "      <td>10644.0</td>\n",
       "      <td>1.0</td>\n",
       "      <td>1.0</td>\n",
       "      <td>0</td>\n",
       "      <td>0.0</td>\n",
       "    </tr>\n",
       "    <tr>\n",
       "      <th>435835</th>\n",
       "      <td>540771</td>\n",
       "      <td>2014-04-30</td>\n",
       "      <td>746.0</td>\n",
       "      <td>3.0</td>\n",
       "      <td>8316.0</td>\n",
       "      <td>1.0</td>\n",
       "      <td>1.0</td>\n",
       "      <td>0</td>\n",
       "      <td>0.0</td>\n",
       "    </tr>\n",
       "    <tr>\n",
       "      <th>435836</th>\n",
       "      <td>540773</td>\n",
       "      <td>2014-04-30</td>\n",
       "      <td>741.0</td>\n",
       "      <td>3.0</td>\n",
       "      <td>12208.0</td>\n",
       "      <td>1.0</td>\n",
       "      <td>1.0</td>\n",
       "      <td>0</td>\n",
       "      <td>0.0</td>\n",
       "    </tr>\n",
       "  </tbody>\n",
       "</table>\n",
       "</div>"
      ],
      "text/plain": [
       "        Unnamed: 0        Date  Store  DayOfWeek    Sales  Open  Promo  \\\n",
       "435832      540768  2014-04-30  743.0        3.0   4680.0   1.0    1.0   \n",
       "435833      540769  2014-04-30  744.0        3.0   8833.0   1.0    1.0   \n",
       "435834      540770  2014-04-30  745.0        3.0  10644.0   1.0    1.0   \n",
       "435835      540771  2014-04-30  746.0        3.0   8316.0   1.0    1.0   \n",
       "435836      540773  2014-04-30  741.0        3.0  12208.0   1.0    1.0   \n",
       "\n",
       "       StateHoliday  SchoolHoliday  \n",
       "435832            0            0.0  \n",
       "435833          NaN            0.0  \n",
       "435834            0            0.0  \n",
       "435835            0            0.0  \n",
       "435836            0            0.0  "
      ]
     },
     "execution_count": 22,
     "metadata": {},
     "output_type": "execute_result"
    }
   ],
   "source": [
    "train_data.tail()"
   ]
  },
  {
   "cell_type": "code",
   "execution_count": 23,
   "id": "1768afd3",
   "metadata": {},
   "outputs": [],
   "source": [
    "# define evaluation metrics\n",
    "def metric(preds, actuals):\n",
    "    preds = preds.reshape(-1)\n",
    "    actuals = actuals.reshape(-1)\n",
    "    assert preds.shape == actuals.shape\n",
    "    return 100 * np.linalg.norm((actuals - preds) / actuals) / np.sqrt(preds.shape[0])"
   ]
  },
  {
   "cell_type": "code",
   "execution_count": 33,
   "id": "a6b4ed14",
   "metadata": {
    "scrolled": true
   },
   "outputs": [
    {
     "name": "stdout",
     "output_type": "stream",
     "text": [
      "metric newtrain=62.18357121836456\n"
     ]
    }
   ],
   "source": [
    "import numpy as np\n",
    "# train set\n",
    "mean = train_data['Sales'].mean()\n",
    "preds = np.full(len(train_data), mean)\n",
    "rmspe = metric(preds, np.array(train_data['Sales']))\n",
    "\n",
    "print(f'metric newtrain={rmspe}')\n"
   ]
  },
  {
   "cell_type": "code",
   "execution_count": 35,
   "id": "1300b32a",
   "metadata": {},
   "outputs": [
    {
     "name": "stdout",
     "output_type": "stream",
     "text": [
      "metric valid=55.175812777068025\n"
     ]
    }
   ],
   "source": [
    "# validation set\n",
    "val_data = pd.read_csv(\"data/validation.csv\")\n",
    "preds = np.full(len(val_data), mean)\n",
    "rmspe = metric(preds, np.array(val_data['Sales']))\n",
    "\n",
    "print(f'metric valid={rmspe}')\n"
   ]
  },
  {
   "cell_type": "markdown",
   "id": "7c3076bf",
   "metadata": {},
   "source": [
    "# Create new categories for stores"
   ]
  },
  {
   "cell_type": "code",
   "execution_count": 44,
   "id": "9c979ad3",
   "metadata": {},
   "outputs": [
    {
     "name": "stdout",
     "output_type": "stream",
     "text": [
      "Store\n",
      "1.0        4825.704485\n",
      "2.0        4863.668407\n",
      "3.0        6909.002660\n",
      "4.0        9371.876640\n",
      "5.0        4656.209302\n",
      "              ...     \n",
      "1111.0     5493.231579\n",
      "1112.0    11131.632275\n",
      "1113.0     6475.711688\n",
      "1114.0    20091.239362\n",
      "1115.0     5729.763636\n",
      "Name: Sales, Length: 1115, dtype: float64\n"
     ]
    },
    {
     "ename": "TypeError",
     "evalue": "'float' object is not subscriptable",
     "output_type": "error",
     "traceback": [
      "\u001b[0;31m---------------------------------------------------------------------------\u001b[0m",
      "\u001b[0;31mTypeError\u001b[0m                                 Traceback (most recent call last)",
      "\u001b[0;32m<ipython-input-44-9d134d6a8d7b>\u001b[0m in \u001b[0;36m<module>\u001b[0;34m\u001b[0m\n\u001b[1;32m      5\u001b[0m \u001b[0;32mfor\u001b[0m \u001b[0ml\u001b[0m \u001b[0;32min\u001b[0m \u001b[0mlimits\u001b[0m\u001b[0;34m:\u001b[0m\u001b[0;34m\u001b[0m\u001b[0;34m\u001b[0m\u001b[0m\n\u001b[1;32m      6\u001b[0m     \u001b[0;32mfor\u001b[0m \u001b[0mm\u001b[0m \u001b[0;32min\u001b[0m \u001b[0mmeans\u001b[0m\u001b[0;34m:\u001b[0m\u001b[0;34m\u001b[0m\u001b[0;34m\u001b[0m\u001b[0m\n\u001b[0;32m----> 7\u001b[0;31m         \u001b[0mprint\u001b[0m\u001b[0;34m(\u001b[0m\u001b[0mm\u001b[0m\u001b[0;34m[\u001b[0m\u001b[0;34m'Store'\u001b[0m\u001b[0;34m]\u001b[0m\u001b[0;34m)\u001b[0m\u001b[0;34m\u001b[0m\u001b[0;34m\u001b[0m\u001b[0m\n\u001b[0m\u001b[1;32m      8\u001b[0m \u001b[0;34m\u001b[0m\u001b[0m\n\u001b[1;32m      9\u001b[0m \u001b[0mtrain_data\u001b[0m\u001b[0;34m[\u001b[0m\u001b[0mtrain_data\u001b[0m\u001b[0;34m[\u001b[0m\u001b[0;34m'Sales'\u001b[0m\u001b[0;34m]\u001b[0m \u001b[0;34m>\u001b[0m \u001b[0;36m5000\u001b[0m\u001b[0;34m,\u001b[0m \u001b[0;34m'Store_cat'\u001b[0m\u001b[0;34m]\u001b[0m \u001b[0;34m=\u001b[0m \u001b[0;34m\"m\"\u001b[0m\u001b[0;34m\u001b[0m\u001b[0;34m\u001b[0m\u001b[0m\n",
      "\u001b[0;31mTypeError\u001b[0m: 'float' object is not subscriptable"
     ]
    }
   ],
   "source": [
    "means = train_data.groupby(['Store']).mean()['Sales']\n",
    "print(means)\n",
    "limits = [0, 5000, 7500, 10000, 10000000]\n",
    "mapping = []\n",
    "for l in limits:\n",
    "    for m in means:\n",
    "        print(m)\n",
    "\n",
    "train_data[train_data['Sales'] > 5000, 'Store_cat'] = \"m\"\n",
    "cat.mask(cat > 7500, \"h\")\n",
    "\n",
    "cat = train_data['Store_cat']\n",
    "cat.mask(cat.mean() > 5000, \"m\")\n",
    "cat.mask(cat.mean() > 7500, \"h\")\n",
    "cat.mask(cat > 10000, \"vh\")\n",
    "train_data.head()"
   ]
  },
  {
   "cell_type": "code",
   "execution_count": null,
   "id": "ef243360",
   "metadata": {},
   "outputs": [],
   "source": []
  }
 ],
 "metadata": {
  "kernelspec": {
   "display_name": "minicomp",
   "language": "python",
   "name": "minicomp"
  },
  "language_info": {
   "codemirror_mode": {
    "name": "ipython",
    "version": 3
   },
   "file_extension": ".py",
   "mimetype": "text/x-python",
   "name": "python",
   "nbconvert_exporter": "python",
   "pygments_lexer": "ipython3",
   "version": "3.9.4"
  }
 },
 "nbformat": 4,
 "nbformat_minor": 5
}
