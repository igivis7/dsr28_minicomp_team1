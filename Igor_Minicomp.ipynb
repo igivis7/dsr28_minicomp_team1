{
 "cells": [
  {
   "cell_type": "code",
   "execution_count": 1,
   "id": "a6415565",
   "metadata": {},
   "outputs": [],
   "source": [
    "import pandas as pd\n",
    "import numpy as np\n",
    "from pandas_profiling import ProfileReport"
   ]
  },
  {
   "cell_type": "code",
   "execution_count": 2,
   "id": "2131d742",
   "metadata": {},
   "outputs": [
    {
     "name": "stderr",
     "output_type": "stream",
     "text": [
      "/home/trix_arch/.conda/envs/minicomp/lib/python3.9/site-packages/IPython/core/interactiveshell.py:3444: DtypeWarning: Columns (7) have mixed types.Specify dtype option on import or set low_memory=False.\n",
      "  exec(code_obj, self.user_global_ns, self.user_ns)\n"
     ]
    }
   ],
   "source": [
    "store_data = pd.read_csv('data/store.csv')\n",
    "train_data = pd.read_csv('data/train.csv')\n",
    "holdout_data = pd.read_csv('data/holdout.csv')"
   ]
  },
  {
   "cell_type": "code",
   "execution_count": 3,
   "id": "68e3946d",
   "metadata": {},
   "outputs": [
    {
     "data": {
      "application/vnd.jupyter.widget-view+json": {
       "model_id": "8782e0172a7e4ced87e3f1cc5f372c50",
       "version_major": 2,
       "version_minor": 0
      },
      "text/plain": [
       "Summarize dataset:   0%|          | 0/5 [00:00<?, ?it/s]"
      ]
     },
     "metadata": {},
     "output_type": "display_data"
    },
    {
     "data": {
      "application/vnd.jupyter.widget-view+json": {
       "model_id": "5a32ff9b093f49d2ad4e420824905497",
       "version_major": 2,
       "version_minor": 0
      },
      "text/plain": [
       "Generate report structure:   0%|          | 0/1 [00:00<?, ?it/s]"
      ]
     },
     "metadata": {},
     "output_type": "display_data"
    },
    {
     "data": {
      "application/vnd.jupyter.widget-view+json": {
       "model_id": "548fb41b804d46f49edca1946e683d16",
       "version_major": 2,
       "version_minor": 0
      },
      "text/plain": [
       "Render HTML:   0%|          | 0/1 [00:00<?, ?it/s]"
      ]
     },
     "metadata": {},
     "output_type": "display_data"
    },
    {
     "data": {
      "application/vnd.jupyter.widget-view+json": {
       "model_id": "f19a74da957e4cc68f37447180d4e05a",
       "version_major": 2,
       "version_minor": 0
      },
      "text/plain": [
       "Export report to file:   0%|          | 0/1 [00:00<?, ?it/s]"
      ]
     },
     "metadata": {},
     "output_type": "display_data"
    }
   ],
   "source": [
    "profile_store_data = ProfileReport(store_data, title=\"Pandas Profiling Report store_data\")\n",
    "profile_store_data.to_file(\"Pandas_Profiling_Report_store_data.html\")"
   ]
  },
  {
   "cell_type": "code",
   "execution_count": null,
   "id": "8c049b35",
   "metadata": {},
   "outputs": [
    {
     "data": {
      "application/vnd.jupyter.widget-view+json": {
       "model_id": "c8be4f4d151548db9e5c831aaeca92c5",
       "version_major": 2,
       "version_minor": 0
      },
      "text/plain": [
       "Summarize dataset:   0%|          | 0/5 [00:00<?, ?it/s]"
      ]
     },
     "metadata": {},
     "output_type": "display_data"
    }
   ],
   "source": [
    "profile_train_data = ProfileReport(train_data, title=\"Pandas Profiling Report train_data\")\n",
    "profile_train_data.to_file(\"Pandas_Profiling_Report_train_data.html\")"
   ]
  },
  {
   "cell_type": "code",
   "execution_count": null,
   "id": "39b43e77",
   "metadata": {},
   "outputs": [],
   "source": [
    "profile_holdout_data = ProfileReport(holdout_data, title=\"Pandas Profiling Report holdout_data\")\n",
    "profile_holdout_data.to_file(\"Pandas_Profiling_Report_holdout_data.html\")"
   ]
  }
 ],
 "metadata": {
  "kernelspec": {
   "display_name": "minicomp_env",
   "language": "python",
   "name": "minicomp"
  },
  "language_info": {
   "codemirror_mode": {
    "name": "ipython",
    "version": 3
   },
   "file_extension": ".py",
   "mimetype": "text/x-python",
   "name": "python",
   "nbconvert_exporter": "python",
   "pygments_lexer": "ipython3",
   "version": "3.9.7"
  }
 },
 "nbformat": 4,
 "nbformat_minor": 5
}
