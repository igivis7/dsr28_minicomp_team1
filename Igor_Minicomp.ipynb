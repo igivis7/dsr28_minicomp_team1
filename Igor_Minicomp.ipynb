{
 "cells": [
  {
   "cell_type": "code",
   "execution_count": 1,
   "id": "a6415565",
   "metadata": {},
   "outputs": [],
   "source": [
    "import pandas as pd\n",
    "import numpy as np\n",
    "from pandas_profiling import ProfileReport\n",
    "import matplotlib.pyplot as plt\n",
    "%matplotlib inline"
   ]
  },
  {
   "cell_type": "code",
   "execution_count": 2,
   "id": "2131d742",
   "metadata": {},
   "outputs": [
    {
     "name": "stderr",
     "output_type": "stream",
     "text": [
      "/home/trix_arch/.conda/envs/minicomp/lib/python3.9/site-packages/IPython/core/interactiveshell.py:3444: DtypeWarning: Columns (7) have mixed types.Specify dtype option on import or set low_memory=False.\n",
      "  exec(code_obj, self.user_global_ns, self.user_ns)\n"
     ]
    }
   ],
   "source": [
    "store_data = pd.read_csv('data/store.csv')\n",
    "train_data = pd.read_csv('data/train.csv')\n",
    "holdout_data = pd.read_csv('data/holdout.csv')\n",
    "validation_set = pd.read_csv('data/validation.csv')\n",
    "newtrain_set = pd.read_csv('data/newtrain.csv')"
   ]
  },
  {
   "cell_type": "code",
   "execution_count": 3,
   "id": "c707d9f1",
   "metadata": {},
   "outputs": [],
   "source": [
    "###############################################################################################\n",
    "###############################################################################################\n",
    "###############################################################################################"
   ]
  },
  {
   "cell_type": "code",
   "execution_count": 4,
   "id": "68e3946d",
   "metadata": {},
   "outputs": [],
   "source": [
    "# profile_store_data = ProfileReport(store_data, title=\"Pandas Profiling Report store_data\")\n",
    "# profile_store_data.to_file(\"Pandas_Profiling_Report_store_data.html\")"
   ]
  },
  {
   "cell_type": "code",
   "execution_count": 5,
   "id": "8c049b35",
   "metadata": {},
   "outputs": [],
   "source": [
    "# profile_train_data = ProfileReport(train_data, title=\"Pandas Profiling Report train_data\")\n",
    "# profile_train_data.to_file(\"Pandas_Profiling_Report_train_data.html\")"
   ]
  },
  {
   "cell_type": "code",
   "execution_count": 6,
   "id": "39b43e77",
   "metadata": {},
   "outputs": [],
   "source": [
    "# profile_holdout_data = ProfileReport(holdout_data, title=\"Pandas Profiling Report holdout_data\")\n",
    "# profile_holdout_data.to_file(\"Pandas_Profiling_Report_holdout_data.html\")"
   ]
  },
  {
   "cell_type": "code",
   "execution_count": 7,
   "id": "26c071bb",
   "metadata": {},
   "outputs": [],
   "source": [
    "###############################################################################################\n",
    "###############################################################################################\n",
    "###############################################################################################"
   ]
  },
  {
   "cell_type": "code",
   "execution_count": 23,
   "id": "06dd4786",
   "metadata": {},
   "outputs": [],
   "source": [
    "average_sales_per_store = pd.DataFrame(columns=['Store_ID', 'Avg_Sales'])\n",
    "average_sales_per_store\n",
    "# for cc1 in train_data['Store'].unique().sort():\n",
    "for cc1 in np.sort(newtrain_set['Store'].unique()):\n",
    "    if not np.isnan(cc1):\n",
    "        average_sales_per_store.loc[cc1,'Store_ID'] = cc1\n",
    "        average_sales_per_store.loc[cc1,'Avg_Sales'] = newtrain_set.loc[newtrain_set.loc[:,'Store']==cc1, \"Sales\"].mean()"
   ]
  },
  {
   "cell_type": "code",
   "execution_count": 24,
   "id": "65d1399c",
   "metadata": {},
   "outputs": [
    {
     "data": {
      "text/html": [
       "<div>\n",
       "<style scoped>\n",
       "    .dataframe tbody tr th:only-of-type {\n",
       "        vertical-align: middle;\n",
       "    }\n",
       "\n",
       "    .dataframe tbody tr th {\n",
       "        vertical-align: top;\n",
       "    }\n",
       "\n",
       "    .dataframe thead th {\n",
       "        text-align: right;\n",
       "    }\n",
       "</style>\n",
       "<table border=\"1\" class=\"dataframe\">\n",
       "  <thead>\n",
       "    <tr style=\"text-align: right;\">\n",
       "      <th></th>\n",
       "      <th>Store_ID</th>\n",
       "      <th>Avg_Sales</th>\n",
       "    </tr>\n",
       "  </thead>\n",
       "  <tbody>\n",
       "    <tr>\n",
       "      <th>1.0</th>\n",
       "      <td>1.0</td>\n",
       "      <td>4825.704485</td>\n",
       "    </tr>\n",
       "    <tr>\n",
       "      <th>2.0</th>\n",
       "      <td>2.0</td>\n",
       "      <td>4863.668407</td>\n",
       "    </tr>\n",
       "    <tr>\n",
       "      <th>3.0</th>\n",
       "      <td>3.0</td>\n",
       "      <td>6909.002660</td>\n",
       "    </tr>\n",
       "    <tr>\n",
       "      <th>4.0</th>\n",
       "      <td>4.0</td>\n",
       "      <td>9371.876640</td>\n",
       "    </tr>\n",
       "    <tr>\n",
       "      <th>5.0</th>\n",
       "      <td>5.0</td>\n",
       "      <td>4656.209302</td>\n",
       "    </tr>\n",
       "    <tr>\n",
       "      <th>...</th>\n",
       "      <td>...</td>\n",
       "      <td>...</td>\n",
       "    </tr>\n",
       "    <tr>\n",
       "      <th>1111.0</th>\n",
       "      <td>1111.0</td>\n",
       "      <td>5493.231579</td>\n",
       "    </tr>\n",
       "    <tr>\n",
       "      <th>1112.0</th>\n",
       "      <td>1112.0</td>\n",
       "      <td>11131.632275</td>\n",
       "    </tr>\n",
       "    <tr>\n",
       "      <th>1113.0</th>\n",
       "      <td>1113.0</td>\n",
       "      <td>6475.711688</td>\n",
       "    </tr>\n",
       "    <tr>\n",
       "      <th>1114.0</th>\n",
       "      <td>1114.0</td>\n",
       "      <td>20091.239362</td>\n",
       "    </tr>\n",
       "    <tr>\n",
       "      <th>1115.0</th>\n",
       "      <td>1115.0</td>\n",
       "      <td>5729.763636</td>\n",
       "    </tr>\n",
       "  </tbody>\n",
       "</table>\n",
       "<p>1115 rows × 2 columns</p>\n",
       "</div>"
      ],
      "text/plain": [
       "        Store_ID     Avg_Sales\n",
       "1.0          1.0   4825.704485\n",
       "2.0          2.0   4863.668407\n",
       "3.0          3.0   6909.002660\n",
       "4.0          4.0   9371.876640\n",
       "5.0          5.0   4656.209302\n",
       "...          ...           ...\n",
       "1111.0    1111.0   5493.231579\n",
       "1112.0    1112.0  11131.632275\n",
       "1113.0    1113.0   6475.711688\n",
       "1114.0    1114.0  20091.239362\n",
       "1115.0    1115.0   5729.763636\n",
       "\n",
       "[1115 rows x 2 columns]"
      ]
     },
     "execution_count": 24,
     "metadata": {},
     "output_type": "execute_result"
    }
   ],
   "source": [
    "average_sales_per_store"
   ]
  },
  {
   "cell_type": "code",
   "execution_count": 25,
   "id": "c413df45",
   "metadata": {},
   "outputs": [
    {
     "data": {
      "text/plain": [
       "[<matplotlib.lines.Line2D at 0x7fbfc6d2ba00>]"
      ]
     },
     "execution_count": 25,
     "metadata": {},
     "output_type": "execute_result"
    },
    {
     "data": {
      "image/png": "[encoded data removed]",
      "text/plain": [
       "<Figure size 432x288 with 1 Axes>"
      ]
     },
     "metadata": {
      "needs_background": "light"
     },
     "output_type": "display_data"
    }
   ],
   "source": [
    "plt.plot(average_sales_per_store[\"Store_ID\"], average_sales_per_store[\"Avg_Sales\"])"
   ]
  },
  {
   "cell_type": "code",
   "execution_count": 26,
   "id": "01283f25",
   "metadata": {},
   "outputs": [
    {
     "data": {
      "text/plain": [
       "<AxesSubplot:>"
      ]
     },
     "execution_count": 26,
     "metadata": {},
     "output_type": "execute_result"
    },
    {
     "data": {
      "image/png": "[encoded data removed]",
      "text/plain": [
       "<Figure size 432x288 with 1 Axes>"
      ]
     },
     "metadata": {
      "needs_background": "light"
     },
     "output_type": "display_data"
    }
   ],
   "source": [
    "average_sales_per_store[\"Avg_Sales\"].hist(bins=200)"
   ]
  },
  {
   "cell_type": "code",
   "execution_count": 27,
   "id": "4ae1a675",
   "metadata": {},
   "outputs": [
    {
     "data": {
      "text/plain": [
       "<AxesSubplot:>"
      ]
     },
     "execution_count": 27,
     "metadata": {},
     "output_type": "execute_result"
    },
    {
     "data": {
      "image/png": "[encoded data removed]",
      "text/plain": [
       "<Figure size 432x288 with 1 Axes>"
      ]
     },
     "metadata": {
      "needs_background": "light"
     },
     "output_type": "display_data"
    }
   ],
   "source": [
    "newtrain_set[\"Store\"].hist(bins=200)"
   ]
  },
  {
   "cell_type": "code",
   "execution_count": null,
   "id": "3547cfbe",
   "metadata": {},
   "outputs": [],
   "source": [
    "###############################################################################################\n",
    "###############################################################################################\n",
    "###############################################################################################"
   ]
  },
  {
   "cell_type": "code",
   "execution_count": 41,
   "id": "c6bfae22",
   "metadata": {},
   "outputs": [
    {
     "data": {
      "text/plain": [
       "pandas.core.frame.DataFrame"
      ]
     },
     "execution_count": 41,
     "metadata": {},
     "output_type": "execute_result"
    }
   ],
   "source": [
    "actual_values_df = validation_set[[\"Store\",\"Sales\"]]\n",
    "type(actual_values_df)"
   ]
  },
  {
   "cell_type": "code",
   "execution_count": 39,
   "id": "8ed57f95",
   "metadata": {},
   "outputs": [
    {
     "data": {
      "text/html": [
       "<div>\n",
       "<style scoped>\n",
       "    .dataframe tbody tr th:only-of-type {\n",
       "        vertical-align: middle;\n",
       "    }\n",
       "\n",
       "    .dataframe tbody tr th {\n",
       "        vertical-align: top;\n",
       "    }\n",
       "\n",
       "    .dataframe thead th {\n",
       "        text-align: right;\n",
       "    }\n",
       "</style>\n",
       "<table border=\"1\" class=\"dataframe\">\n",
       "  <thead>\n",
       "    <tr style=\"text-align: right;\">\n",
       "      <th></th>\n",
       "      <th>Store</th>\n",
       "      <th>Sales</th>\n",
       "      <th>Store_ID</th>\n",
       "      <th>Avg_Sales</th>\n",
       "    </tr>\n",
       "  </thead>\n",
       "  <tbody>\n",
       "    <tr>\n",
       "      <th>0</th>\n",
       "      <td>353.0</td>\n",
       "      <td>9336.0</td>\n",
       "      <td>353.0</td>\n",
       "      <td>4977.901345</td>\n",
       "    </tr>\n",
       "    <tr>\n",
       "      <th>46</th>\n",
       "      <td>353.0</td>\n",
       "      <td>5828.0</td>\n",
       "      <td>353.0</td>\n",
       "      <td>4977.901345</td>\n",
       "    </tr>\n",
       "    <tr>\n",
       "      <th>1122</th>\n",
       "      <td>353.0</td>\n",
       "      <td>4903.0</td>\n",
       "      <td>353.0</td>\n",
       "      <td>4977.901345</td>\n",
       "    </tr>\n",
       "    <tr>\n",
       "      <th>2186</th>\n",
       "      <td>353.0</td>\n",
       "      <td>7418.0</td>\n",
       "      <td>353.0</td>\n",
       "      <td>4977.901345</td>\n",
       "    </tr>\n",
       "    <tr>\n",
       "      <th>2246</th>\n",
       "      <td>353.0</td>\n",
       "      <td>6223.0</td>\n",
       "      <td>353.0</td>\n",
       "      <td>4977.901345</td>\n",
       "    </tr>\n",
       "  </tbody>\n",
       "</table>\n",
       "</div>"
      ],
      "text/plain": [
       "      Store   Sales  Store_ID    Avg_Sales\n",
       "0     353.0  9336.0     353.0  4977.901345\n",
       "46    353.0  5828.0     353.0  4977.901345\n",
       "1122  353.0  4903.0     353.0  4977.901345\n",
       "2186  353.0  7418.0     353.0  4977.901345\n",
       "2246  353.0  6223.0     353.0  4977.901345"
      ]
     },
     "execution_count": 39,
     "metadata": {},
     "output_type": "execute_result"
    }
   ],
   "source": [
    "combine_df_4metric = actual_values_df.merge(\n",
    "                                average_sales_per_store, \n",
    "                                left_on='Store', right_on='Store_ID', \n",
    "                                how='left')\n",
    "\n",
    "combine_df_4metric.loc[a[\"Store\"]==353,:].head()"
   ]
  },
  {
   "cell_type": "code",
   "execution_count": 54,
   "id": "7c8b53fb",
   "metadata": {},
   "outputs": [
    {
     "data": {
      "text/plain": [
       "numpy.ndarray"
      ]
     },
     "execution_count": 54,
     "metadata": {},
     "output_type": "execute_result"
    }
   ],
   "source": [
    "type( np.array(combine_df_4metric['Avg_Sales']) )"
   ]
  },
  {
   "cell_type": "code",
   "execution_count": 86,
   "id": "b48904cd",
   "metadata": {},
   "outputs": [],
   "source": [
    "def metric(preds, actuals):\n",
    "    preds = preds.reshape(-1)\n",
    "    actuals = actuals.reshape(-1)\n",
    "    assert preds.shape == actuals.shape\n",
    "    print(actuals)\n",
    "    print(np.linalg.norm((actuals - preds) / actuals))\n",
    "    return 100 * np.linalg.norm((actuals - preds) / actuals) / np.sqrt(preds.shape[0])"
   ]
  },
  {
   "cell_type": "code",
   "execution_count": 96,
   "id": "e4fba950",
   "metadata": {},
   "outputs": [
    {
     "name": "stdout",
     "output_type": "stream",
     "text": [
      "count    77119.000000\n",
      "mean      7029.522789\n",
      "std       3067.231079\n",
      "min        638.000000\n",
      "25%       4965.000000\n",
      "50%       6467.000000\n",
      "75%       8431.000000\n",
      "max      38037.000000\n",
      "Name: Sales, dtype: float64\n",
      "[ 9336. 10770.  7793. ... 10564. 12302.  3913.]\n",
      "nan\n"
     ]
    },
    {
     "data": {
      "text/plain": [
       "nan"
      ]
     },
     "execution_count": 96,
     "metadata": {},
     "output_type": "execute_result"
    }
   ],
   "source": [
    "preds_avgs = np.array(combine_df_4metric['Avg_Sales'])\n",
    "actuals_avgs = np.array(combine_df_4metric['Sales'])\n",
    "\n",
    "preds_avgs = preds_avgs.reshape(preds_avgs.shape[0],1)\n",
    "actuals_avgs = actuals_avgs.reshape(actuals_avgs.shape[0],1)\n",
    "print(combine_df_4metric['Sales'].describe())\n",
    "#np.array(actuals_avgs).isnull().values\n",
    "metric(preds_avgs, actuals_avgs)"
   ]
  },
  {
   "cell_type": "code",
   "execution_count": 73,
   "id": "dc205307",
   "metadata": {},
   "outputs": [
    {
     "name": "stdout",
     "output_type": "stream",
     "text": [
      "(77119, 1)\n",
      "(77119, 1)\n"
     ]
    }
   ],
   "source": [
    "assert preds_avgs.shape == actuals_avgs.shape\n",
    "print(preds_avgs.shape)\n",
    "print(actuals_avgs.shape)"
   ]
  },
  {
   "cell_type": "code",
   "execution_count": 110,
   "id": "16457b93",
   "metadata": {},
   "outputs": [
    {
     "name": "stdout",
     "output_type": "stream",
     "text": [
      "0\n",
      "nan\n"
     ]
    },
    {
     "data": {
      "text/plain": [
       "nan"
      ]
     },
     "execution_count": 110,
     "metadata": {},
     "output_type": "execute_result"
    }
   ],
   "source": [
    "predsT = np.array(preds_avgs.reshape(-1))\n",
    "actualsT = np.array(actuals_avgs.reshape(-1))\n",
    "print(np.sum(predsT == np.nan))\n",
    "print(np.linalg.norm((1 - predsT) / 1))\n",
    "#assert predsT.shape == actualsT.shape\n",
    "100 * np.linalg.norm((actualsT - predsT) / actualsT) / np.sqrt(predsT.shape[0])"
   ]
  },
  {
   "cell_type": "code",
   "execution_count": 98,
   "id": "e5dc7b08",
   "metadata": {},
   "outputs": [
    {
     "data": {
      "text/plain": [
       "nan"
      ]
     },
     "execution_count": 98,
     "metadata": {},
     "output_type": "execute_result"
    }
   ],
   "source": [
    "np.linalg.norm((actualsT - predsT))"
   ]
  }
 ],
 "metadata": {
  "kernelspec": {
   "display_name": "minicomp_env",
   "language": "python",
   "name": "minicomp"
  },
  "language_info": {
   "codemirror_mode": {
    "name": "ipython",
    "version": 3
   },
   "file_extension": ".py",
   "mimetype": "text/x-python",
   "name": "python",
   "nbconvert_exporter": "python",
   "pygments_lexer": "ipython3",
   "version": "3.9.7"
  }
 },
 "nbformat": 4,
 "nbformat_minor": 5
}
